{
 "cells": [
  {
   "cell_type": "markdown",
   "id": "afc92861-86dc-44ad-b27c-b5ffd044472a",
   "metadata": {},
   "source": [
    "# ¿Que más se podría hacer?"
   ]
  },
  {
   "cell_type": "markdown",
   "id": "704dd533-a652-4bbf-97b9-e2923e11d78d",
   "metadata": {},
   "source": [
    "- Test con data augmentation y la LSTM\n",
    "- Usar los tokenizadores usados en los transformers para ver como funcionan\n",
    "- TSNE de embeddings y analizar si hay interpretación\n",
    "- Probar con otras encimas o proteinas\n",
    "- Usar los embeddings entrenados para analizar resultados de proteinas o encimas con menos data\n",
    "- Entrenar una red neuronal con los features (fingerprints por ejemplo) y comparar los resultados con los embeddings\n"
   ]
  },
  {
   "cell_type": "markdown",
   "id": "2085f015-56fa-4364-958d-b7a0786372af",
   "metadata": {},
   "source": [
    "# Tome cualquiera de estas propuestas o alguna suya y desarrolle"
   ]
  },
  {
   "cell_type": "markdown",
   "id": "e11e2652",
   "metadata": {},
   "source": [
    "- Test con data augmentation y la LSTM"
   ]
  },
  {
   "cell_type": "code",
   "execution_count": 7,
   "id": "839f4023",
   "metadata": {},
   "outputs": [],
   "source": [
    "import pandas as pd\n",
    "import numpy as np\n",
    "from rdkit import Chem\n",
    "from datagen import smiles_dict, smiles_to_seq"
   ]
  },
  {
   "cell_type": "code",
   "execution_count": 8,
   "id": "85d9ea25",
   "metadata": {},
   "outputs": [],
   "source": [
    "from dataaug import SmilesEnumerator"
   ]
  },
  {
   "cell_type": "code",
   "execution_count": 9,
   "id": "6151b451",
   "metadata": {},
   "outputs": [],
   "source": [
    "df = pd.read_csv('data/acetylcholinesterase_02_bioactivity_data_preprocessed.csv')"
   ]
  },
  {
   "cell_type": "code",
   "execution_count": 10,
   "id": "e86a1527",
   "metadata": {},
   "outputs": [
    {
     "data": {
      "text/html": [
       "<div>\n",
       "<style scoped>\n",
       "    .dataframe tbody tr th:only-of-type {\n",
       "        vertical-align: middle;\n",
       "    }\n",
       "\n",
       "    .dataframe tbody tr th {\n",
       "        vertical-align: top;\n",
       "    }\n",
       "\n",
       "    .dataframe thead th {\n",
       "        text-align: right;\n",
       "    }\n",
       "</style>\n",
       "<table border=\"1\" class=\"dataframe\">\n",
       "  <thead>\n",
       "    <tr style=\"text-align: right;\">\n",
       "      <th></th>\n",
       "      <th>molecule_chembl_id</th>\n",
       "      <th>canonical_smiles</th>\n",
       "      <th>standard_value</th>\n",
       "      <th>standard_value_norm</th>\n",
       "      <th>pIC50</th>\n",
       "    </tr>\n",
       "  </thead>\n",
       "  <tbody>\n",
       "    <tr>\n",
       "      <th>0</th>\n",
       "      <td>CHEMBL133897</td>\n",
       "      <td>CCOc1nn(-c2cccc(OCc3ccccc3)c2)c(=O)o1</td>\n",
       "      <td>750.0</td>\n",
       "      <td>750.0</td>\n",
       "      <td>6.124939</td>\n",
       "    </tr>\n",
       "    <tr>\n",
       "      <th>1</th>\n",
       "      <td>CHEMBL336398</td>\n",
       "      <td>O=C(N1CCCCC1)n1nc(-c2ccc(Cl)cc2)nc1SCC1CC1</td>\n",
       "      <td>100.0</td>\n",
       "      <td>100.0</td>\n",
       "      <td>7.000000</td>\n",
       "    </tr>\n",
       "    <tr>\n",
       "      <th>2</th>\n",
       "      <td>CHEMBL131588</td>\n",
       "      <td>CN(C(=O)n1nc(-c2ccc(Cl)cc2)nc1SCC(F)(F)F)c1ccccc1</td>\n",
       "      <td>50000.0</td>\n",
       "      <td>50000.0</td>\n",
       "      <td>4.301030</td>\n",
       "    </tr>\n",
       "    <tr>\n",
       "      <th>3</th>\n",
       "      <td>CHEMBL130628</td>\n",
       "      <td>O=C(N1CCCCC1)n1nc(-c2ccc(Cl)cc2)nc1SCC(F)(F)F</td>\n",
       "      <td>300.0</td>\n",
       "      <td>300.0</td>\n",
       "      <td>6.522879</td>\n",
       "    </tr>\n",
       "    <tr>\n",
       "      <th>4</th>\n",
       "      <td>CHEMBL130478</td>\n",
       "      <td>CSc1nc(-c2ccc(OC(F)(F)F)cc2)nn1C(=O)N(C)C</td>\n",
       "      <td>800.0</td>\n",
       "      <td>800.0</td>\n",
       "      <td>6.096910</td>\n",
       "    </tr>\n",
       "  </tbody>\n",
       "</table>\n",
       "</div>"
      ],
      "text/plain": [
       "  molecule_chembl_id                                   canonical_smiles  \\\n",
       "0       CHEMBL133897              CCOc1nn(-c2cccc(OCc3ccccc3)c2)c(=O)o1   \n",
       "1       CHEMBL336398         O=C(N1CCCCC1)n1nc(-c2ccc(Cl)cc2)nc1SCC1CC1   \n",
       "2       CHEMBL131588  CN(C(=O)n1nc(-c2ccc(Cl)cc2)nc1SCC(F)(F)F)c1ccccc1   \n",
       "3       CHEMBL130628      O=C(N1CCCCC1)n1nc(-c2ccc(Cl)cc2)nc1SCC(F)(F)F   \n",
       "4       CHEMBL130478          CSc1nc(-c2ccc(OC(F)(F)F)cc2)nn1C(=O)N(C)C   \n",
       "\n",
       "   standard_value  standard_value_norm     pIC50  \n",
       "0           750.0                750.0  6.124939  \n",
       "1           100.0                100.0  7.000000  \n",
       "2         50000.0              50000.0  4.301030  \n",
       "3           300.0                300.0  6.522879  \n",
       "4           800.0                800.0  6.096910  "
      ]
     },
     "execution_count": 10,
     "metadata": {},
     "output_type": "execute_result"
    }
   ],
   "source": [
    "df.head(5)"
   ]
  },
  {
   "cell_type": "code",
   "execution_count": 15,
   "id": "e3aed783",
   "metadata": {},
   "outputs": [],
   "source": [
    "X = df['canonical_smiles'].values\n",
    "y = df['pIC50'].values"
   ]
  },
  {
   "cell_type": "code",
   "execution_count": 16,
   "id": "36d61c41",
   "metadata": {},
   "outputs": [
    {
     "data": {
      "text/plain": [
       "(5824, range(0, 5823))"
      ]
     },
     "execution_count": 16,
     "metadata": {},
     "output_type": "execute_result"
    }
   ],
   "source": [
    "len(X),range(len(X)-1)"
   ]
  },
  {
   "cell_type": "code",
   "execution_count": 17,
   "id": "1e4a7a05",
   "metadata": {},
   "outputs": [],
   "source": [
    "sme = SmilesEnumerator()"
   ]
  },
  {
   "cell_type": "code",
   "execution_count": 18,
   "id": "be48da64",
   "metadata": {},
   "outputs": [],
   "source": [
    "for i in range(len(X)):\n",
    "    if i==0:\n",
    "        x1=np.array(sme.randomize_smiles(X[i]))\n",
    "    else:\n",
    "        x1=np.append(x1, np.array(sme.randomize_smiles(X[i])))"
   ]
  },
  {
   "cell_type": "code",
   "execution_count": 19,
   "id": "1fff2696",
   "metadata": {},
   "outputs": [],
   "source": [
    "for i in range(len(X)):\n",
    "    if i==0:\n",
    "        x2=np.array(sme.randomize_smiles(X[i]))\n",
    "    else:\n",
    "        x2=np.append(x2, np.array(sme.randomize_smiles(X[i])))"
   ]
  },
  {
   "cell_type": "code",
   "execution_count": 20,
   "id": "5668207f",
   "metadata": {},
   "outputs": [
    {
     "data": {
      "text/plain": [
       "('COc1ccc(C(=O)/C(SCC[N+](C)(C)C)=N/O)cc1.[Cl-]',\n",
       " 'COc1ccc(C(=O)/C(=N/O)SCC[N+](C)(C)C)cc1.[Cl-]',\n",
       " 'C(S/C(C(=O)c1ccc(OC)cc1)=N\\\\O)C[N+](C)(C)C.[Cl-]')"
      ]
     },
     "execution_count": 20,
     "metadata": {},
     "output_type": "execute_result"
    }
   ],
   "source": [
    "x1[50],X[50],x2[50]"
   ]
  },
  {
   "cell_type": "markdown",
   "id": "887e788b",
   "metadata": {},
   "source": [
    "## Son estas moleculas iguales?"
   ]
  },
  {
   "cell_type": "code",
   "execution_count": 21,
   "id": "baed86c4",
   "metadata": {},
   "outputs": [
    {
     "data": {
      "image/png": "[encoded data removed]",
      "text/plain": [
       "<rdkit.Chem.rdchem.Mol at 0x24f052af450>"
      ]
     },
     "execution_count": 21,
     "metadata": {},
     "output_type": "execute_result"
    }
   ],
   "source": [
    "Chem.MolFromSmiles(X[50])"
   ]
  },
  {
   "cell_type": "code",
   "execution_count": 22,
   "id": "0ae5167c",
   "metadata": {},
   "outputs": [
    {
     "data": {
      "image/png": "[encoded data removed]",
      "text/plain": [
       "<rdkit.Chem.rdchem.Mol at 0x24f052af8d0>"
      ]
     },
     "execution_count": 22,
     "metadata": {},
     "output_type": "execute_result"
    }
   ],
   "source": [
    "Chem.MolFromSmiles(x1[50])\n"
   ]
  },
  {
   "cell_type": "code",
   "execution_count": 23,
   "id": "4f336cdc",
   "metadata": {},
   "outputs": [
    {
     "data": {
      "image/png": "[encoded data removed]",
      "text/plain": [
       "<rdkit.Chem.rdchem.Mol at 0x24f052af810>"
      ]
     },
     "execution_count": 23,
     "metadata": {},
     "output_type": "execute_result"
    }
   ],
   "source": [
    "Chem.MolFromSmiles(x2[50])"
   ]
  },
  {
   "cell_type": "code",
   "execution_count": 24,
   "id": "88612f86",
   "metadata": {},
   "outputs": [],
   "source": [
    "X=np.append(X,x1)"
   ]
  },
  {
   "cell_type": "code",
   "execution_count": 25,
   "id": "a076ebbb",
   "metadata": {},
   "outputs": [],
   "source": [
    "X=np.append(X,x2)"
   ]
  },
  {
   "cell_type": "code",
   "execution_count": 26,
   "id": "2d51c1b2",
   "metadata": {},
   "outputs": [
    {
     "data": {
      "text/plain": [
       "((17472,), (5824,), 17472)"
      ]
     },
     "execution_count": 26,
     "metadata": {},
     "output_type": "execute_result"
    }
   ],
   "source": [
    "X.shape,x1.shape,5824*3"
   ]
  },
  {
   "cell_type": "code",
   "execution_count": 27,
   "id": "8d95d266",
   "metadata": {},
   "outputs": [],
   "source": [
    "y1 = np.hstack([y, y])"
   ]
  },
  {
   "cell_type": "code",
   "execution_count": 28,
   "id": "04a9578f",
   "metadata": {},
   "outputs": [],
   "source": [
    "y= np.hstack([y1, y])"
   ]
  },
  {
   "cell_type": "code",
   "execution_count": 29,
   "id": "f697d135",
   "metadata": {},
   "outputs": [
    {
     "data": {
      "text/plain": [
       "(3.0,\n",
       " 3.0,\n",
       " 3.0,\n",
       " 'COc1ccc(C(=O)/C(=N/O)SCC[N+](C)(C)C)cc1.[Cl-]',\n",
       " 'COc1ccc(C(=O)/C(SCC[N+](C)(C)C)=N/O)cc1.[Cl-]',\n",
       " 'C(S/C(C(=O)c1ccc(OC)cc1)=N\\\\O)C[N+](C)(C)C.[Cl-]')"
      ]
     },
     "execution_count": 29,
     "metadata": {},
     "output_type": "execute_result"
    }
   ],
   "source": [
    "y[50],y[5824+50],y[2*5824+50],X[50],X[5824+50],X[2*5824+50]"
   ]
  },
  {
   "cell_type": "code",
   "execution_count": 30,
   "id": "d427fac9",
   "metadata": {},
   "outputs": [
    {
     "data": {
      "text/plain": [
       "{'c': 1,\n",
       " 'C': 2,\n",
       " '(': 3,\n",
       " ')': 4,\n",
       " '1': 5,\n",
       " 'O': 6,\n",
       " '2': 7,\n",
       " 'N': 8,\n",
       " '=': 9,\n",
       " '3': 10,\n",
       " '[': 11,\n",
       " ']': 12,\n",
       " 'n': 13,\n",
       " '@': 14,\n",
       " '4': 15,\n",
       " 'H': 16,\n",
       " '-': 17,\n",
       " '/': 18,\n",
       " 'l': 19,\n",
       " '.': 20,\n",
       " '+': 21,\n",
       " 'F': 22,\n",
       " '5': 23,\n",
       " 'o': 24,\n",
       " 'B': 25,\n",
       " 'r': 26,\n",
       " 'S': 27,\n",
       " '\\\\': 28,\n",
       " '#': 29,\n",
       " 's': 30,\n",
       " '6': 31,\n",
       " 'I': 32,\n",
       " 'e': 33,\n",
       " 'P': 34,\n",
       " '7': 35,\n",
       " '8': 36,\n",
       " 'i': 37,\n",
       " 'a': 38,\n",
       " '9': 39}"
      ]
     },
     "execution_count": 30,
     "metadata": {},
     "output_type": "execute_result"
    }
   ],
   "source": [
    "from tensorflow.keras.preprocessing.text import Tokenizer\n",
    "from tensorflow.keras.preprocessing.sequence import pad_sequences\n",
    "token=Tokenizer(char_level=True, lower=False)\n",
    "token.fit_on_texts(X)\n",
    "token.word_index"
   ]
  },
  {
   "cell_type": "code",
   "execution_count": 31,
   "id": "692f6987",
   "metadata": {},
   "outputs": [],
   "source": [
    "X_seq = token.texts_to_sequences(X)"
   ]
  },
  {
   "cell_type": "code",
   "execution_count": 32,
   "id": "f2131cc0",
   "metadata": {},
   "outputs": [],
   "source": [
    "X_seq_pad = pad_sequences(X_seq)"
   ]
  },
  {
   "cell_type": "markdown",
   "id": "769aabcc",
   "metadata": {},
   "source": [
    "# Split"
   ]
  },
  {
   "cell_type": "code",
   "execution_count": 33,
   "id": "60b96d20",
   "metadata": {},
   "outputs": [],
   "source": [
    "from sklearn.model_selection import train_test_split"
   ]
  },
  {
   "cell_type": "code",
   "execution_count": 34,
   "id": "64951074",
   "metadata": {},
   "outputs": [],
   "source": [
    "X_train, X_test, y_train, y_test = train_test_split(X_seq_pad, y, test_size=0.2, random_state=42)"
   ]
  },
  {
   "cell_type": "code",
   "execution_count": 35,
   "id": "0ab0436c",
   "metadata": {},
   "outputs": [],
   "source": [
    "X_train = np.vstack([X_train, X_train[:, ::-1]])"
   ]
  },
  {
   "cell_type": "code",
   "execution_count": 36,
   "id": "13bf5c4f",
   "metadata": {},
   "outputs": [],
   "source": [
    "y_train = np.hstack([y_train, y_train])"
   ]
  },
  {
   "cell_type": "code",
   "execution_count": 37,
   "id": "756eef69",
   "metadata": {},
   "outputs": [
    {
     "data": {
      "text/plain": [
       "((27954, 209), (27954,))"
      ]
     },
     "execution_count": 37,
     "metadata": {},
     "output_type": "execute_result"
    }
   ],
   "source": [
    "X_train.shape,y_train.shape"
   ]
  },
  {
   "cell_type": "markdown",
   "id": "55535579",
   "metadata": {},
   "source": [
    "# Network Model"
   ]
  },
  {
   "cell_type": "code",
   "execution_count": 38,
   "id": "f1688d01",
   "metadata": {},
   "outputs": [],
   "source": [
    "from tensorflow.keras import Sequential\n",
    "from tensorflow.keras.layers import LSTM, Dense, Embedding, Bidirectional, Dropout, Activation, BatchNormalization\n",
    "from tensorflow.keras.callbacks import ModelCheckpoint, ReduceLROnPlateau, EarlyStopping\n",
    "from tensorflow.keras.optimizers import Adam, RMSprop\n",
    "from tensorflow.keras import backend as K"
   ]
  },
  {
   "cell_type": "code",
   "execution_count": 39,
   "id": "01f4b635",
   "metadata": {},
   "outputs": [],
   "source": [
    "# Métrica\n",
    "\n",
    "def R2(y_true, y_pred):\n",
    "    SS_res =  K.sum(K.square( y_true-y_pred ))\n",
    "    SS_tot = K.sum(K.square( y_true - K.mean(y_true) ) )\n",
    "    return ( 1 - SS_res/(SS_tot + K.epsilon()) )"
   ]
  },
  {
   "cell_type": "code",
   "execution_count": 40,
   "id": "67857e82",
   "metadata": {},
   "outputs": [
    {
     "data": {
      "text/plain": [
       "39"
      ]
     },
     "execution_count": 40,
     "metadata": {},
     "output_type": "execute_result"
    }
   ],
   "source": [
    "vocab_size = len(token.word_index)\n",
    "vocab_size"
   ]
  },
  {
   "cell_type": "code",
   "execution_count": 41,
   "id": "e40e73dd",
   "metadata": {},
   "outputs": [
    {
     "data": {
      "text/plain": [
       "209"
      ]
     },
     "execution_count": 41,
     "metadata": {},
     "output_type": "execute_result"
    }
   ],
   "source": [
    "max_sequence_len = X_seq_pad.shape[1]\n",
    "max_sequence_len"
   ]
  },
  {
   "cell_type": "code",
   "execution_count": null,
   "id": "ce1312f8",
   "metadata": {},
   "outputs": [],
   "source": []
  },
  {
   "cell_type": "code",
   "execution_count": 42,
   "id": "1326b1b4",
   "metadata": {},
   "outputs": [],
   "source": [
    "model = Sequential()\n",
    "model.add(Embedding(vocab_size + 1, 64, input_length=max_sequence_len))\n",
    "model.add(Bidirectional(LSTM(128, return_sequences=False, activation='tanh')))\n",
    "model.add(Dense(100))\n",
    "model.add(BatchNormalization())\n",
    "model.add(Activation('relu'))\n",
    "model.add(Dropout(0.2))\n",
    "model.add(Dense(50))\n",
    "model.add(BatchNormalization())\n",
    "model.add(Activation('relu'))\n",
    "model.add(Dense(1, activation='linear'))"
   ]
  },
  {
   "cell_type": "code",
   "execution_count": 43,
   "id": "9e192da6",
   "metadata": {},
   "outputs": [
    {
     "name": "stdout",
     "output_type": "stream",
     "text": [
      "Model: \"sequential\"\n",
      "_________________________________________________________________\n",
      "Layer (type)                 Output Shape              Param #   \n",
      "=================================================================\n",
      "embedding (Embedding)        (None, 209, 64)           2560      \n",
      "_________________________________________________________________\n",
      "bidirectional (Bidirectional (None, 256)               197632    \n",
      "_________________________________________________________________\n",
      "dense (Dense)                (None, 100)               25700     \n",
      "_________________________________________________________________\n",
      "batch_normalization (BatchNo (None, 100)               400       \n",
      "_________________________________________________________________\n",
      "activation (Activation)      (None, 100)               0         \n",
      "_________________________________________________________________\n",
      "dropout (Dropout)            (None, 100)               0         \n",
      "_________________________________________________________________\n",
      "dense_1 (Dense)              (None, 50)                5050      \n",
      "_________________________________________________________________\n",
      "batch_normalization_1 (Batch (None, 50)                200       \n",
      "_________________________________________________________________\n",
      "activation_1 (Activation)    (None, 50)                0         \n",
      "_________________________________________________________________\n",
      "dense_2 (Dense)              (None, 1)                 51        \n",
      "=================================================================\n",
      "Total params: 231,593\n",
      "Trainable params: 231,293\n",
      "Non-trainable params: 300\n",
      "_________________________________________________________________\n"
     ]
    }
   ],
   "source": [
    "model.summary()"
   ]
  },
  {
   "cell_type": "code",
   "execution_count": 124,
   "id": "ccf46324",
   "metadata": {},
   "outputs": [],
   "source": [
    "model.compile(optimizer=RMSprop(learning_rate=0.001), loss='mse', metrics=[R2])"
   ]
  },
  {
   "cell_type": "code",
   "execution_count": 136,
   "id": "1ede20c5",
   "metadata": {},
   "outputs": [],
   "source": [
    "mcp = ModelCheckpoint('models/best_model_{epoch}.h5', save_best_only=True)\n",
    "lr_reduce = ReduceLROnPlateau(monitor='loss', \n",
    "                                   factor=0.1,\n",
    "                                   cooldown=0,\n",
    "                                   patience=3,\n",
    "                                   min_lr=1e-4)\n",
    "ES=EarlyStopping(monitor='val_loss',patience=7, restore_best_weights=True)"
   ]
  },
  {
   "cell_type": "code",
   "execution_count": 128,
   "id": "78c369ae",
   "metadata": {},
   "outputs": [
    {
     "data": {
      "text/plain": [
       "(27954,)"
      ]
     },
     "execution_count": 128,
     "metadata": {},
     "output_type": "execute_result"
    }
   ],
   "source": [
    "y_train.shape"
   ]
  },
  {
   "cell_type": "code",
   "execution_count": 140,
   "id": "54736086",
   "metadata": {},
   "outputs": [
    {
     "name": "stdout",
     "output_type": "stream",
     "text": [
      "Epoch 1/10\n",
      "280/280 [==============================] - 600s 2s/step - loss: 0.4383 - R2: 0.8309 - val_loss: 1.0185 - val_R2: 0.6143\n",
      "Epoch 2/10\n",
      "280/280 [==============================] - 602s 2s/step - loss: 0.4264 - R2: 0.8360 - val_loss: 1.1102 - val_R2: 0.5819\n",
      "Epoch 3/10\n",
      "280/280 [==============================] - 614s 2s/step - loss: 0.4195 - R2: 0.8387 - val_loss: 0.9968 - val_R2: 0.6264\n",
      "Epoch 4/10\n",
      "280/280 [==============================] - 610s 2s/step - loss: 0.4082 - R2: 0.8431 - val_loss: 1.1266 - val_R2: 0.5772\n",
      "Epoch 5/10\n",
      "280/280 [==============================] - 592s 2s/step - loss: 0.3932 - R2: 0.8489 - val_loss: 0.9689 - val_R2: 0.6378\n",
      "Epoch 6/10\n",
      "280/280 [==============================] - 540s 2s/step - loss: 0.3851 - R2: 0.8517 - val_loss: 1.0141 - val_R2: 0.6229\n",
      "Epoch 7/10\n",
      "280/280 [==============================] - 495s 2s/step - loss: 0.3861 - R2: 0.8515 - val_loss: 0.9544 - val_R2: 0.6369\n",
      "Epoch 8/10\n",
      "280/280 [==============================] - 496s 2s/step - loss: 0.3814 - R2: 0.8520 - val_loss: 1.0011 - val_R2: 0.6206\n",
      "Epoch 9/10\n",
      "280/280 [==============================] - 494s 2s/step - loss: 0.3796 - R2: 0.8560 - val_loss: 0.9823 - val_R2: 0.6319\n",
      "Epoch 10/10\n",
      "280/280 [==============================] - 493s 2s/step - loss: 0.3656 - R2: 0.8598 - val_loss: 1.0774 - val_R2: 0.5909\n"
     ]
    }
   ],
   "source": [
    "history = model.fit(X_train, y_train,epochs=10, batch_size=100,  validation_data=(X_test, y_test), callbacks=[mcp, ES,lr_reduce])"
   ]
  },
  {
   "cell_type": "code",
   "execution_count": 130,
   "id": "80d7c24d",
   "metadata": {},
   "outputs": [],
   "source": [
    "y_pred = model.predict(X_test)"
   ]
  },
  {
   "cell_type": "markdown",
   "id": "bf179536",
   "metadata": {},
   "source": [
    "# Score"
   ]
  },
  {
   "cell_type": "code",
   "execution_count": 132,
   "id": "42a12d9c",
   "metadata": {},
   "outputs": [
    {
     "data": {
      "text/plain": [
       "0.5871711952008821"
      ]
     },
     "execution_count": 132,
     "metadata": {},
     "output_type": "execute_result"
    }
   ],
   "source": [
    "r2 = 1 - ((y_test - y_pred.reshape(-1)) ** 2).sum() / ((y_test - y_test.mean()) ** 2).sum()\n",
    "r2"
   ]
  },
  {
   "cell_type": "code",
   "execution_count": 133,
   "id": "04b0d731",
   "metadata": {},
   "outputs": [],
   "source": [
    "model.save('model.h5', )"
   ]
  },
  {
   "cell_type": "code",
   "execution_count": null,
   "id": "5ac54c22",
   "metadata": {},
   "outputs": [],
   "source": []
  },
  {
   "cell_type": "markdown",
   "id": "af1df280",
   "metadata": {},
   "source": [
    "# Load model"
   ]
  },
  {
   "cell_type": "code",
   "execution_count": 2,
   "id": "ac058661",
   "metadata": {},
   "outputs": [],
   "source": [
    "from tensorflow.keras.models import load_model"
   ]
  },
  {
   "cell_type": "code",
   "execution_count": 3,
   "id": "b47690f9",
   "metadata": {},
   "outputs": [],
   "source": [
    "filename_best_model = 'models/best_model_7.h5'"
   ]
  },
  {
   "cell_type": "code",
   "execution_count": 6,
   "id": "ca12b1ba",
   "metadata": {},
   "outputs": [],
   "source": [
    "model_loaded_modif = load_model(filename_best_model, custom_objects={'R2': R2})"
   ]
  },
  {
   "cell_type": "code",
   "execution_count": null,
   "id": "9a795c9c",
   "metadata": {},
   "outputs": [],
   "source": [
    "y_pred = model_loaded_modif.predict(X_test)"
   ]
  },
  {
   "cell_type": "code",
   "execution_count": null,
   "id": "5bc514c1",
   "metadata": {},
   "outputs": [],
   "source": [
    "r2 = 1 - ((y_test - y_pred.reshape(-1)) ** 2).sum() / ((y_test - y_test.mean()) ** 2).sum()\n",
    "r2"
   ]
  },
  {
   "cell_type": "code",
   "execution_count": null,
   "id": "ed07d3b8",
   "metadata": {},
   "outputs": [],
   "source": []
  },
  {
   "cell_type": "markdown",
   "id": "a18acba4",
   "metadata": {},
   "source": [
    "# Evaluation"
   ]
  },
  {
   "cell_type": "code",
   "execution_count": 135,
   "id": "0d8b3b6d",
   "metadata": {},
   "outputs": [
    {
     "data": {
      "text/plain": [
       "<function matplotlib.pyplot.show(*args, **kw)>"
      ]
     },
     "execution_count": 135,
     "metadata": {},
     "output_type": "execute_result"
    },
    {
     "data": {
      "image/png": "[encoded data removed]",
      "text/plain": [
       "<Figure size 500x500 with 1 Axes>"
      ]
     },
     "metadata": {},
     "output_type": "display_data"
    }
   ],
   "source": [
    "import seaborn as sns\n",
    "import matplotlib.pyplot as plt\n",
    "\n",
    "sns.set(color_codes=True)\n",
    "sns.set_style(\"white\")\n",
    "\n",
    "ax = sns.regplot(x=y_test, y=y_pred, scatter_kws={'alpha':0.4})\n",
    "ax.set_xlabel('Experimental pIC50', fontsize='large', fontweight='bold')\n",
    "ax.set_ylabel('Predicted pIC50', fontsize='large', fontweight='bold')\n",
    "ax.set_xlim(0, 12)\n",
    "ax.set_ylim(0, 12)\n",
    "ax.figure.set_size_inches(5, 5)\n",
    "plt.show"
   ]
  }
 ],
 "metadata": {
  "kernelspec": {
   "display_name": "Python 3 (ipykernel)",
   "language": "python",
   "name": "python3"
  },
  "language_info": {
   "codemirror_mode": {
    "name": "ipython",
    "version": 3
   },
   "file_extension": ".py",
   "mimetype": "text/x-python",
   "name": "python",
   "nbconvert_exporter": "python",
   "pygments_lexer": "ipython3",
   "version": "3.7.16"
  }
 },
 "nbformat": 4,
 "nbformat_minor": 5
}
