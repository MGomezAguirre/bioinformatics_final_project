{
 "cells": [
  {
   "cell_type": "code",
   "execution_count": 1,
   "id": "fdb81e9b-de92-4614-acdf-fc50d739c8d0",
   "metadata": {},
   "outputs": [],
   "source": [
    "%load_ext autoreload\n",
    "%autoreload 2"
   ]
  },
  {
   "cell_type": "markdown",
   "id": "0f63690e-2afb-4096-9462-b66f5425bcda",
   "metadata": {},
   "source": [
    "# Proyecto final Bioinformática (NLP)"
   ]
  },
  {
   "cell_type": "markdown",
   "id": "d70fde61-b8d1-4d2b-adf5-5d9670891d15",
   "metadata": {},
   "source": [
    "Mirar el siguiente video. Sobre todo la primer parte como para tener contexto sobre descubrimiento de drogas:\n",
    "\n",
    "https://www.youtube.com/watch?v=jBlTQjcKuaY"
   ]
  },
  {
   "cell_type": "markdown",
   "id": "5e532b12-83cc-4a5e-9f0e-d53459b26a37",
   "metadata": {},
   "source": [
    "Resumen y puntos importantes del video:\n",
    "- Queremos entender la bioactividad de una molecúla (molecule_chembl_id) sobre una encima (Acetylcholinesterase)\n",
    "- La bioactividad se medirá en este caso con el IC50 (standard_value)\n",
    "- A menor IC50, menos droga para generar la misma actividad, es decir, mayor actividad relativa\n",
    "- La notación de la fórmula química se llama smiles (https://en.wikipedia.org/wiki/Simplified_molecular-input_line-entry_system)\n",
    "- Existen distintas técnicas para obtener features de las moléculas y en el video se describen 2:\n",
    "    - Descriptores de Lipinski\n",
    "    - Fingerprints del tipo pubchem\n",
    "- Se construye un modelo de regresión con RandomForest para estimar el pI50 (IC50 en escala logarítimica) dado los fingerprints de entrada"
   ]
  },
  {
   "cell_type": "markdown",
   "id": "1da95879-3221-4d3c-9815-2cc16d6f65b7",
   "metadata": {},
   "source": [
    "### Objetivos del proyecto:\n",
    "- Evaluar distintas alternativas de modelos de deep learning para resolver este problema\n",
    "    - LSTM\n",
    "    - CNN\n",
    "    - TextCNN\n",
    "- Mejorar la métrica del RandomForest\n",
    "- En vez de ingresar con los features de entrada (fingerprints) como en el video, utilizar técnicas de embeddings usuales en NLP\n",
    "    - Tokenización en modo caracter dado el smiles de la fórmula química\n",
    "    - Utilizando un tokenizer sobre los smiles\n",
    "    - Puedo usar técnicas modernas de tokenización (https://deepchem.readthedocs.io/en/2.4.0/api_reference/tokenizers.html)\n",
    "- La salida a estimar por el modelo será el pIC50\n",
    "- La métrica, para comparar con los resultados del RandomForest será el $R^2$"
   ]
  },
  {
   "cell_type": "markdown",
   "id": "d621c55a-a01c-48c7-b6df-cf64f12b6835",
   "metadata": {},
   "source": [
    "### Librerías:\n",
    "- chembl-webresource-client: Para bajar el dataset (https://pypi.org/project/chembl-webresource-client/)\n",
    "- deepchem: libería muy interesante con muchas implementaciones de deep learning aplicadas a la química (https://github.com/deepchem/deepchem)"
   ]
  },
  {
   "cell_type": "code",
   "execution_count": 3,
   "id": "964bccfd",
   "metadata": {},
   "outputs": [
    {
     "name": "stdout",
     "output_type": "stream",
     "text": [
      "Collecting chembl_webresource_client\n",
      "  Downloading chembl_webresource_client-0.10.8-py3-none-any.whl (55 kB)\n",
      "Collecting requests-cache~=0.7.0\n",
      "  Downloading requests_cache-0.7.5-py3-none-any.whl (39 kB)\n",
      "Requirement already satisfied: requests>=2.18.4 in c:\\users\\hp\\anaconda3\\lib\\site-packages (from chembl_webresource_client) (2.25.1)\n",
      "Requirement already satisfied: urllib3 in c:\\users\\hp\\anaconda3\\lib\\site-packages (from chembl_webresource_client) (1.26.4)\n",
      "Collecting easydict\n",
      "  Downloading easydict-1.10.tar.gz (6.4 kB)\n",
      "Requirement already satisfied: certifi>=2017.4.17 in c:\\users\\hp\\anaconda3\\lib\\site-packages (from requests>=2.18.4->chembl_webresource_client) (2022.12.7)\n",
      "Requirement already satisfied: idna<3,>=2.5 in c:\\users\\hp\\anaconda3\\lib\\site-packages (from requests>=2.18.4->chembl_webresource_client) (2.10)\n",
      "Requirement already satisfied: chardet<5,>=3.0.2 in c:\\users\\hp\\anaconda3\\lib\\site-packages (from requests>=2.18.4->chembl_webresource_client) (4.0.0)\n",
      "Collecting itsdangerous>=2.0.1\n",
      "  Downloading itsdangerous-2.1.2-py3-none-any.whl (15 kB)\n",
      "Collecting url-normalize<2.0,>=1.4\n",
      "  Downloading url_normalize-1.4.3-py2.py3-none-any.whl (6.8 kB)\n",
      "Requirement already satisfied: pyyaml>=5.4 in c:\\users\\hp\\anaconda3\\lib\\site-packages (from requests-cache~=0.7.0->chembl_webresource_client) (5.4.1)\n",
      "Collecting attrs<22.0,>=21.2\n",
      "  Downloading attrs-21.4.0-py2.py3-none-any.whl (60 kB)\n",
      "Requirement already satisfied: six in c:\\users\\hp\\anaconda3\\lib\\site-packages (from url-normalize<2.0,>=1.4->requests-cache~=0.7.0->chembl_webresource_client) (1.15.0)\n",
      "Building wheels for collected packages: easydict\n",
      "  Building wheel for easydict (setup.py): started\n",
      "  Building wheel for easydict (setup.py): finished with status 'done'\n",
      "  Created wheel for easydict: filename=easydict-1.10-py3-none-any.whl size=6497 sha256=9712ea2c51ba36cad4d7c8692f06b8e2cee4b655c948e03eb22676d5441f08e1\n",
      "  Stored in directory: c:\\users\\hp\\appdata\\local\\pip\\cache\\wheels\\fe\\4e\\02\\c9c3154e4845bfdbf1fdf344f5a89f16dcbb4f627a908c9974\n",
      "Successfully built easydict\n",
      "Installing collected packages: url-normalize, itsdangerous, attrs, requests-cache, easydict, chembl-webresource-client\n",
      "  Attempting uninstall: itsdangerous\n",
      "    Found existing installation: itsdangerous 1.1.0\n",
      "    Uninstalling itsdangerous-1.1.0:\n",
      "      Successfully uninstalled itsdangerous-1.1.0\n",
      "  Attempting uninstall: attrs\n",
      "    Found existing installation: attrs 20.3.0\n",
      "    Uninstalling attrs-20.3.0:\n",
      "      Successfully uninstalled attrs-20.3.0\n",
      "Successfully installed attrs-21.4.0 chembl-webresource-client-0.10.8 easydict-1.10 itsdangerous-2.1.2 requests-cache-0.7.5 url-normalize-1.4.3\n"
     ]
    }
   ],
   "source": [
    "! pip install chembl_webresource_client"
   ]
  },
  {
   "cell_type": "code",
   "execution_count": 4,
   "id": "80ccdc33-30b0-4266-8703-080ad56dce22",
   "metadata": {},
   "outputs": [],
   "source": [
    "import pandas as pd\n",
    "from chembl_webresource_client.new_client import new_client"
   ]
  },
  {
   "cell_type": "markdown",
   "id": "9c5a7da0-e660-41c0-9000-e2ad86bc4a6a",
   "metadata": {},
   "source": [
    "# Cliente API\n",
    "\n",
    "En esta notebook solo se baja el dataset. No tiene que hacer nada más que ejecutarla y entenderla\n",
    "\n",
    "Librería para baja el dataset"
   ]
  },
  {
   "cell_type": "code",
   "execution_count": 5,
   "id": "996336bf-261f-47af-8fe6-4f1635acdea6",
   "metadata": {},
   "outputs": [],
   "source": [
    "target = new_client.target\n",
    "target_query = target.search('acetylcholinesterase')\n",
    "targets = pd.DataFrame.from_dict(target_query)"
   ]
  },
  {
   "cell_type": "code",
   "execution_count": 6,
   "id": "c9396382-0723-4e74-b290-8fa9b88e3daa",
   "metadata": {},
   "outputs": [
    {
     "data": {
      "text/html": [
       "<div>\n",
       "<style scoped>\n",
       "    .dataframe tbody tr th:only-of-type {\n",
       "        vertical-align: middle;\n",
       "    }\n",
       "\n",
       "    .dataframe tbody tr th {\n",
       "        vertical-align: top;\n",
       "    }\n",
       "\n",
       "    .dataframe thead th {\n",
       "        text-align: right;\n",
       "    }\n",
       "</style>\n",
       "<table border=\"1\" class=\"dataframe\">\n",
       "  <thead>\n",
       "    <tr style=\"text-align: right;\">\n",
       "      <th></th>\n",
       "      <th>cross_references</th>\n",
       "      <th>organism</th>\n",
       "      <th>pref_name</th>\n",
       "      <th>score</th>\n",
       "      <th>species_group_flag</th>\n",
       "      <th>target_chembl_id</th>\n",
       "      <th>target_components</th>\n",
       "      <th>target_type</th>\n",
       "      <th>tax_id</th>\n",
       "    </tr>\n",
       "  </thead>\n",
       "  <tbody>\n",
       "    <tr>\n",
       "      <th>0</th>\n",
       "      <td>[{'xref_id': 'P22303', 'xref_name': None, 'xre...</td>\n",
       "      <td>Homo sapiens</td>\n",
       "      <td>Acetylcholinesterase</td>\n",
       "      <td>27.0</td>\n",
       "      <td>False</td>\n",
       "      <td>CHEMBL220</td>\n",
       "      <td>[{'accession': 'P22303', 'component_descriptio...</td>\n",
       "      <td>SINGLE PROTEIN</td>\n",
       "      <td>9606</td>\n",
       "    </tr>\n",
       "    <tr>\n",
       "      <th>1</th>\n",
       "      <td>[]</td>\n",
       "      <td>Homo sapiens</td>\n",
       "      <td>Cholinesterases; ACHE &amp; BCHE</td>\n",
       "      <td>27.0</td>\n",
       "      <td>False</td>\n",
       "      <td>CHEMBL2095233</td>\n",
       "      <td>[{'accession': 'P06276', 'component_descriptio...</td>\n",
       "      <td>SELECTIVITY GROUP</td>\n",
       "      <td>9606</td>\n",
       "    </tr>\n",
       "    <tr>\n",
       "      <th>2</th>\n",
       "      <td>[]</td>\n",
       "      <td>Drosophila melanogaster</td>\n",
       "      <td>Acetylcholinesterase</td>\n",
       "      <td>18.0</td>\n",
       "      <td>False</td>\n",
       "      <td>CHEMBL2242744</td>\n",
       "      <td>[{'accession': 'P07140', 'component_descriptio...</td>\n",
       "      <td>SINGLE PROTEIN</td>\n",
       "      <td>7227</td>\n",
       "    </tr>\n",
       "    <tr>\n",
       "      <th>3</th>\n",
       "      <td>[]</td>\n",
       "      <td>Bemisia tabaci</td>\n",
       "      <td>AChE2</td>\n",
       "      <td>16.0</td>\n",
       "      <td>False</td>\n",
       "      <td>CHEMBL2366409</td>\n",
       "      <td>[{'accession': 'B3SST5', 'component_descriptio...</td>\n",
       "      <td>SINGLE PROTEIN</td>\n",
       "      <td>7038</td>\n",
       "    </tr>\n",
       "    <tr>\n",
       "      <th>4</th>\n",
       "      <td>[]</td>\n",
       "      <td>Leptinotarsa decemlineata</td>\n",
       "      <td>Acetylcholinesterase</td>\n",
       "      <td>16.0</td>\n",
       "      <td>False</td>\n",
       "      <td>CHEMBL2366490</td>\n",
       "      <td>[{'accession': 'Q27677', 'component_descriptio...</td>\n",
       "      <td>SINGLE PROTEIN</td>\n",
       "      <td>7539</td>\n",
       "    </tr>\n",
       "  </tbody>\n",
       "</table>\n",
       "</div>"
      ],
      "text/plain": [
       "                                    cross_references  \\\n",
       "0  [{'xref_id': 'P22303', 'xref_name': None, 'xre...   \n",
       "1                                                 []   \n",
       "2                                                 []   \n",
       "3                                                 []   \n",
       "4                                                 []   \n",
       "\n",
       "                    organism                     pref_name  score  \\\n",
       "0               Homo sapiens          Acetylcholinesterase   27.0   \n",
       "1               Homo sapiens  Cholinesterases; ACHE & BCHE   27.0   \n",
       "2    Drosophila melanogaster          Acetylcholinesterase   18.0   \n",
       "3             Bemisia tabaci                         AChE2   16.0   \n",
       "4  Leptinotarsa decemlineata          Acetylcholinesterase   16.0   \n",
       "\n",
       "   species_group_flag target_chembl_id  \\\n",
       "0               False        CHEMBL220   \n",
       "1               False    CHEMBL2095233   \n",
       "2               False    CHEMBL2242744   \n",
       "3               False    CHEMBL2366409   \n",
       "4               False    CHEMBL2366490   \n",
       "\n",
       "                                   target_components        target_type  \\\n",
       "0  [{'accession': 'P22303', 'component_descriptio...     SINGLE PROTEIN   \n",
       "1  [{'accession': 'P06276', 'component_descriptio...  SELECTIVITY GROUP   \n",
       "2  [{'accession': 'P07140', 'component_descriptio...     SINGLE PROTEIN   \n",
       "3  [{'accession': 'B3SST5', 'component_descriptio...     SINGLE PROTEIN   \n",
       "4  [{'accession': 'Q27677', 'component_descriptio...     SINGLE PROTEIN   \n",
       "\n",
       "   tax_id  \n",
       "0    9606  \n",
       "1    9606  \n",
       "2    7227  \n",
       "3    7038  \n",
       "4    7539  "
      ]
     },
     "execution_count": 6,
     "metadata": {},
     "output_type": "execute_result"
    }
   ],
   "source": [
    "targets.head()"
   ]
  },
  {
   "cell_type": "code",
   "execution_count": 7,
   "id": "80c0c43c-b00c-4f82-b52f-1b5df6d04e59",
   "metadata": {},
   "outputs": [
    {
     "data": {
      "text/plain": [
       "'CHEMBL220'"
      ]
     },
     "execution_count": 7,
     "metadata": {},
     "output_type": "execute_result"
    }
   ],
   "source": [
    "selected_target = targets.target_chembl_id[0]\n",
    "selected_target\n",
    "# 'CHEMBL220'"
   ]
  },
  {
   "cell_type": "code",
   "execution_count": 8,
   "id": "5f5d536c-1268-4ef5-9eff-73492f24fbec",
   "metadata": {},
   "outputs": [],
   "source": [
    "activity = new_client.activity\n",
    "res = activity.filter(target_chembl_id=selected_target).filter(standard_type=\"IC50\")"
   ]
  },
  {
   "cell_type": "markdown",
   "id": "51107422-8cb2-4b77-bab5-eb2495e1a814",
   "metadata": {},
   "source": [
    "# Bajada de data\n",
    "Puede tardar un poco dependiendo de que tan saturado este el server\n",
    "\n",
    "Por eso el for, para ver el progreso y bajar la ansiedad. Son en el orden de 7500K"
   ]
  },
  {
   "cell_type": "code",
   "execution_count": 9,
   "id": "1afbf1a9-a4c9-4aec-8255-63948e667b3c",
   "metadata": {},
   "outputs": [
    {
     "name": "stdout",
     "output_type": "stream",
     "text": [
      "8394\r"
     ]
    }
   ],
   "source": [
    "res_cols = []\n",
    "for i, r in enumerate(res):\n",
    "    print(f'{i}\\r', end='')\n",
    "    res_cols.append(r)"
   ]
  },
  {
   "cell_type": "code",
   "execution_count": 17,
   "id": "e8f48b84-3f49-42e7-9973-30e9abb55641",
   "metadata": {},
   "outputs": [],
   "source": [
    "df = pd.DataFrame(res_cols)"
   ]
  },
  {
   "cell_type": "code",
   "execution_count": 18,
   "id": "e33ba495-9f3b-4bad-9639-a4496c7e2eef",
   "metadata": {},
   "outputs": [
    {
     "data": {
      "text/html": [
       "<div>\n",
       "<style scoped>\n",
       "    .dataframe tbody tr th:only-of-type {\n",
       "        vertical-align: middle;\n",
       "    }\n",
       "\n",
       "    .dataframe tbody tr th {\n",
       "        vertical-align: top;\n",
       "    }\n",
       "\n",
       "    .dataframe thead th {\n",
       "        text-align: right;\n",
       "    }\n",
       "</style>\n",
       "<table border=\"1\" class=\"dataframe\">\n",
       "  <thead>\n",
       "    <tr style=\"text-align: right;\">\n",
       "      <th></th>\n",
       "      <th>activity_comment</th>\n",
       "      <th>activity_id</th>\n",
       "      <th>activity_properties</th>\n",
       "      <th>assay_chembl_id</th>\n",
       "      <th>assay_description</th>\n",
       "      <th>assay_type</th>\n",
       "      <th>assay_variant_accession</th>\n",
       "      <th>assay_variant_mutation</th>\n",
       "      <th>bao_endpoint</th>\n",
       "      <th>bao_format</th>\n",
       "      <th>...</th>\n",
       "      <th>target_organism</th>\n",
       "      <th>target_pref_name</th>\n",
       "      <th>target_tax_id</th>\n",
       "      <th>text_value</th>\n",
       "      <th>toid</th>\n",
       "      <th>type</th>\n",
       "      <th>units</th>\n",
       "      <th>uo_units</th>\n",
       "      <th>upper_value</th>\n",
       "      <th>value</th>\n",
       "    </tr>\n",
       "  </thead>\n",
       "  <tbody>\n",
       "    <tr>\n",
       "      <th>0</th>\n",
       "      <td>None</td>\n",
       "      <td>33969</td>\n",
       "      <td>[]</td>\n",
       "      <td>CHEMBL643384</td>\n",
       "      <td>Inhibitory concentration against acetylcholine...</td>\n",
       "      <td>B</td>\n",
       "      <td>None</td>\n",
       "      <td>None</td>\n",
       "      <td>BAO_0000190</td>\n",
       "      <td>BAO_0000357</td>\n",
       "      <td>...</td>\n",
       "      <td>Homo sapiens</td>\n",
       "      <td>Acetylcholinesterase</td>\n",
       "      <td>9606</td>\n",
       "      <td>None</td>\n",
       "      <td>None</td>\n",
       "      <td>IC50</td>\n",
       "      <td>uM</td>\n",
       "      <td>UO_0000065</td>\n",
       "      <td>None</td>\n",
       "      <td>0.75</td>\n",
       "    </tr>\n",
       "    <tr>\n",
       "      <th>1</th>\n",
       "      <td>None</td>\n",
       "      <td>37563</td>\n",
       "      <td>[]</td>\n",
       "      <td>CHEMBL643384</td>\n",
       "      <td>Inhibitory concentration against acetylcholine...</td>\n",
       "      <td>B</td>\n",
       "      <td>None</td>\n",
       "      <td>None</td>\n",
       "      <td>BAO_0000190</td>\n",
       "      <td>BAO_0000357</td>\n",
       "      <td>...</td>\n",
       "      <td>Homo sapiens</td>\n",
       "      <td>Acetylcholinesterase</td>\n",
       "      <td>9606</td>\n",
       "      <td>None</td>\n",
       "      <td>None</td>\n",
       "      <td>IC50</td>\n",
       "      <td>uM</td>\n",
       "      <td>UO_0000065</td>\n",
       "      <td>None</td>\n",
       "      <td>0.1</td>\n",
       "    </tr>\n",
       "  </tbody>\n",
       "</table>\n",
       "<p>2 rows × 45 columns</p>\n",
       "</div>"
      ],
      "text/plain": [
       "  activity_comment  activity_id activity_properties assay_chembl_id  \\\n",
       "0             None        33969                  []    CHEMBL643384   \n",
       "1             None        37563                  []    CHEMBL643384   \n",
       "\n",
       "                                   assay_description assay_type  \\\n",
       "0  Inhibitory concentration against acetylcholine...          B   \n",
       "1  Inhibitory concentration against acetylcholine...          B   \n",
       "\n",
       "  assay_variant_accession assay_variant_mutation bao_endpoint   bao_format  \\\n",
       "0                    None                   None  BAO_0000190  BAO_0000357   \n",
       "1                    None                   None  BAO_0000190  BAO_0000357   \n",
       "\n",
       "   ... target_organism      target_pref_name target_tax_id text_value  toid  \\\n",
       "0  ...    Homo sapiens  Acetylcholinesterase          9606       None  None   \n",
       "1  ...    Homo sapiens  Acetylcholinesterase          9606       None  None   \n",
       "\n",
       "   type  units    uo_units upper_value value  \n",
       "0  IC50     uM  UO_0000065        None  0.75  \n",
       "1  IC50     uM  UO_0000065        None   0.1  \n",
       "\n",
       "[2 rows x 45 columns]"
      ]
     },
     "execution_count": 18,
     "metadata": {},
     "output_type": "execute_result"
    }
   ],
   "source": [
    "df.head(2)"
   ]
  },
  {
   "cell_type": "markdown",
   "id": "be1247ba-95c4-4a0d-951d-f9ce7b531be4",
   "metadata": {},
   "source": [
    "# Limpio data"
   ]
  },
  {
   "cell_type": "code",
   "execution_count": 19,
   "id": "0be90440-645e-49c7-9571-eafb81238e7d",
   "metadata": {},
   "outputs": [],
   "source": [
    "df = df.dropna(subset=['standard_value', 'canonical_smiles'])\n",
    "df = df.drop_duplicates(['canonical_smiles'])"
   ]
  },
  {
   "cell_type": "code",
   "execution_count": 15,
   "id": "d5ec7427",
   "metadata": {},
   "outputs": [
    {
     "data": {
      "text/plain": [
       "count    5.824000e+03\n",
       "mean     2.588482e+12\n",
       "std      1.068126e+14\n",
       "min      0.000000e+00\n",
       "25%      1.470000e+02\n",
       "50%      2.400000e+03\n",
       "75%      1.700000e+04\n",
       "max      5.888437e+15\n",
       "Name: standard_value, dtype: float64"
      ]
     },
     "execution_count": 15,
     "metadata": {},
     "output_type": "execute_result"
    }
   ],
   "source": [
    "df['standard_value'].describe()"
   ]
  },
  {
   "cell_type": "code",
   "execution_count": 20,
   "id": "90e52e55-fcab-4bcd-9c57-f3f091e2b19b",
   "metadata": {},
   "outputs": [],
   "source": [
    "selection = ['molecule_chembl_id','canonical_smiles','standard_value']\n",
    "df = df[selection]"
   ]
  },
  {
   "cell_type": "code",
   "execution_count": 21,
   "id": "0b2290f4-aaf2-456a-8f8a-0a47fc61eab6",
   "metadata": {},
   "outputs": [
    {
     "data": {
      "text/html": [
       "<div>\n",
       "<style scoped>\n",
       "    .dataframe tbody tr th:only-of-type {\n",
       "        vertical-align: middle;\n",
       "    }\n",
       "\n",
       "    .dataframe tbody tr th {\n",
       "        vertical-align: top;\n",
       "    }\n",
       "\n",
       "    .dataframe thead th {\n",
       "        text-align: right;\n",
       "    }\n",
       "</style>\n",
       "<table border=\"1\" class=\"dataframe\">\n",
       "  <thead>\n",
       "    <tr style=\"text-align: right;\">\n",
       "      <th></th>\n",
       "      <th>molecule_chembl_id</th>\n",
       "      <th>canonical_smiles</th>\n",
       "      <th>standard_value</th>\n",
       "    </tr>\n",
       "  </thead>\n",
       "  <tbody>\n",
       "    <tr>\n",
       "      <th>0</th>\n",
       "      <td>CHEMBL133897</td>\n",
       "      <td>CCOc1nn(-c2cccc(OCc3ccccc3)c2)c(=O)o1</td>\n",
       "      <td>750.0</td>\n",
       "    </tr>\n",
       "    <tr>\n",
       "      <th>1</th>\n",
       "      <td>CHEMBL336398</td>\n",
       "      <td>O=C(N1CCCCC1)n1nc(-c2ccc(Cl)cc2)nc1SCC1CC1</td>\n",
       "      <td>100.0</td>\n",
       "    </tr>\n",
       "    <tr>\n",
       "      <th>2</th>\n",
       "      <td>CHEMBL131588</td>\n",
       "      <td>CN(C(=O)n1nc(-c2ccc(Cl)cc2)nc1SCC(F)(F)F)c1ccccc1</td>\n",
       "      <td>50000.0</td>\n",
       "    </tr>\n",
       "    <tr>\n",
       "      <th>3</th>\n",
       "      <td>CHEMBL130628</td>\n",
       "      <td>O=C(N1CCCCC1)n1nc(-c2ccc(Cl)cc2)nc1SCC(F)(F)F</td>\n",
       "      <td>300.0</td>\n",
       "    </tr>\n",
       "    <tr>\n",
       "      <th>4</th>\n",
       "      <td>CHEMBL130478</td>\n",
       "      <td>CSc1nc(-c2ccc(OC(F)(F)F)cc2)nn1C(=O)N(C)C</td>\n",
       "      <td>800.0</td>\n",
       "    </tr>\n",
       "    <tr>\n",
       "      <th>...</th>\n",
       "      <td>...</td>\n",
       "      <td>...</td>\n",
       "      <td>...</td>\n",
       "    </tr>\n",
       "    <tr>\n",
       "      <th>8384</th>\n",
       "      <td>CHEMBL4859103</td>\n",
       "      <td>CC1=CC2Cc3nc4cc(Cl)ccc4c(NCCCCCCCCCNC(=O)c4cc(...</td>\n",
       "      <td>2.57</td>\n",
       "    </tr>\n",
       "    <tr>\n",
       "      <th>8385</th>\n",
       "      <td>CHEMBL4863615</td>\n",
       "      <td>CC1=CC2Cc3nc4cc(Cl)ccc4c(NCCCCCCCCC(=O)Nc4cn[n...</td>\n",
       "      <td>2.39</td>\n",
       "    </tr>\n",
       "    <tr>\n",
       "      <th>8386</th>\n",
       "      <td>CHEMBL4854913</td>\n",
       "      <td>CC1=CC2Cc3nc4cc(Cl)ccc4c(NCCCCCCCCC(=O)N4CCNC(...</td>\n",
       "      <td>0.41</td>\n",
       "    </tr>\n",
       "    <tr>\n",
       "      <th>8387</th>\n",
       "      <td>CHEMBL4848527</td>\n",
       "      <td>CC1=CC2Cc3nc4cc(Cl)ccc4c(NCCCCCCCCC(=O)NCc4cc[...</td>\n",
       "      <td>0.63</td>\n",
       "    </tr>\n",
       "    <tr>\n",
       "      <th>8388</th>\n",
       "      <td>CHEMBL4872514</td>\n",
       "      <td>COc1cc(CNC(=O)CCCCCCCCNc2c3c(nc4cc(Cl)ccc24)CC...</td>\n",
       "      <td>1.25</td>\n",
       "    </tr>\n",
       "  </tbody>\n",
       "</table>\n",
       "<p>5824 rows × 3 columns</p>\n",
       "</div>"
      ],
      "text/plain": [
       "     molecule_chembl_id                                   canonical_smiles  \\\n",
       "0          CHEMBL133897              CCOc1nn(-c2cccc(OCc3ccccc3)c2)c(=O)o1   \n",
       "1          CHEMBL336398         O=C(N1CCCCC1)n1nc(-c2ccc(Cl)cc2)nc1SCC1CC1   \n",
       "2          CHEMBL131588  CN(C(=O)n1nc(-c2ccc(Cl)cc2)nc1SCC(F)(F)F)c1ccccc1   \n",
       "3          CHEMBL130628      O=C(N1CCCCC1)n1nc(-c2ccc(Cl)cc2)nc1SCC(F)(F)F   \n",
       "4          CHEMBL130478          CSc1nc(-c2ccc(OC(F)(F)F)cc2)nn1C(=O)N(C)C   \n",
       "...                 ...                                                ...   \n",
       "8384      CHEMBL4859103  CC1=CC2Cc3nc4cc(Cl)ccc4c(NCCCCCCCCCNC(=O)c4cc(...   \n",
       "8385      CHEMBL4863615  CC1=CC2Cc3nc4cc(Cl)ccc4c(NCCCCCCCCC(=O)Nc4cn[n...   \n",
       "8386      CHEMBL4854913  CC1=CC2Cc3nc4cc(Cl)ccc4c(NCCCCCCCCC(=O)N4CCNC(...   \n",
       "8387      CHEMBL4848527  CC1=CC2Cc3nc4cc(Cl)ccc4c(NCCCCCCCCC(=O)NCc4cc[...   \n",
       "8388      CHEMBL4872514  COc1cc(CNC(=O)CCCCCCCCNc2c3c(nc4cc(Cl)ccc24)CC...   \n",
       "\n",
       "     standard_value  \n",
       "0             750.0  \n",
       "1             100.0  \n",
       "2           50000.0  \n",
       "3             300.0  \n",
       "4             800.0  \n",
       "...             ...  \n",
       "8384           2.57  \n",
       "8385           2.39  \n",
       "8386           0.41  \n",
       "8387           0.63  \n",
       "8388           1.25  \n",
       "\n",
       "[5824 rows x 3 columns]"
      ]
     },
     "execution_count": 21,
     "metadata": {},
     "output_type": "execute_result"
    }
   ],
   "source": [
    "df"
   ]
  },
  {
   "cell_type": "markdown",
   "id": "a0e5d88c-277a-4ab2-a13b-851da0efef62",
   "metadata": {},
   "source": [
    "# Preprocesamiento y normalización"
   ]
  },
  {
   "cell_type": "code",
   "execution_count": 3,
   "id": "feaadbcf-f2c5-4deb-a67f-26c41bfd1baa",
   "metadata": {},
   "outputs": [],
   "source": [
    "import numpy as np\n",
    "import pandas as pd"
   ]
  },
  {
   "cell_type": "code",
   "execution_count": 4,
   "id": "60c156ab",
   "metadata": {},
   "outputs": [],
   "source": [
    "df = pd.read_csv('data/acetylcholinesterase_02_bioactivity_data_preprocessed.csv')"
   ]
  },
  {
   "cell_type": "code",
   "execution_count": 18,
   "id": "32fdc9c0-accd-4212-927c-6389be9260a9",
   "metadata": {},
   "outputs": [],
   "source": [
    "df['standard_value'] = df['standard_value'].apply(pd.to_numeric)"
   ]
  },
  {
   "cell_type": "code",
   "execution_count": 26,
   "id": "f3173532",
   "metadata": {},
   "outputs": [
    {
     "data": {
      "text/plain": [
       "count    5.824000e+03\n",
       "mean     2.588482e+12\n",
       "std      1.068126e+14\n",
       "min      0.000000e+00\n",
       "25%      1.470000e+02\n",
       "50%      2.400000e+03\n",
       "75%      1.700000e+04\n",
       "max      5.888437e+15\n",
       "Name: standard_value, dtype: float64"
      ]
     },
     "execution_count": 26,
     "metadata": {},
     "output_type": "execute_result"
    }
   ],
   "source": [
    "df['standard_value'].describe()"
   ]
  },
  {
   "cell_type": "code",
   "execution_count": 32,
   "id": "248e04c5",
   "metadata": {},
   "outputs": [
    {
     "data": {
      "text/plain": [
       "count    5.824000e+03\n",
       "mean     2.588482e+12\n",
       "std      1.068126e+14\n",
       "min      0.000000e+00\n",
       "25%      1.470000e+02\n",
       "50%      2.400000e+03\n",
       "75%      1.700000e+04\n",
       "max      5.888437e+15\n",
       "Name: standard_value, dtype: float64"
      ]
     },
     "execution_count": 32,
     "metadata": {},
     "output_type": "execute_result"
    }
   ],
   "source": [
    "df['standard_value'].describe()"
   ]
  },
  {
   "cell_type": "code",
   "execution_count": 39,
   "id": "766e46cf-5e59-4a7b-806e-9a869744fbe2",
   "metadata": {},
   "outputs": [],
   "source": [
    "# En el video se hace esta normalización. No la veo del todo necesaria\n",
    "df['standard_value_norm'] = df['standard_value'].apply(lambda x: (x==0)*0.0000001 + (x>=0)*x)\n",
    "#df['standard_value_norm'] = df['standard_value'].apply(lambda x: (x>1e8)*1e8 + (x<=1e8)*x)"
   ]
  },
  {
   "cell_type": "code",
   "execution_count": 40,
   "id": "e33acf0a-7260-42ec-832f-473e339df2e0",
   "metadata": {},
   "outputs": [],
   "source": [
    "df['pIC50'] = df['standard_value_norm'].apply(lambda x: -np.log10(x*(10**-9)))"
   ]
  },
  {
   "cell_type": "code",
   "execution_count": 41,
   "id": "27f08e81",
   "metadata": {},
   "outputs": [
    {
     "data": {
      "text/plain": [
       "count    5824.000000\n",
       "mean        5.810230\n",
       "std         1.644699\n",
       "min        -6.770000\n",
       "25%         4.769551\n",
       "50%         5.619789\n",
       "75%         6.832683\n",
       "max        16.000000\n",
       "Name: pIC50, dtype: float64"
      ]
     },
     "execution_count": 41,
     "metadata": {},
     "output_type": "execute_result"
    }
   ],
   "source": [
    "df['pIC50'].describe()"
   ]
  },
  {
   "cell_type": "code",
   "execution_count": 42,
   "id": "987515af-fb28-46f0-a752-91ff88cd0224",
   "metadata": {},
   "outputs": [
    {
     "data": {
      "text/html": [
       "<div>\n",
       "<style scoped>\n",
       "    .dataframe tbody tr th:only-of-type {\n",
       "        vertical-align: middle;\n",
       "    }\n",
       "\n",
       "    .dataframe tbody tr th {\n",
       "        vertical-align: top;\n",
       "    }\n",
       "\n",
       "    .dataframe thead th {\n",
       "        text-align: right;\n",
       "    }\n",
       "</style>\n",
       "<table border=\"1\" class=\"dataframe\">\n",
       "  <thead>\n",
       "    <tr style=\"text-align: right;\">\n",
       "      <th></th>\n",
       "      <th>molecule_chembl_id</th>\n",
       "      <th>canonical_smiles</th>\n",
       "      <th>standard_value</th>\n",
       "      <th>standard_value_norm</th>\n",
       "      <th>pIC50</th>\n",
       "    </tr>\n",
       "  </thead>\n",
       "  <tbody>\n",
       "    <tr>\n",
       "      <th>0</th>\n",
       "      <td>CHEMBL133897</td>\n",
       "      <td>CCOc1nn(-c2cccc(OCc3ccccc3)c2)c(=O)o1</td>\n",
       "      <td>750.0</td>\n",
       "      <td>750.0</td>\n",
       "      <td>6.124939</td>\n",
       "    </tr>\n",
       "    <tr>\n",
       "      <th>1</th>\n",
       "      <td>CHEMBL336398</td>\n",
       "      <td>O=C(N1CCCCC1)n1nc(-c2ccc(Cl)cc2)nc1SCC1CC1</td>\n",
       "      <td>100.0</td>\n",
       "      <td>100.0</td>\n",
       "      <td>7.000000</td>\n",
       "    </tr>\n",
       "  </tbody>\n",
       "</table>\n",
       "</div>"
      ],
      "text/plain": [
       "  molecule_chembl_id                            canonical_smiles  \\\n",
       "0       CHEMBL133897       CCOc1nn(-c2cccc(OCc3ccccc3)c2)c(=O)o1   \n",
       "1       CHEMBL336398  O=C(N1CCCCC1)n1nc(-c2ccc(Cl)cc2)nc1SCC1CC1   \n",
       "\n",
       "   standard_value  standard_value_norm     pIC50  \n",
       "0           750.0                750.0  6.124939  \n",
       "1           100.0                100.0  7.000000  "
      ]
     },
     "execution_count": 42,
     "metadata": {},
     "output_type": "execute_result"
    }
   ],
   "source": [
    "df.head(2)"
   ]
  },
  {
   "cell_type": "code",
   "execution_count": 43,
   "id": "b63aa28c-e229-4989-91f0-7f8c3ee4584c",
   "metadata": {},
   "outputs": [
    {
     "name": "stderr",
     "output_type": "stream",
     "text": [
      "Ya existe el subdirectorio o el archivo data.\n"
     ]
    }
   ],
   "source": [
    "! mkdir data"
   ]
  },
  {
   "cell_type": "code",
   "execution_count": 44,
   "id": "e5985ec3-c649-4ceb-a0c4-52d3f7e8664a",
   "metadata": {},
   "outputs": [],
   "source": [
    "df.to_csv('data/acetylcholinesterase_02_bioactivity_data_preprocessed.csv', index=False)"
   ]
  },
  {
   "cell_type": "code",
   "execution_count": null,
   "id": "c20b738e-0d05-4117-9022-ada04b624550",
   "metadata": {},
   "outputs": [],
   "source": []
  },
  {
   "cell_type": "code",
   "execution_count": null,
   "id": "be7ca69e-f0f5-4a10-8f38-f3725ebf68dc",
   "metadata": {},
   "outputs": [],
   "source": []
  }
 ],
 "metadata": {
  "kernelspec": {
   "display_name": "Python 3 (ipykernel)",
   "language": "python",
   "name": "python3"
  },
  "language_info": {
   "codemirror_mode": {
    "name": "ipython",
    "version": 3
   },
   "file_extension": ".py",
   "mimetype": "text/x-python",
   "name": "python",
   "nbconvert_exporter": "python",
   "pygments_lexer": "ipython3",
   "version": "3.7.16"
  }
 },
 "nbformat": 4,
 "nbformat_minor": 5
}
