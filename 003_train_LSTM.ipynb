{
 "cells": [
  {
   "cell_type": "code",
   "execution_count": 12,
   "id": "21bee0a3-79a7-43b2-9ac2-15cad5630e22",
   "metadata": {},
   "outputs": [],
   "source": [
    "import pandas as pd\n",
    "import numpy as np"
   ]
  },
  {
   "cell_type": "markdown",
   "id": "08544474-e883-4105-bcc3-9f3f9f014079",
   "metadata": {},
   "source": [
    "# Modelo Recurrentes con Embeddings a nivel de caracter"
   ]
  },
  {
   "cell_type": "code",
   "execution_count": 13,
   "id": "353a2d75-f0f4-4563-9842-c68d77118161",
   "metadata": {},
   "outputs": [],
   "source": [
    "df = pd.read_csv('data/acetylcholinesterase_02_bioactivity_data_preprocessed.csv')"
   ]
  },
  {
   "cell_type": "code",
   "execution_count": 14,
   "id": "d1554fa5-d9ee-456c-be20-80571e319fc6",
   "metadata": {},
   "outputs": [
    {
     "data": {
      "text/html": [
       "<div>\n",
       "<style scoped>\n",
       "    .dataframe tbody tr th:only-of-type {\n",
       "        vertical-align: middle;\n",
       "    }\n",
       "\n",
       "    .dataframe tbody tr th {\n",
       "        vertical-align: top;\n",
       "    }\n",
       "\n",
       "    .dataframe thead th {\n",
       "        text-align: right;\n",
       "    }\n",
       "</style>\n",
       "<table border=\"1\" class=\"dataframe\">\n",
       "  <thead>\n",
       "    <tr style=\"text-align: right;\">\n",
       "      <th></th>\n",
       "      <th>molecule_chembl_id</th>\n",
       "      <th>canonical_smiles</th>\n",
       "      <th>standard_value</th>\n",
       "      <th>standard_value_norm</th>\n",
       "      <th>pIC50</th>\n",
       "    </tr>\n",
       "  </thead>\n",
       "  <tbody>\n",
       "    <tr>\n",
       "      <th>0</th>\n",
       "      <td>CHEMBL133897</td>\n",
       "      <td>CCOc1nn(-c2cccc(OCc3ccccc3)c2)c(=O)o1</td>\n",
       "      <td>750.0</td>\n",
       "      <td>750.0</td>\n",
       "      <td>6.124939</td>\n",
       "    </tr>\n",
       "    <tr>\n",
       "      <th>1</th>\n",
       "      <td>CHEMBL336398</td>\n",
       "      <td>O=C(N1CCCCC1)n1nc(-c2ccc(Cl)cc2)nc1SCC1CC1</td>\n",
       "      <td>100.0</td>\n",
       "      <td>100.0</td>\n",
       "      <td>7.000000</td>\n",
       "    </tr>\n",
       "    <tr>\n",
       "      <th>2</th>\n",
       "      <td>CHEMBL131588</td>\n",
       "      <td>CN(C(=O)n1nc(-c2ccc(Cl)cc2)nc1SCC(F)(F)F)c1ccccc1</td>\n",
       "      <td>50000.0</td>\n",
       "      <td>50000.0</td>\n",
       "      <td>4.301030</td>\n",
       "    </tr>\n",
       "    <tr>\n",
       "      <th>3</th>\n",
       "      <td>CHEMBL130628</td>\n",
       "      <td>O=C(N1CCCCC1)n1nc(-c2ccc(Cl)cc2)nc1SCC(F)(F)F</td>\n",
       "      <td>300.0</td>\n",
       "      <td>300.0</td>\n",
       "      <td>6.522879</td>\n",
       "    </tr>\n",
       "    <tr>\n",
       "      <th>4</th>\n",
       "      <td>CHEMBL130478</td>\n",
       "      <td>CSc1nc(-c2ccc(OC(F)(F)F)cc2)nn1C(=O)N(C)C</td>\n",
       "      <td>800.0</td>\n",
       "      <td>800.0</td>\n",
       "      <td>6.096910</td>\n",
       "    </tr>\n",
       "  </tbody>\n",
       "</table>\n",
       "</div>"
      ],
      "text/plain": [
       "  molecule_chembl_id                                   canonical_smiles  \\\n",
       "0       CHEMBL133897              CCOc1nn(-c2cccc(OCc3ccccc3)c2)c(=O)o1   \n",
       "1       CHEMBL336398         O=C(N1CCCCC1)n1nc(-c2ccc(Cl)cc2)nc1SCC1CC1   \n",
       "2       CHEMBL131588  CN(C(=O)n1nc(-c2ccc(Cl)cc2)nc1SCC(F)(F)F)c1ccccc1   \n",
       "3       CHEMBL130628      O=C(N1CCCCC1)n1nc(-c2ccc(Cl)cc2)nc1SCC(F)(F)F   \n",
       "4       CHEMBL130478          CSc1nc(-c2ccc(OC(F)(F)F)cc2)nn1C(=O)N(C)C   \n",
       "\n",
       "   standard_value  standard_value_norm     pIC50  \n",
       "0           750.0                750.0  6.124939  \n",
       "1           100.0                100.0  7.000000  \n",
       "2         50000.0              50000.0  4.301030  \n",
       "3           300.0                300.0  6.522879  \n",
       "4           800.0                800.0  6.096910  "
      ]
     },
     "execution_count": 14,
     "metadata": {},
     "output_type": "execute_result"
    }
   ],
   "source": [
    "df.head()"
   ]
  },
  {
   "cell_type": "markdown",
   "id": "2985df76-23b9-45a8-83ed-ce8ae510219f",
   "metadata": {},
   "source": [
    "# Canonical_smiles To secuence"
   ]
  },
  {
   "cell_type": "code",
   "execution_count": 15,
   "id": "87e524d2-e7e9-4d3b-b1f1-b62254a0bc66",
   "metadata": {},
   "outputs": [],
   "source": [
    "from tensorflow.keras.preprocessing.text import Tokenizer\n",
    "from tensorflow.keras.preprocessing.sequence import pad_sequences"
   ]
  },
  {
   "cell_type": "markdown",
   "id": "b524afd5-79ed-433d-827b-ac04510ae8ad",
   "metadata": {},
   "source": [
    "Utilizando Tokenizer y pad_sequences de keras a nivel de caracter, obtener la entrada tokenizada. Por ejemplo:\n",
    "\n",
    "**El smiles**:\n",
    "\n",
    "'C[C@@]12CC[C@H]3[C@]4(C)CCC[C@@]5(C)C(=O)OCC[N+](C)(C)CCCCCCCCC[N+](C)(C)CCOC(=O)[C@]6(C)CCC[C@]7(C)[C@@H]6CC[C@@]68C[C@@H](OC(=O)CCCCCCCCC(=O)O[C@@H]1C[C@@]3(CC[C@@H]45)C2)[C@@](C)(CC[C@@H]76)C8.[Br-].[Br-]'\n",
    "\n",
    "**Tendría que quedar algo asi (puede que no sea exacto):**\n",
    "\n",
    "array([ 2, 11,  2, 13, 13, 12,  5,  7,  2,  2, 11,  2, 13, 16, 12, 10, 11,\n",
    "        2, 13, 12, 15,  3,  2,  4,  2,  2,  2, 11,  2, 13, 13, 12, 23,  3,\n",
    "        2,  4,  2,  3,  9,  6,  4,  6,  2,  2, 11,  8, 21, 12,  3,  2,  4,\n",
    "        3,  2,  4,  2,  2,  2,  2,  2,  2,  2,  2,  2, 11,  8, 21, 12,  3,\n",
    "        2,  4,  3,  2,  4,  2,  2,  6,  2,  3,  9,  6,  4, 11,  2, 13, 12,\n",
    "       30,  3,  2,  4,  2,  2,  2, 11,  2, 13, 12, 35,  3,  2,  4, 11,  2,\n",
    "       13, 13, 16, 12, 30,  2,  2, 11,  2, 13, 13, 12, 30, 36,  2, 11,  2,\n",
    "       13, 13, 16, 12,  3,  6,  2,  3,  9,  6,  4,  2,  2,  2,  2,  2,  2,\n",
    "        2,  2,  2,  3,  9,  6,  4,  6, 11,  2, 13, 13, 16, 12,  5,  2, 11,\n",
    "        2, 13, 13, 12, 10,  3,  2,  2, 11,  2, 13, 13, 16, 12, 15, 23,  4,\n",
    "        2,  7,  4, 11,  2, 13, 13, 12,  3,  2,  4,  3,  2,  2, 11,  2, 13,\n",
    "       13, 16, 12, 35, 30,  4,  2, 36, 20, 11, 25, 26, 17, 12, 20, 11, 25,\n",
    "       26, 17, 12], dtype=int32)\n",
    "       \n",
    "\n",
    "**Otro ejemplo:**\n",
    "smiles: 'NC(=O)O'\n",
    "\n",
    "array([0, 0, 0, 0, 0, 0, 0, 0, 0, 0, 0, 0, 0, 0, 0, 0, 0, 0, 0, 0, 0, 0,\n",
    "       0, 0, 0, 0, 0, 0, 0, 0, 0, 0, 0, 0, 0, 0, 0, 0, 0, 0, 0, 0, 0, 0,\n",
    "       0, 0, 0, 0, 0, 0, 0, 0, 0, 0, 0, 0, 0, 0, 0, 0, 0, 0, 0, 0, 0, 0,\n",
    "       0, 0, 0, 0, 0, 0, 0, 0, 0, 0, 0, 0, 0, 0, 0, 0, 0, 0, 0, 0, 0, 0,\n",
    "       0, 0, 0, 0, 0, 0, 0, 0, 0, 0, 0, 0, 0, 0, 0, 0, 0, 0, 0, 0, 0, 0,\n",
    "       0, 0, 0, 0, 0, 0, 0, 0, 0, 0, 0, 0, 0, 0, 0, 0, 0, 0, 0, 0, 0, 0,\n",
    "       0, 0, 0, 0, 0, 0, 0, 0, 0, 0, 0, 0, 0, 0, 0, 0, 0, 0, 0, 0, 0, 0,\n",
    "       0, 0, 0, 0, 0, 0, 0, 0, 0, 0, 0, 0, 0, 0, 0, 0, 0, 0, 0, 0, 0, 0,\n",
    "       0, 0, 0, 0, 0, 0, 0, 0, 0, 0, 0, 0, 0, 0, 0, 0, 0, 0, 0, 0, 0, 0,\n",
    "       0, 0, 8, 2, 3, 9, 6, 4, 6], dtype=int32)\n",
    "\n",
    "**Tener en cuenta:**\n",
    "\n",
    "- Ver cuanta es la máxima longitud para agregar el padding correspondiente\n",
    "- En el ejemplo se agrego padding a la izquierda"
   ]
  },
  {
   "cell_type": "code",
   "execution_count": 23,
   "id": "07f8fff5-c1f6-48d6-9e19-ee5defde20b1",
   "metadata": {},
   "outputs": [],
   "source": [
    "max_len_idx = df['canonical_smiles'].apply(len).argmax()\n",
    "min_len_idx = df['canonical_smiles'].apply(len).argmin()"
   ]
  },
  {
   "cell_type": "code",
   "execution_count": 24,
   "id": "111e513a",
   "metadata": {},
   "outputs": [],
   "source": [
    "df['canonical_len'] = df['canonical_smiles'].apply(lambda x: len(x))"
   ]
  },
  {
   "cell_type": "code",
   "execution_count": 25,
   "id": "dc6563fb",
   "metadata": {},
   "outputs": [],
   "source": [
    "# Max y min \n",
    "max_sequence_len = df['canonical_len'].max()\n",
    "min_sequence_len = df['canonical_len'].min()"
   ]
  },
  {
   "cell_type": "code",
   "execution_count": 26,
   "id": "759d5e7a",
   "metadata": {},
   "outputs": [
    {
     "data": {
      "text/plain": [
       "(2929, 595, 207, 7)"
      ]
     },
     "execution_count": 26,
     "metadata": {},
     "output_type": "execute_result"
    }
   ],
   "source": [
    "max_len_idx,min_len_idx,max_sequence_len,min_sequence_len"
   ]
  },
  {
   "cell_type": "code",
   "execution_count": 27,
   "id": "703325ab-0193-4bf5-9b66-a880d7bc346b",
   "metadata": {},
   "outputs": [],
   "source": [
    "X = df['canonical_smiles']\n",
    "y = df['pIC50']"
   ]
  },
  {
   "cell_type": "code",
   "execution_count": null,
   "id": "09894d86-4408-469c-b1f9-60f6d7218b5c",
   "metadata": {},
   "outputs": [],
   "source": [
    "# Implementar tokenización y guardar en X_seq_pad el dataset tokenizado"
   ]
  },
  {
   "cell_type": "code",
   "execution_count": 120,
   "id": "68e8139f",
   "metadata": {},
   "outputs": [],
   "source": [
    "from tensorflow.keras.preprocessing.text import Tokenizer"
   ]
  },
  {
   "cell_type": "code",
   "execution_count": 121,
   "id": "3ee97288",
   "metadata": {},
   "outputs": [],
   "source": [
    "from tensorflow.keras.preprocessing.sequence import pad_sequences"
   ]
  },
  {
   "cell_type": "code",
   "execution_count": 122,
   "id": "a872eb2e",
   "metadata": {},
   "outputs": [],
   "source": [
    "token=Tokenizer(char_level=True, lower=False)"
   ]
  },
  {
   "cell_type": "code",
   "execution_count": 123,
   "id": "15152fb4",
   "metadata": {},
   "outputs": [],
   "source": [
    "token.fit_on_texts(X)"
   ]
  },
  {
   "cell_type": "code",
   "execution_count": 124,
   "id": "3a8b9100",
   "metadata": {},
   "outputs": [
    {
     "data": {
      "text/plain": [
       "{'c': 1,\n",
       " 'C': 2,\n",
       " '(': 3,\n",
       " ')': 4,\n",
       " '1': 5,\n",
       " 'O': 6,\n",
       " '2': 7,\n",
       " 'N': 8,\n",
       " '=': 9,\n",
       " '3': 10,\n",
       " '[': 11,\n",
       " ']': 12,\n",
       " 'n': 13,\n",
       " '@': 14,\n",
       " '4': 15,\n",
       " 'H': 16,\n",
       " '-': 17,\n",
       " '/': 18,\n",
       " 'l': 19,\n",
       " '.': 20,\n",
       " '+': 21,\n",
       " 'F': 22,\n",
       " '5': 23,\n",
       " 'o': 24,\n",
       " 'B': 25,\n",
       " 'r': 26,\n",
       " 'S': 27,\n",
       " '\\\\': 28,\n",
       " '#': 29,\n",
       " 's': 30,\n",
       " '6': 31,\n",
       " 'I': 32,\n",
       " 'e': 33,\n",
       " 'P': 34,\n",
       " '7': 35,\n",
       " '8': 36,\n",
       " 'i': 37,\n",
       " 'a': 38}"
      ]
     },
     "execution_count": 124,
     "metadata": {},
     "output_type": "execute_result"
    }
   ],
   "source": [
    "token.word_index"
   ]
  },
  {
   "cell_type": "code",
   "execution_count": 125,
   "id": "cdcd763a",
   "metadata": {},
   "outputs": [],
   "source": [
    "X_seq = token.texts_to_sequences(X)"
   ]
  },
  {
   "cell_type": "code",
   "execution_count": null,
   "id": "f75384ee",
   "metadata": {},
   "outputs": [],
   "source": []
  },
  {
   "cell_type": "code",
   "execution_count": 126,
   "id": "298f128c",
   "metadata": {},
   "outputs": [],
   "source": [
    "X_seq_pad = pad_sequences(X_seq)"
   ]
  },
  {
   "cell_type": "code",
   "execution_count": 127,
   "id": "3f0fc885",
   "metadata": {},
   "outputs": [
    {
     "data": {
      "text/plain": [
       "'NC(=O)O'"
      ]
     },
     "execution_count": 127,
     "metadata": {},
     "output_type": "execute_result"
    }
   ],
   "source": [
    "df['canonical_smiles'][min_len_idx]"
   ]
  },
  {
   "cell_type": "code",
   "execution_count": 128,
   "id": "b4910e93",
   "metadata": {},
   "outputs": [
    {
     "data": {
      "text/plain": [
       "array([0, 0, 0, 0, 0, 0, 0, 0, 0, 0, 0, 0, 0, 0, 0, 0, 0, 0, 0, 0, 0, 0,\n",
       "       0, 0, 0, 0, 0, 0, 0, 0, 0, 0, 0, 0, 0, 0, 0, 0, 0, 0, 0, 0, 0, 0,\n",
       "       0, 0, 0, 0, 0, 0, 0, 0, 0, 0, 0, 0, 0, 0, 0, 0, 0, 0, 0, 0, 0, 0,\n",
       "       0, 0, 0, 0, 0, 0, 0, 0, 0, 0, 0, 0, 0, 0, 0, 0, 0, 0, 0, 0, 0, 0,\n",
       "       0, 0, 0, 0, 0, 0, 0, 0, 0, 0, 0, 0, 0, 0, 0, 0, 0, 0, 0, 0, 0, 0,\n",
       "       0, 0, 0, 0, 0, 0, 0, 0, 0, 0, 0, 0, 0, 0, 0, 0, 0, 0, 0, 0, 0, 0,\n",
       "       0, 0, 0, 0, 0, 0, 0, 0, 0, 0, 0, 0, 0, 0, 0, 0, 0, 0, 0, 0, 0, 0,\n",
       "       0, 0, 0, 0, 0, 0, 0, 0, 0, 0, 0, 0, 0, 0, 0, 0, 0, 0, 0, 0, 0, 0,\n",
       "       0, 0, 0, 0, 0, 0, 0, 0, 0, 0, 0, 0, 0, 0, 0, 0, 0, 0, 0, 0, 0, 0,\n",
       "       0, 0, 8, 2, 3, 9, 6, 4, 6])"
      ]
     },
     "execution_count": 128,
     "metadata": {},
     "output_type": "execute_result"
    }
   ],
   "source": [
    "X_seq_pad[min_len_idx]"
   ]
  },
  {
   "cell_type": "code",
   "execution_count": null,
   "id": "e1715f54",
   "metadata": {},
   "outputs": [],
   "source": []
  },
  {
   "cell_type": "markdown",
   "id": "4233710d-9274-4dae-b22d-cf42b57ad862",
   "metadata": {},
   "source": [
    "# Split"
   ]
  },
  {
   "cell_type": "code",
   "execution_count": 21,
   "id": "ce7a95e6-2486-42fb-97fb-865e3fd6a561",
   "metadata": {},
   "outputs": [],
   "source": [
    "from sklearn.model_selection import train_test_split"
   ]
  },
  {
   "cell_type": "code",
   "execution_count": 22,
   "id": "fcb9840f-2f41-45be-99a5-f05f3ab73ed8",
   "metadata": {},
   "outputs": [
    {
     "ename": "NameError",
     "evalue": "name 'X_seq_pad' is not defined",
     "output_type": "error",
     "traceback": [
      "\u001b[1;31m---------------------------------------------------------------------------\u001b[0m",
      "\u001b[1;31mNameError\u001b[0m                                 Traceback (most recent call last)",
      "\u001b[1;32m~\\AppData\\Local\\Temp\\ipykernel_16128\\1987825183.py\u001b[0m in \u001b[0;36m<module>\u001b[1;34m\u001b[0m\n\u001b[1;32m----> 1\u001b[1;33m \u001b[0mX_train\u001b[0m\u001b[1;33m,\u001b[0m \u001b[0mX_test\u001b[0m\u001b[1;33m,\u001b[0m \u001b[0my_train\u001b[0m\u001b[1;33m,\u001b[0m \u001b[0my_test\u001b[0m \u001b[1;33m=\u001b[0m \u001b[0mtrain_test_split\u001b[0m\u001b[1;33m(\u001b[0m\u001b[0mX_seq_pad\u001b[0m\u001b[1;33m,\u001b[0m \u001b[0my\u001b[0m\u001b[1;33m,\u001b[0m \u001b[0mtest_size\u001b[0m\u001b[1;33m=\u001b[0m\u001b[1;36m0.2\u001b[0m\u001b[1;33m,\u001b[0m \u001b[0mrandom_state\u001b[0m\u001b[1;33m=\u001b[0m\u001b[1;36m42\u001b[0m\u001b[1;33m)\u001b[0m\u001b[1;33m\u001b[0m\u001b[1;33m\u001b[0m\u001b[0m\n\u001b[0m",
      "\u001b[1;31mNameError\u001b[0m: name 'X_seq_pad' is not defined"
     ]
    }
   ],
   "source": [
    "X_train, X_test, y_train, y_test = train_test_split(X_seq_pad, y, test_size=0.2, random_state=42)"
   ]
  },
  {
   "cell_type": "code",
   "execution_count": 131,
   "id": "01d78fd6",
   "metadata": {},
   "outputs": [
    {
     "data": {
      "text/plain": [
       "(4659, 4659, 1165)"
      ]
     },
     "execution_count": 131,
     "metadata": {},
     "output_type": "execute_result"
    }
   ],
   "source": [
    "len(X_train), len(y_train), len(X_test)"
   ]
  },
  {
   "cell_type": "code",
   "execution_count": 27,
   "id": "80b641cf",
   "metadata": {},
   "outputs": [
    {
     "data": {
      "text/plain": [
       "array([[ 0,  0,  0, ...,  4,  6,  7],\n",
       "       [ 0,  0,  0, ...,  4,  1,  5],\n",
       "       [ 0,  0,  0, ...,  1,  5,  7],\n",
       "       ...,\n",
       "       [ 0,  0,  0, ...,  1,  1,  5],\n",
       "       [ 0,  0,  0, ...,  4,  6,  7],\n",
       "       [ 0,  0,  0, ...,  4, 24,  5]])"
      ]
     },
     "execution_count": 27,
     "metadata": {},
     "output_type": "execute_result"
    }
   ],
   "source": [
    "X_train"
   ]
  },
  {
   "cell_type": "code",
   "execution_count": 28,
   "id": "b563cce5",
   "metadata": {},
   "outputs": [
    {
     "data": {
      "text/plain": [
       "array([ 0,  0,  0,  0,  0,  0,  0,  0,  0,  0,  0,  0,  0,  0,  0,  0,  0,\n",
       "        0,  0,  0,  0,  0,  0,  0,  0,  0,  0,  0,  0,  0,  0,  0,  0,  0,\n",
       "        0,  0,  0,  0,  0,  0,  0,  0,  0,  0,  0,  0,  0,  0,  0,  0,  0,\n",
       "        0,  0,  0,  0,  0,  0,  0,  0,  0,  0,  0,  0,  0,  0,  0,  0,  0,\n",
       "        0,  0,  0,  0,  0,  0,  0,  0,  0,  0,  0,  0,  0,  0,  0,  0,  0,\n",
       "        0,  0,  0,  0,  0,  0,  0,  0,  0,  0,  0,  0,  0,  0,  0,  0,  0,\n",
       "        0,  0,  0,  0,  0,  0,  0,  0,  0,  0,  0,  0,  0,  0,  0,  0,  0,\n",
       "        0,  0,  0,  0,  0,  0,  0,  0,  0,  0,  0,  0,  0,  0,  0,  0,  0,\n",
       "        0,  0,  0,  0,  0,  0,  0,  0,  0,  2,  6,  1,  5,  1,  1,  7,  1,\n",
       "        3,  1,  1,  5,  6,  4,  2,  2,  2,  3,  2,  4,  3,  2,  2,  3,  9,\n",
       "        6,  4,  8,  2,  2,  2,  2,  2,  2,  2,  2,  8,  1,  5,  1, 10,  1,\n",
       "        3, 13,  1, 15,  1,  1,  1,  1,  1,  5, 15,  4,  2,  2,  2,  2, 10,\n",
       "        4,  6,  7])"
      ]
     },
     "execution_count": 28,
     "metadata": {},
     "output_type": "execute_result"
    }
   ],
   "source": [
    "X_train[0,:]"
   ]
  },
  {
   "cell_type": "code",
   "execution_count": 29,
   "id": "7a5e7d08",
   "metadata": {},
   "outputs": [
    {
     "data": {
      "text/plain": [
       "array([ 0,  0,  0,  0,  0,  0,  0,  0,  0,  0,  0,  0,  0,  0,  0,  0,  0,\n",
       "        0,  0,  0,  0,  0,  0,  0,  0,  0,  0,  0,  0,  0,  0,  0,  0,  0,\n",
       "        0,  0,  0,  0,  0,  0,  0,  0,  0,  0,  0,  0,  0,  0,  0,  0,  0,\n",
       "        0,  0,  0,  0,  0,  0,  0,  0,  0,  0,  0,  0,  0,  0,  0,  0,  0,\n",
       "        0,  0,  0,  0,  0,  0,  0,  0,  0,  0,  0,  0,  0,  0,  0,  0,  0,\n",
       "        0,  0,  0,  0,  0,  0,  0,  0,  0,  0,  0,  0,  0,  0,  0,  0,  0,\n",
       "        0,  0,  0,  0,  0,  0,  0,  0,  0,  0,  0,  0,  0,  0,  0,  0,  0,\n",
       "        0,  0,  0,  0,  0,  0,  0,  0,  0,  0,  0,  0,  0,  0,  0,  0,  0,\n",
       "        0,  0,  0,  0,  0,  0,  0,  0,  0,  0,  0,  0,  0,  0,  0,  0,  0,\n",
       "        0,  0,  0,  0,  0,  0,  0,  0,  0,  0,  0,  0,  2,  8,  3,  2,  4,\n",
       "        2,  1,  5,  1,  1,  1,  3,  2, 27,  2,  2,  2,  2,  2,  2,  2,  2,\n",
       "       27,  2,  1,  7,  1,  1,  1,  3,  2,  8,  3,  2,  4,  2,  4, 24,  7,\n",
       "        4, 24,  5])"
      ]
     },
     "execution_count": 29,
     "metadata": {},
     "output_type": "execute_result"
    }
   ],
   "source": [
    "X_train[-1,:]"
   ]
  },
  {
   "cell_type": "code",
   "execution_count": 23,
   "id": "40c31469",
   "metadata": {},
   "outputs": [
    {
     "data": {
      "text/plain": [
       "((4659, 207), (4659,))"
      ]
     },
     "execution_count": 23,
     "metadata": {},
     "output_type": "execute_result"
    }
   ],
   "source": [
    "X_train.shape,y_train.shape"
   ]
  },
  {
   "cell_type": "code",
   "execution_count": null,
   "id": "f18f9f41",
   "metadata": {},
   "outputs": [],
   "source": []
  },
  {
   "cell_type": "code",
   "execution_count": 132,
   "id": "b3829bed",
   "metadata": {},
   "outputs": [],
   "source": [
    "X_train = np.vstack([X_train, X_train[:, ::-1]])"
   ]
  },
  {
   "cell_type": "code",
   "execution_count": 133,
   "id": "7b39b076",
   "metadata": {},
   "outputs": [],
   "source": [
    "y_train = np.hstack([y_train, y_train])"
   ]
  },
  {
   "cell_type": "code",
   "execution_count": 134,
   "id": "02855980",
   "metadata": {},
   "outputs": [
    {
     "data": {
      "text/plain": [
       "((9318, 207), (9318,))"
      ]
     },
     "execution_count": 134,
     "metadata": {},
     "output_type": "execute_result"
    }
   ],
   "source": [
    "X_train.shape,y_train.shape"
   ]
  },
  {
   "cell_type": "code",
   "execution_count": 135,
   "id": "bda7265d",
   "metadata": {},
   "outputs": [
    {
     "data": {
      "text/plain": [
       "array([[ 0,  0,  0, ...,  4,  6,  7],\n",
       "       [ 0,  0,  0, ...,  4,  1,  5],\n",
       "       [ 0,  0,  0, ...,  1,  5,  7],\n",
       "       ...,\n",
       "       [ 5,  1,  1, ...,  0,  0,  0],\n",
       "       [ 7,  6,  4, ...,  0,  0,  0],\n",
       "       [ 5, 24,  4, ...,  0,  0,  0]])"
      ]
     },
     "execution_count": 135,
     "metadata": {},
     "output_type": "execute_result"
    }
   ],
   "source": [
    "X_train"
   ]
  },
  {
   "cell_type": "code",
   "execution_count": 136,
   "id": "ea516a8b",
   "metadata": {},
   "outputs": [
    {
     "data": {
      "text/plain": [
       "array([ 0,  0,  0,  0,  0,  0,  0,  0,  0,  0,  0,  0,  0,  0,  0,  0,  0,\n",
       "        0,  0,  0,  0,  0,  0,  0,  0,  0,  0,  0,  0,  0,  0,  0,  0,  0,\n",
       "        0,  0,  0,  0,  0,  0,  0,  0,  0,  0,  0,  0,  0,  0,  0,  0,  0,\n",
       "        0,  0,  0,  0,  0,  0,  0,  0,  0,  0,  0,  0,  0,  0,  0,  0,  0,\n",
       "        0,  0,  0,  0,  0,  0,  0,  0,  0,  0,  0,  0,  0,  0,  0,  0,  0,\n",
       "        0,  0,  0,  0,  0,  0,  0,  0,  0,  0,  0,  0,  0,  0,  0,  0,  0,\n",
       "        0,  0,  0,  0,  0,  0,  0,  0,  0,  0,  0,  0,  0,  0,  0,  0,  0,\n",
       "        0,  0,  0,  0,  0,  0,  0,  0,  0,  0,  0,  0,  0,  0,  0,  0,  0,\n",
       "        0,  0,  0,  0,  0,  0,  0,  0,  0,  2,  6,  1,  5,  1,  1,  7,  1,\n",
       "        3,  1,  1,  5,  6,  4,  2,  2,  2,  3,  2,  4,  3,  2,  2,  3,  9,\n",
       "        6,  4,  8,  2,  2,  2,  2,  2,  2,  2,  2,  8,  1,  5,  1, 10,  1,\n",
       "        3, 13,  1, 15,  1,  1,  1,  1,  1,  5, 15,  4,  2,  2,  2,  2, 10,\n",
       "        4,  6,  7])"
      ]
     },
     "execution_count": 136,
     "metadata": {},
     "output_type": "execute_result"
    }
   ],
   "source": [
    "X_train[0,:]"
   ]
  },
  {
   "cell_type": "code",
   "execution_count": 36,
   "id": "94de2b63",
   "metadata": {},
   "outputs": [
    {
     "data": {
      "text/plain": [
       "array([ 7,  6,  4, 10,  2,  2,  2,  2,  4, 15,  5,  1,  1,  1,  1,  1, 15,\n",
       "        1, 13,  3,  1, 10,  1,  5,  1,  8,  2,  2,  2,  2,  2,  2,  2,  2,\n",
       "        8,  4,  6,  9,  3,  2,  2,  3,  4,  2,  3,  2,  2,  2,  4,  6,  5,\n",
       "        1,  1,  3,  1,  7,  1,  1,  5,  1,  6,  2,  0,  0,  0,  0,  0,  0,\n",
       "        0,  0,  0,  0,  0,  0,  0,  0,  0,  0,  0,  0,  0,  0,  0,  0,  0,\n",
       "        0,  0,  0,  0,  0,  0,  0,  0,  0,  0,  0,  0,  0,  0,  0,  0,  0,\n",
       "        0,  0,  0,  0,  0,  0,  0,  0,  0,  0,  0,  0,  0,  0,  0,  0,  0,\n",
       "        0,  0,  0,  0,  0,  0,  0,  0,  0,  0,  0,  0,  0,  0,  0,  0,  0,\n",
       "        0,  0,  0,  0,  0,  0,  0,  0,  0,  0,  0,  0,  0,  0,  0,  0,  0,\n",
       "        0,  0,  0,  0,  0,  0,  0,  0,  0,  0,  0,  0,  0,  0,  0,  0,  0,\n",
       "        0,  0,  0,  0,  0,  0,  0,  0,  0,  0,  0,  0,  0,  0,  0,  0,  0,\n",
       "        0,  0,  0,  0,  0,  0,  0,  0,  0,  0,  0,  0,  0,  0,  0,  0,  0,\n",
       "        0,  0,  0])"
      ]
     },
     "execution_count": 36,
     "metadata": {},
     "output_type": "execute_result"
    }
   ],
   "source": [
    "X_train[4659,:]"
   ]
  },
  {
   "cell_type": "markdown",
   "id": "85941430-2534-4d7d-ba52-d934a31c1bf6",
   "metadata": {},
   "source": [
    "# Network Model"
   ]
  },
  {
   "cell_type": "code",
   "execution_count": 16,
   "id": "6bd5d1bf-4640-4cbc-acd3-72881ddcc07e",
   "metadata": {},
   "outputs": [],
   "source": [
    "from tensorflow.keras import Sequential\n",
    "from tensorflow.keras.layers import LSTM, Dense, Embedding, Bidirectional, Dropout, Activation, BatchNormalization\n",
    "from tensorflow.keras.callbacks import ModelCheckpoint, ReduceLROnPlateau, EarlyStopping\n",
    "from tensorflow.keras.optimizers import Adam, RMSprop\n",
    "from tensorflow.keras import backend as K"
   ]
  },
  {
   "cell_type": "code",
   "execution_count": 17,
   "id": "4bf115a2-9f1b-42b8-9b62-59728f1da977",
   "metadata": {},
   "outputs": [],
   "source": [
    "# Métrica\n",
    "\n",
    "def R2(y_true, y_pred):\n",
    "    SS_res =  K.sum(K.square( y_true-y_pred ))\n",
    "    SS_tot = K.sum(K.square( y_true - K.mean(y_true) ) )\n",
    "    return ( 1 - SS_res/(SS_tot + K.epsilon()) )"
   ]
  },
  {
   "cell_type": "code",
   "execution_count": 147,
   "id": "92d30b68-3110-459c-887d-a06f056d067b",
   "metadata": {},
   "outputs": [
    {
     "data": {
      "text/plain": [
       "38"
      ]
     },
     "execution_count": 147,
     "metadata": {},
     "output_type": "execute_result"
    }
   ],
   "source": [
    "vocab_size = len(token.word_index)\n",
    "vocab_size"
   ]
  },
  {
   "cell_type": "code",
   "execution_count": 148,
   "id": "6166a72b-ccd1-459c-a3a1-fa43bf31a369",
   "metadata": {},
   "outputs": [
    {
     "data": {
      "text/plain": [
       "207"
      ]
     },
     "execution_count": 148,
     "metadata": {},
     "output_type": "execute_result"
    }
   ],
   "source": [
    "max_sequence_len = X_seq_pad.shape[1]\n",
    "max_sequence_len"
   ]
  },
  {
   "cell_type": "markdown",
   "id": "cc91cd42-b885-4ab5-b348-57296b0c0d10",
   "metadata": {},
   "source": [
    "# Armar modelo en keras de LSTM\n",
    "El de abajo es un ejemplo propuesto pero puede armar otro similar (siempre con LSTM o GRU)"
   ]
  },
  {
   "cell_type": "raw",
   "id": "9883ed67-e2d9-412a-8f8b-1e463df69ed8",
   "metadata": {},
   "source": [
    "Model: \"sequential\"\n",
    "_________________________________________________________________\n",
    "Layer (type)                 Output Shape              Param #   \n",
    "=================================================================\n",
    "embedding (Embedding)        (None, 207, 64)           2496      \n",
    "_________________________________________________________________\n",
    "bidirectional (Bidirectional (None, 200)               132000    \n",
    "_________________________________________________________________\n",
    "dense (Dense)                (None, 50)                10050     \n",
    "_________________________________________________________________\n",
    "batch_normalization (BatchNo (None, 50)                200       \n",
    "_________________________________________________________________\n",
    "activation (Activation)      (None, 50)                0         \n",
    "_________________________________________________________________\n",
    "dense_1 (Dense)              (None, 1)                 51        \n",
    "=================================================================\n",
    "Total params: 144,797\n",
    "Trainable params: 144,697\n",
    "Non-trainable params: 100\n",
    "_________________________________________________________________"
   ]
  },
  {
   "cell_type": "code",
   "execution_count": 149,
   "id": "d05209e0-5358-40c0-b806-2e98367e9f1c",
   "metadata": {},
   "outputs": [],
   "source": [
    "model = Sequential()\n",
    "model.add(Embedding(vocab_size + 1, 64, input_length=max_sequence_len))\n",
    "model.add(Bidirectional(LSTM(128, return_sequences=False, activation='tanh')))\n",
    "model.add(Dense(100))\n",
    "model.add(BatchNormalization())\n",
    "model.add(Activation('relu'))\n",
    "model.add(Dropout(0.2))\n",
    "model.add(Dense(50))\n",
    "model.add(BatchNormalization())\n",
    "model.add(Activation('relu'))\n",
    "model.add(Dense(1, activation='linear'))"
   ]
  },
  {
   "cell_type": "code",
   "execution_count": 150,
   "id": "237c1327-028f-4f70-bd29-ea94cd999686",
   "metadata": {},
   "outputs": [
    {
     "name": "stdout",
     "output_type": "stream",
     "text": [
      "Model: \"sequential_6\"\n",
      "_________________________________________________________________\n",
      "Layer (type)                 Output Shape              Param #   \n",
      "=================================================================\n",
      "embedding_6 (Embedding)      (None, 207, 64)           2496      \n",
      "_________________________________________________________________\n",
      "bidirectional_6 (Bidirection (None, 256)               197632    \n",
      "_________________________________________________________________\n",
      "dense_12 (Dense)             (None, 100)               25700     \n",
      "_________________________________________________________________\n",
      "batch_normalization_7 (Batch (None, 100)               400       \n",
      "_________________________________________________________________\n",
      "activation_6 (Activation)    (None, 100)               0         \n",
      "_________________________________________________________________\n",
      "dropout_2 (Dropout)          (None, 100)               0         \n",
      "_________________________________________________________________\n",
      "dense_13 (Dense)             (None, 50)                5050      \n",
      "_________________________________________________________________\n",
      "batch_normalization_8 (Batch (None, 50)                200       \n",
      "_________________________________________________________________\n",
      "activation_7 (Activation)    (None, 50)                0         \n",
      "_________________________________________________________________\n",
      "dense_14 (Dense)             (None, 1)                 51        \n",
      "=================================================================\n",
      "Total params: 231,529\n",
      "Trainable params: 231,229\n",
      "Non-trainable params: 300\n",
      "_________________________________________________________________\n"
     ]
    }
   ],
   "source": [
    "model.summary()"
   ]
  },
  {
   "cell_type": "code",
   "execution_count": 151,
   "id": "9138b411-fc5d-41bd-8c8e-c12580cc5b14",
   "metadata": {},
   "outputs": [],
   "source": [
    "model.compile(optimizer=RMSprop(learning_rate=0.005), loss='mse', metrics=[R2])"
   ]
  },
  {
   "cell_type": "code",
   "execution_count": 152,
   "id": "62c3f792-f413-4150-8ebf-1f59c5fb986d",
   "metadata": {},
   "outputs": [],
   "source": [
    "mcp = ModelCheckpoint('models/best_model_{epoch}', save_best_only=True, save_format=\"h5\")\n",
    "lr_reduce = ReduceLROnPlateau(monitor='loss', \n",
    "                                   factor=0.1,\n",
    "                                   cooldown=0,\n",
    "                                   patience=10,\n",
    "                                   min_lr=1e-4)\n",
    "ES=EarlyStopping(monitor='val_loss',patience=20, restore_best_weights=True)"
   ]
  },
  {
   "cell_type": "code",
   "execution_count": 153,
   "id": "3f37ab4e-0e3a-44c6-a572-ba5c67930c61",
   "metadata": {},
   "outputs": [
    {
     "name": "stdout",
     "output_type": "stream",
     "text": [
      "Epoch 1/50\n",
      "94/94 [==============================] - ETA: 0s - loss: 5.6951 - R2: -1.2499WARNING:tensorflow:From C:\\Users\\HP\\anaconda3\\envs\\bioinformatic\\lib\\site-packages\\tensorflow\\python\\training\\tracking\\tracking.py:111: Model.state_updates (from tensorflow.python.keras.engine.training) is deprecated and will be removed in a future version.\n",
      "Instructions for updating:\n",
      "This property should not be used in TensorFlow 2.0, as updates are applied automatically.\n",
      "WARNING:tensorflow:From C:\\Users\\HP\\anaconda3\\envs\\bioinformatic\\lib\\site-packages\\tensorflow\\python\\training\\tracking\\tracking.py:111: Layer.updates (from tensorflow.python.keras.engine.base_layer) is deprecated and will be removed in a future version.\n",
      "Instructions for updating:\n",
      "This property should not be used in TensorFlow 2.0, as updates are applied automatically.\n",
      "INFO:tensorflow:Assets written to: models\\best_model_1\\assets\n",
      "94/94 [==============================] - 165s 2s/step - loss: 5.6951 - R2: -1.2499 - val_loss: 37.5563 - val_R2: -12.4224\n",
      "Epoch 2/50\n",
      "94/94 [==============================] - ETA: 0s - loss: 2.7522 - R2: -0.0703INFO:tensorflow:Assets written to: models\\best_model_2\\assets\n",
      "94/94 [==============================] - 152s 2s/step - loss: 2.7522 - R2: -0.0703 - val_loss: 22.6043 - val_R2: -7.0534\n",
      "Epoch 3/50\n",
      "94/94 [==============================] - ETA: 0s - loss: 2.7520 - R2: -0.0670INFO:tensorflow:Assets written to: models\\best_model_3\\assets\n",
      "94/94 [==============================] - 177s 2s/step - loss: 2.7520 - R2: -0.0670 - val_loss: 5.8007 - val_R2: -1.0427\n",
      "Epoch 4/50\n",
      "94/94 [==============================] - ETA: 0s - loss: 2.3615 - R2: 0.0948INFO:tensorflow:Assets written to: models\\best_model_4\\assets\n",
      "94/94 [==============================] - 184s 2s/step - loss: 2.3615 - R2: 0.0948 - val_loss: 2.7760 - val_R2: 0.0596\n",
      "Epoch 5/50\n",
      "94/94 [==============================] - 145s 2s/step - loss: 2.3101 - R2: 0.1097 - val_loss: 2.9534 - val_R2: -0.0062\n",
      "Epoch 6/50\n",
      "94/94 [==============================] - 145s 2s/step - loss: 2.1760 - R2: 0.1667 - val_loss: 4.0587 - val_R2: -0.3773\n",
      "Epoch 7/50\n",
      "94/94 [==============================] - 148s 2s/step - loss: 1.9909 - R2: 0.2296 - val_loss: 2.9655 - val_R2: -0.0104\n",
      "Epoch 8/50\n",
      "94/94 [==============================] - ETA: 0s - loss: 1.8682 - R2: 0.2859INFO:tensorflow:Assets written to: models\\best_model_8\\assets\n",
      "94/94 [==============================] - 196s 2s/step - loss: 1.8682 - R2: 0.2859 - val_loss: 2.7266 - val_R2: 0.0704\n",
      "Epoch 9/50\n",
      "94/94 [==============================] - ETA: 0s - loss: 1.7186 - R2: 0.3389INFO:tensorflow:Assets written to: models\\best_model_9\\assets\n",
      "94/94 [==============================] - 199s 2s/step - loss: 1.7186 - R2: 0.3389 - val_loss: 2.1471 - val_R2: 0.2833\n",
      "Epoch 10/50\n",
      "94/94 [==============================] - 138s 1s/step - loss: 1.5671 - R2: 0.3950 - val_loss: 2.6544 - val_R2: 0.1040\n",
      "Epoch 11/50\n",
      "94/94 [==============================] - 136s 1s/step - loss: 1.4413 - R2: 0.4458 - val_loss: 2.6005 - val_R2: 0.1368\n",
      "Epoch 12/50\n",
      "94/94 [==============================] - ETA: 0s - loss: 1.3267 - R2: 0.4905INFO:tensorflow:Assets written to: models\\best_model_12\\assets\n",
      "94/94 [==============================] - 186s 2s/step - loss: 1.3267 - R2: 0.4905 - val_loss: 1.9775 - val_R2: 0.3419\n",
      "Epoch 13/50\n",
      "94/94 [==============================] - 146s 2s/step - loss: 1.2229 - R2: 0.5292 - val_loss: 2.1391 - val_R2: 0.2782\n",
      "Epoch 14/50\n",
      "94/94 [==============================] - ETA: 0s - loss: 1.1079 - R2: 0.5733INFO:tensorflow:Assets written to: models\\best_model_14\\assets\n",
      "94/94 [==============================] - 192s 2s/step - loss: 1.1079 - R2: 0.5733 - val_loss: 1.7232 - val_R2: 0.4178\n",
      "Epoch 15/50\n",
      "94/94 [==============================] - ETA: 0s - loss: 1.0403 - R2: 0.5966INFO:tensorflow:Assets written to: models\\best_model_15\\assets\n",
      "94/94 [==============================] - 204s 2s/step - loss: 1.0403 - R2: 0.5966 - val_loss: 1.5421 - val_R2: 0.4837\n",
      "Epoch 16/50\n",
      "94/94 [==============================] - ETA: 0s - loss: 0.9628 - R2: 0.6283INFO:tensorflow:Assets written to: models\\best_model_16\\assets\n",
      "94/94 [==============================] - 211s 2s/step - loss: 0.9628 - R2: 0.6283 - val_loss: 1.3976 - val_R2: 0.5311\n",
      "Epoch 17/50\n",
      "94/94 [==============================] - 171s 2s/step - loss: 0.8782 - R2: 0.6570 - val_loss: 1.5079 - val_R2: 0.5001\n",
      "Epoch 18/50\n",
      "94/94 [==============================] - 173s 2s/step - loss: 0.9223 - R2: 0.6490 - val_loss: 1.6574 - val_R2: 0.4418\n",
      "Epoch 19/50\n",
      "94/94 [==============================] - ETA: 0s - loss: 0.7755 - R2: 0.6992INFO:tensorflow:Assets written to: models\\best_model_19\\assets\n",
      "94/94 [==============================] - 215s 2s/step - loss: 0.7755 - R2: 0.6992 - val_loss: 1.3475 - val_R2: 0.5469\n",
      "Epoch 20/50\n",
      "94/94 [==============================] - ETA: 0s - loss: 0.7346 - R2: 0.7178INFO:tensorflow:Assets written to: models\\best_model_20\\assets\n",
      "94/94 [==============================] - 213s 2s/step - loss: 0.7346 - R2: 0.7178 - val_loss: 1.2718 - val_R2: 0.5735\n",
      "Epoch 21/50\n",
      "94/94 [==============================] - 173s 2s/step - loss: 0.6788 - R2: 0.7316 - val_loss: 1.4241 - val_R2: 0.5102\n",
      "Epoch 22/50\n",
      "94/94 [==============================] - ETA: 0s - loss: 0.6347 - R2: 0.7532INFO:tensorflow:Assets written to: models\\best_model_22\\assets\n",
      "94/94 [==============================] - 214s 2s/step - loss: 0.6347 - R2: 0.7532 - val_loss: 1.0669 - val_R2: 0.6340\n",
      "Epoch 23/50\n",
      "94/94 [==============================] - 170s 2s/step - loss: 0.6027 - R2: 0.7658 - val_loss: 1.2694 - val_R2: 0.5591\n",
      "Epoch 24/50\n",
      "94/94 [==============================] - 169s 2s/step - loss: 0.5879 - R2: 0.7663 - val_loss: 1.2511 - val_R2: 0.5657\n",
      "Epoch 25/50\n",
      "94/94 [==============================] - 171s 2s/step - loss: 0.5662 - R2: 0.7745 - val_loss: 1.5341 - val_R2: 0.4597\n",
      "Epoch 26/50\n",
      "94/94 [==============================] - 170s 2s/step - loss: 0.5358 - R2: 0.7888 - val_loss: 1.4830 - val_R2: 0.4883\n",
      "Epoch 27/50\n",
      "94/94 [==============================] - ETA: 0s - loss: 0.5092 - R2: 0.8038INFO:tensorflow:Assets written to: models\\best_model_27\\assets\n",
      "94/94 [==============================] - 214s 2s/step - loss: 0.5092 - R2: 0.8038 - val_loss: 1.0050 - val_R2: 0.6517\n",
      "Epoch 28/50\n",
      "94/94 [==============================] - 174s 2s/step - loss: 0.4935 - R2: 0.8062 - val_loss: 1.0770 - val_R2: 0.6268\n",
      "Epoch 29/50\n",
      "94/94 [==============================] - 174s 2s/step - loss: 0.4702 - R2: 0.8200 - val_loss: 1.0067 - val_R2: 0.6516\n",
      "Epoch 30/50\n",
      "94/94 [==============================] - 175s 2s/step - loss: 0.4429 - R2: 0.8287 - val_loss: 1.1954 - val_R2: 0.5809\n",
      "Epoch 31/50\n",
      "94/94 [==============================] - 174s 2s/step - loss: 0.4506 - R2: 0.8238 - val_loss: 1.0553 - val_R2: 0.6414\n",
      "Epoch 32/50\n",
      "94/94 [==============================] - 174s 2s/step - loss: 0.4176 - R2: 0.8383 - val_loss: 1.0747 - val_R2: 0.6278\n",
      "Epoch 33/50\n",
      "94/94 [==============================] - ETA: 0s - loss: 0.4202 - R2: 0.8369INFO:tensorflow:Assets written to: models\\best_model_33\\assets\n",
      "94/94 [==============================] - 220s 2s/step - loss: 0.4202 - R2: 0.8369 - val_loss: 0.9613 - val_R2: 0.6691\n",
      "Epoch 34/50\n",
      "94/94 [==============================] - 161s 2s/step - loss: 0.4147 - R2: 0.8383 - val_loss: 1.2356 - val_R2: 0.5692\n",
      "Epoch 35/50\n",
      "94/94 [==============================] - 165s 2s/step - loss: 0.4037 - R2: 0.8428 - val_loss: 1.4858 - val_R2: 0.4861\n",
      "Epoch 36/50\n",
      "94/94 [==============================] - ETA: 0s - loss: 0.3799 - R2: 0.8468INFO:tensorflow:Assets written to: models\\best_model_36\\assets\n",
      "94/94 [==============================] - 266s 3s/step - loss: 0.3799 - R2: 0.8468 - val_loss: 0.9337 - val_R2: 0.6791\n",
      "Epoch 37/50\n",
      "94/94 [==============================] - 218s 2s/step - loss: 0.3824 - R2: 0.8524 - val_loss: 1.0805 - val_R2: 0.6279\n",
      "Epoch 38/50\n",
      "94/94 [==============================] - 218s 2s/step - loss: 0.3728 - R2: 0.8585 - val_loss: 1.1163 - val_R2: 0.6166\n",
      "Epoch 39/50\n",
      "94/94 [==============================] - 194s 2s/step - loss: 0.3672 - R2: 0.8554 - val_loss: 0.9933 - val_R2: 0.6610\n",
      "Epoch 40/50\n",
      "94/94 [==============================] - 190s 2s/step - loss: 0.3574 - R2: 0.8621 - val_loss: 1.0986 - val_R2: 0.6249\n",
      "Epoch 41/50\n",
      "94/94 [==============================] - 192s 2s/step - loss: 0.3513 - R2: 0.8600 - val_loss: 1.2512 - val_R2: 0.5670\n",
      "Epoch 42/50\n",
      "94/94 [==============================] - 190s 2s/step - loss: 0.3509 - R2: 0.8655 - val_loss: 1.0784 - val_R2: 0.6338\n",
      "Epoch 43/50\n",
      "94/94 [==============================] - 190s 2s/step - loss: 0.3363 - R2: 0.8633 - val_loss: 1.0321 - val_R2: 0.6475\n",
      "Epoch 44/50\n",
      "94/94 [==============================] - 191s 2s/step - loss: 0.3185 - R2: 0.8763 - val_loss: 0.9888 - val_R2: 0.6616\n",
      "Epoch 45/50\n",
      "94/94 [==============================] - 192s 2s/step - loss: 0.3142 - R2: 0.8795 - val_loss: 1.0104 - val_R2: 0.6581\n",
      "Epoch 46/50\n",
      "94/94 [==============================] - 201s 2s/step - loss: 0.3088 - R2: 0.8811 - val_loss: 1.2387 - val_R2: 0.5762\n",
      "Epoch 47/50\n",
      "94/94 [==============================] - 192s 2s/step - loss: 0.3046 - R2: 0.8822 - val_loss: 1.0587 - val_R2: 0.6407\n",
      "Epoch 48/50\n",
      "94/94 [==============================] - 190s 2s/step - loss: 0.2988 - R2: 0.8844 - val_loss: 1.0766 - val_R2: 0.6363\n",
      "Epoch 49/50\n",
      "94/94 [==============================] - 191s 2s/step - loss: 0.3052 - R2: 0.8826 - val_loss: 0.9648 - val_R2: 0.6711\n",
      "Epoch 50/50\n",
      "94/94 [==============================] - 192s 2s/step - loss: 0.2922 - R2: 0.8890 - val_loss: 1.0070 - val_R2: 0.6579\n"
     ]
    }
   ],
   "source": [
    "history = model.fit(X_train, y_train,epochs=50, batch_size=100,  validation_data=(X_test, y_test), callbacks=[mcp, ES,lr_reduce])"
   ]
  },
  {
   "cell_type": "code",
   "execution_count": 154,
   "id": "0084fbb1-e83e-4808-99bf-1458f3ea3076",
   "metadata": {},
   "outputs": [],
   "source": [
    "y_pred = model.predict(X_test)"
   ]
  },
  {
   "cell_type": "markdown",
   "id": "382979a3-f299-4762-8b6d-10a6ea4d3c70",
   "metadata": {},
   "source": [
    "# Score"
   ]
  },
  {
   "cell_type": "code",
   "execution_count": 155,
   "id": "f9fd5d60-841f-46c3-94b6-5755b4d548cd",
   "metadata": {},
   "outputs": [],
   "source": [
    "r2 = 1 - ((y_test.values - y_pred.reshape(-1)) ** 2).sum() / ((y_test - y_test.mean()) ** 2).sum()"
   ]
  },
  {
   "cell_type": "code",
   "execution_count": 157,
   "id": "4d2bfabe-2e3e-40cf-a1e8-2d458ee7f328",
   "metadata": {},
   "outputs": [
    {
     "data": {
      "text/plain": [
       "0.6616316411208933"
      ]
     },
     "execution_count": 157,
     "metadata": {},
     "output_type": "execute_result"
    }
   ],
   "source": [
    "r2\n",
    "# 0.4984533246797399"
   ]
  },
  {
   "cell_type": "code",
   "execution_count": 158,
   "id": "85262541-e04a-4ff2-b3e6-a47643db66f6",
   "metadata": {},
   "outputs": [],
   "source": [
    "model.save('model1.h5', )"
   ]
  },
  {
   "cell_type": "markdown",
   "id": "5f683e18-c876-4f7c-93ea-a33d495dcdaa",
   "metadata": {},
   "source": [
    "# Load model (solo si se grabo el modelo)"
   ]
  },
  {
   "cell_type": "code",
   "execution_count": 18,
   "id": "285c8740-f0bb-4237-8593-ff9b815de0e3",
   "metadata": {},
   "outputs": [],
   "source": [
    "from tensorflow.keras.models import load_model"
   ]
  },
  {
   "cell_type": "code",
   "execution_count": 19,
   "id": "2168984f-770c-436e-92da-c1344b1d3abc",
   "metadata": {},
   "outputs": [],
   "source": [
    "model_loaded = load_model('model1.h5', custom_objects={'R2': R2})"
   ]
  },
  {
   "cell_type": "code",
   "execution_count": 20,
   "id": "13a9d7d8-41e0-44a0-a8b9-02157a11f8f2",
   "metadata": {},
   "outputs": [
    {
     "ename": "NameError",
     "evalue": "name 'X_test' is not defined",
     "output_type": "error",
     "traceback": [
      "\u001b[1;31m---------------------------------------------------------------------------\u001b[0m",
      "\u001b[1;31mNameError\u001b[0m                                 Traceback (most recent call last)",
      "\u001b[1;32m~\\AppData\\Local\\Temp\\ipykernel_16128\\454107382.py\u001b[0m in \u001b[0;36m<module>\u001b[1;34m\u001b[0m\n\u001b[1;32m----> 1\u001b[1;33m \u001b[0my_pred\u001b[0m \u001b[1;33m=\u001b[0m \u001b[0mmodel_loaded\u001b[0m\u001b[1;33m.\u001b[0m\u001b[0mpredict\u001b[0m\u001b[1;33m(\u001b[0m\u001b[0mX_test\u001b[0m\u001b[1;33m)\u001b[0m\u001b[1;33m\u001b[0m\u001b[1;33m\u001b[0m\u001b[0m\n\u001b[0m",
      "\u001b[1;31mNameError\u001b[0m: name 'X_test' is not defined"
     ]
    }
   ],
   "source": [
    "y_pred = model_loaded.predict(X_test)"
   ]
  },
  {
   "cell_type": "code",
   "execution_count": 171,
   "id": "26c63493-3f25-4383-9654-58ee62aa3ae5",
   "metadata": {},
   "outputs": [
    {
     "data": {
      "text/plain": [
       "0.6616316411208933"
      ]
     },
     "execution_count": 171,
     "metadata": {},
     "output_type": "execute_result"
    }
   ],
   "source": [
    "r2 = 1 - ((y_test.values - y_pred.reshape(-1)) ** 2).sum() / ((y_test - y_test.mean()) ** 2).sum()\n",
    "r2"
   ]
  },
  {
   "cell_type": "markdown",
   "id": "c8ab60bf-7b98-4f46-b1dd-b08b5fbf8bed",
   "metadata": {},
   "source": [
    "¿Hasta que valores de r2 logró?"
   ]
  },
  {
   "cell_type": "markdown",
   "id": "cd252895-4430-4dd2-ae47-7f6a76cd2be6",
   "metadata": {},
   "source": []
  },
  {
   "cell_type": "markdown",
   "id": "7f1a6260-e31f-4e5e-a923-ce67bf31152f",
   "metadata": {},
   "source": [
    "# Evaluación"
   ]
  },
  {
   "cell_type": "code",
   "execution_count": 1,
   "id": "7dd9d7e6-2789-459e-b9dd-593e10847fc4",
   "metadata": {},
   "outputs": [
    {
     "ename": "NameError",
     "evalue": "name 'y_test' is not defined",
     "output_type": "error",
     "traceback": [
      "\u001b[1;31m---------------------------------------------------------------------------\u001b[0m",
      "\u001b[1;31mNameError\u001b[0m                                 Traceback (most recent call last)",
      "\u001b[1;32m~\\AppData\\Local\\Temp\\ipykernel_16128\\715883666.py\u001b[0m in \u001b[0;36m<module>\u001b[1;34m\u001b[0m\n\u001b[0;32m      5\u001b[0m \u001b[0msns\u001b[0m\u001b[1;33m.\u001b[0m\u001b[0mset_style\u001b[0m\u001b[1;33m(\u001b[0m\u001b[1;34m\"white\"\u001b[0m\u001b[1;33m)\u001b[0m\u001b[1;33m\u001b[0m\u001b[1;33m\u001b[0m\u001b[0m\n\u001b[0;32m      6\u001b[0m \u001b[1;33m\u001b[0m\u001b[0m\n\u001b[1;32m----> 7\u001b[1;33m \u001b[0max\u001b[0m \u001b[1;33m=\u001b[0m \u001b[0msns\u001b[0m\u001b[1;33m.\u001b[0m\u001b[0mregplot\u001b[0m\u001b[1;33m(\u001b[0m\u001b[0mx\u001b[0m\u001b[1;33m=\u001b[0m\u001b[0my_test\u001b[0m\u001b[1;33m,\u001b[0m \u001b[0my\u001b[0m\u001b[1;33m=\u001b[0m\u001b[0my_pred\u001b[0m\u001b[1;33m,\u001b[0m \u001b[0mscatter_kws\u001b[0m\u001b[1;33m=\u001b[0m\u001b[1;33m{\u001b[0m\u001b[1;34m'alpha'\u001b[0m\u001b[1;33m:\u001b[0m\u001b[1;36m0.4\u001b[0m\u001b[1;33m}\u001b[0m\u001b[1;33m)\u001b[0m\u001b[1;33m\u001b[0m\u001b[1;33m\u001b[0m\u001b[0m\n\u001b[0m\u001b[0;32m      8\u001b[0m \u001b[0max\u001b[0m\u001b[1;33m.\u001b[0m\u001b[0mset_xlabel\u001b[0m\u001b[1;33m(\u001b[0m\u001b[1;34m'Experimental pIC50'\u001b[0m\u001b[1;33m,\u001b[0m \u001b[0mfontsize\u001b[0m\u001b[1;33m=\u001b[0m\u001b[1;34m'large'\u001b[0m\u001b[1;33m,\u001b[0m \u001b[0mfontweight\u001b[0m\u001b[1;33m=\u001b[0m\u001b[1;34m'bold'\u001b[0m\u001b[1;33m)\u001b[0m\u001b[1;33m\u001b[0m\u001b[1;33m\u001b[0m\u001b[0m\n\u001b[0;32m      9\u001b[0m \u001b[0max\u001b[0m\u001b[1;33m.\u001b[0m\u001b[0mset_ylabel\u001b[0m\u001b[1;33m(\u001b[0m\u001b[1;34m'Predicted pIC50'\u001b[0m\u001b[1;33m,\u001b[0m \u001b[0mfontsize\u001b[0m\u001b[1;33m=\u001b[0m\u001b[1;34m'large'\u001b[0m\u001b[1;33m,\u001b[0m \u001b[0mfontweight\u001b[0m\u001b[1;33m=\u001b[0m\u001b[1;34m'bold'\u001b[0m\u001b[1;33m)\u001b[0m\u001b[1;33m\u001b[0m\u001b[1;33m\u001b[0m\u001b[0m\n",
      "\u001b[1;31mNameError\u001b[0m: name 'y_test' is not defined"
     ]
    }
   ],
   "source": [
    "import seaborn as sns\n",
    "import matplotlib.pyplot as plt\n",
    "\n",
    "sns.set(color_codes=True)\n",
    "sns.set_style(\"white\")\n",
    "\n",
    "ax = sns.regplot(x=y_test, y=y_pred, scatter_kws={'alpha':0.4})\n",
    "ax.set_xlabel('Experimental pIC50', fontsize='large', fontweight='bold')\n",
    "ax.set_ylabel('Predicted pIC50', fontsize='large', fontweight='bold')\n",
    "ax.set_xlim(0, 12)\n",
    "ax.set_ylim(0, 12)\n",
    "ax.figure.set_size_inches(5, 5)\n",
    "plt.show"
   ]
  }
 ],
 "metadata": {
  "kernelspec": {
   "display_name": "Python 3 (ipykernel)",
   "language": "python",
   "name": "python3"
  },
  "language_info": {
   "codemirror_mode": {
    "name": "ipython",
    "version": 3
   },
   "file_extension": ".py",
   "mimetype": "text/x-python",
   "name": "python",
   "nbconvert_exporter": "python",
   "pygments_lexer": "ipython3",
   "version": "3.7.16"
  }
 },
 "nbformat": 4,
 "nbformat_minor": 5
}
