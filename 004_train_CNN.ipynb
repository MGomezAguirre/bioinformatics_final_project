{
 "cells": [
  {
   "cell_type": "code",
   "execution_count": 1,
   "id": "3ac13f6c-a061-4c24-a5fc-081ea6283a62",
   "metadata": {},
   "outputs": [],
   "source": [
    "%load_ext autoreload\n",
    "%autoreload 2"
   ]
  },
  {
   "cell_type": "code",
   "execution_count": 2,
   "id": "e0fe8a91",
   "metadata": {},
   "outputs": [],
   "source": [
    "from rdkit import Chem # recorda que hay un ambiente con estas librerias"
   ]
  },
  {
   "cell_type": "markdown",
   "id": "9dab7de8-eb23-47d7-a771-28a2397d0a54",
   "metadata": {},
   "source": [
    "# Modelo CNN con generador, embedings de smiles y data-augmentation"
   ]
  },
  {
   "cell_type": "code",
   "execution_count": 3,
   "id": "21bee0a3-79a7-43b2-9ac2-15cad5630e22",
   "metadata": {},
   "outputs": [],
   "source": [
    "import pandas as pd\n",
    "import numpy as np\n",
    "from datagen import smiles_dict, smiles_to_seq"
   ]
  },
  {
   "cell_type": "markdown",
   "id": "20aa799f-b75c-4d23-869b-fea6d041a6e9",
   "metadata": {},
   "source": [
    "### smiles_dict"
   ]
  },
  {
   "cell_type": "code",
   "execution_count": 4,
   "id": "628a3149-eabe-4de3-8404-d86eb6ad3baf",
   "metadata": {},
   "outputs": [
    {
     "data": {
      "text/plain": [
       "42"
      ]
     },
     "execution_count": 4,
     "metadata": {},
     "output_type": "execute_result"
    }
   ],
   "source": [
    "len(smiles_dict)"
   ]
  },
  {
   "cell_type": "markdown",
   "id": "b9c9312c-4232-414c-b0ff-1e6fb6dba1a6",
   "metadata": {},
   "source": [
    "smiles_dict nos da un tokenizador para simplificar el problema. Puede ver como se construyó en la notebook **deep_chem**.\n",
    "Si al momento de correr el modelo con este diccionario encuentra problemas de key_error, puede agregar los faltantes al diccionario\n",
    "\n",
    "Mirar dentro de **datagen.py** como se usa este diccionario con la función **smiles_to_seq** para tokenizar. El código es muy sencillo"
   ]
  },
  {
   "cell_type": "code",
   "execution_count": 5,
   "id": "e29ef48f-4b67-42a4-83af-e7d0bb980c4b",
   "metadata": {},
   "outputs": [
    {
     "name": "stdout",
     "output_type": "stream",
     "text": [
      "{'#': 1, '(': 2, ')': 3, '+': 4, '-': 5, '/': 6, '1': 7, '2': 8, '3': 9, '4': 10, '5': 11, '6': 12, '7': 13, '8': 14, '=': 15, 'C': 16, 'F': 17, 'H': 18, 'I': 19, 'N': 20, 'O': 21, 'P': 22, 'S': 23, '[': 24, '\\\\': 25, ']': 26, '_': 27, 'c': 28, 'Cl': 29, 'Br': 30, 'n': 31, 'o': 32, 's': 33, '@': 34, '.': 35, 'a': 36, 'B': 37, 'e': 38, 'i': 39, '9': 40, '10': 41, '11': 42}\n"
     ]
    }
   ],
   "source": [
    "print(smiles_dict)"
   ]
  },
  {
   "cell_type": "markdown",
   "id": "b103a4e0-038d-406b-aab8-5c9452ede04e",
   "metadata": {},
   "source": [
    "# Carga de los datos"
   ]
  },
  {
   "cell_type": "code",
   "execution_count": 6,
   "id": "353a2d75-f0f4-4563-9842-c68d77118161",
   "metadata": {},
   "outputs": [],
   "source": [
    "df = pd.read_csv('data/acetylcholinesterase_02_bioactivity_data_preprocessed.csv')"
   ]
  },
  {
   "cell_type": "code",
   "execution_count": 7,
   "id": "4e7fcdcb-ad53-4ebf-bc17-a241c79269da",
   "metadata": {},
   "outputs": [],
   "source": [
    "max_len_idx = df['canonical_smiles'].apply(len).argmax()\n",
    "min_len_idx = df['canonical_smiles'].apply(len).argmin()\n",
    "max_sequence_len = len(df['canonical_smiles'].iloc[max_len_idx]) + 20"
   ]
  },
  {
   "cell_type": "code",
   "execution_count": 247,
   "id": "907fe89b",
   "metadata": {},
   "outputs": [
    {
     "data": {
      "text/plain": [
       "(207, 227)"
      ]
     },
     "execution_count": 247,
     "metadata": {},
     "output_type": "execute_result"
    }
   ],
   "source": [
    "len(df['canonical_smiles'].iloc[max_len_idx]),max_sequence_len"
   ]
  },
  {
   "cell_type": "code",
   "execution_count": 248,
   "id": "59fba27b",
   "metadata": {},
   "outputs": [
    {
     "data": {
      "text/plain": [
       "'C[C@@]12CC[C@H]3[C@]4(C)CCC[C@@]5(C)C(=O)OCC[N+](C)(C)CCCCCCCCC[N+](C)(C)CCOC(=O)[C@]6(C)CCC[C@]7(C)[C@@H]6CC[C@@]68C[C@@H](OC(=O)CCCCCCCCC(=O)O[C@@H]1C[C@@]3(CC[C@@H]45)C2)[C@@](C)(CC[C@@H]76)C8.[Br-].[Br-]'"
      ]
     },
     "execution_count": 248,
     "metadata": {},
     "output_type": "execute_result"
    }
   ],
   "source": [
    "df['canonical_smiles'][max_len_idx]"
   ]
  },
  {
   "cell_type": "code",
   "execution_count": 8,
   "id": "d1554fa5-d9ee-456c-be20-80571e319fc6",
   "metadata": {},
   "outputs": [
    {
     "data": {
      "text/html": [
       "<div>\n",
       "<style scoped>\n",
       "    .dataframe tbody tr th:only-of-type {\n",
       "        vertical-align: middle;\n",
       "    }\n",
       "\n",
       "    .dataframe tbody tr th {\n",
       "        vertical-align: top;\n",
       "    }\n",
       "\n",
       "    .dataframe thead th {\n",
       "        text-align: right;\n",
       "    }\n",
       "</style>\n",
       "<table border=\"1\" class=\"dataframe\">\n",
       "  <thead>\n",
       "    <tr style=\"text-align: right;\">\n",
       "      <th></th>\n",
       "      <th>molecule_chembl_id</th>\n",
       "      <th>canonical_smiles</th>\n",
       "      <th>standard_value</th>\n",
       "      <th>standard_value_norm</th>\n",
       "      <th>pIC50</th>\n",
       "    </tr>\n",
       "  </thead>\n",
       "  <tbody>\n",
       "    <tr>\n",
       "      <th>0</th>\n",
       "      <td>CHEMBL133897</td>\n",
       "      <td>CCOc1nn(-c2cccc(OCc3ccccc3)c2)c(=O)o1</td>\n",
       "      <td>750.0</td>\n",
       "      <td>750.0</td>\n",
       "      <td>6.124939</td>\n",
       "    </tr>\n",
       "    <tr>\n",
       "      <th>1</th>\n",
       "      <td>CHEMBL336398</td>\n",
       "      <td>O=C(N1CCCCC1)n1nc(-c2ccc(Cl)cc2)nc1SCC1CC1</td>\n",
       "      <td>100.0</td>\n",
       "      <td>100.0</td>\n",
       "      <td>7.000000</td>\n",
       "    </tr>\n",
       "    <tr>\n",
       "      <th>2</th>\n",
       "      <td>CHEMBL131588</td>\n",
       "      <td>CN(C(=O)n1nc(-c2ccc(Cl)cc2)nc1SCC(F)(F)F)c1ccccc1</td>\n",
       "      <td>50000.0</td>\n",
       "      <td>50000.0</td>\n",
       "      <td>4.301030</td>\n",
       "    </tr>\n",
       "    <tr>\n",
       "      <th>3</th>\n",
       "      <td>CHEMBL130628</td>\n",
       "      <td>O=C(N1CCCCC1)n1nc(-c2ccc(Cl)cc2)nc1SCC(F)(F)F</td>\n",
       "      <td>300.0</td>\n",
       "      <td>300.0</td>\n",
       "      <td>6.522879</td>\n",
       "    </tr>\n",
       "    <tr>\n",
       "      <th>4</th>\n",
       "      <td>CHEMBL130478</td>\n",
       "      <td>CSc1nc(-c2ccc(OC(F)(F)F)cc2)nn1C(=O)N(C)C</td>\n",
       "      <td>800.0</td>\n",
       "      <td>800.0</td>\n",
       "      <td>6.096910</td>\n",
       "    </tr>\n",
       "  </tbody>\n",
       "</table>\n",
       "</div>"
      ],
      "text/plain": [
       "  molecule_chembl_id                                   canonical_smiles  \\\n",
       "0       CHEMBL133897              CCOc1nn(-c2cccc(OCc3ccccc3)c2)c(=O)o1   \n",
       "1       CHEMBL336398         O=C(N1CCCCC1)n1nc(-c2ccc(Cl)cc2)nc1SCC1CC1   \n",
       "2       CHEMBL131588  CN(C(=O)n1nc(-c2ccc(Cl)cc2)nc1SCC(F)(F)F)c1ccccc1   \n",
       "3       CHEMBL130628      O=C(N1CCCCC1)n1nc(-c2ccc(Cl)cc2)nc1SCC(F)(F)F   \n",
       "4       CHEMBL130478          CSc1nc(-c2ccc(OC(F)(F)F)cc2)nn1C(=O)N(C)C   \n",
       "\n",
       "   standard_value  standard_value_norm     pIC50  \n",
       "0           750.0                750.0  6.124939  \n",
       "1           100.0                100.0  7.000000  \n",
       "2         50000.0              50000.0  4.301030  \n",
       "3           300.0                300.0  6.522879  \n",
       "4           800.0                800.0  6.096910  "
      ]
     },
     "execution_count": 8,
     "metadata": {},
     "output_type": "execute_result"
    }
   ],
   "source": [
    "df.head()"
   ]
  },
  {
   "cell_type": "code",
   "execution_count": 13,
   "id": "9675f7e8-a8e6-44ff-b1c5-b229cbbeb2e9",
   "metadata": {},
   "outputs": [],
   "source": [
    "X = df['canonical_smiles'].values\n",
    "y = df['pIC50'].values"
   ]
  },
  {
   "cell_type": "markdown",
   "id": "dd87900d-dca2-4f0e-a5c2-58fef4266a67",
   "metadata": {},
   "source": [
    "# Data augmentation:\n",
    "\n",
    "https://arxiv.org/pdf/1703.07076.pdf\n",
    "\n",
    "https://github.com/EBjerrum/molvecgen\n",
    "\n",
    "https://github.com/Ebjerrum/SMILES-enumeration"
   ]
  },
  {
   "cell_type": "markdown",
   "id": "605fb205-e7e7-45fb-99bd-2e6f490977a8",
   "metadata": {},
   "source": [
    "En la publicación de arriba se describe una técnica de aumentación de datos para los smiles. Leerla si es de su interes (Opcional)\n",
    "\n",
    "En el módulo **dataug.py**, tomando como referencia los repositorios arriba citados se implementó la aumentación de datos"
   ]
  },
  {
   "cell_type": "code",
   "execution_count": 9,
   "id": "d4733af9-9c49-4c2f-bb1d-dc7f180cc66f",
   "metadata": {},
   "outputs": [
    {
     "name": "stdout",
     "output_type": "stream",
     "text": [
      "c1c(-n2c(=O)oc(OCC)n2)cccc1OCc1ccccc1\n",
      "c1cc(COc2cccc(-n3c(=O)oc(OCC)n3)c2)ccc1\n",
      "c1c(COc2cc(-n3nc(OCC)oc3=O)ccc2)cccc1\n",
      "c1ccc(COc2cccc(-n3c(=O)oc(OCC)n3)c2)cc1\n",
      "c1c(COc2cc(-n3nc(OCC)oc3=O)ccc2)cccc1\n"
     ]
    }
   ],
   "source": [
    "from dataaug import SmilesEnumerator\n",
    "sme = SmilesEnumerator()\n",
    "for i in range(5):\n",
    "    print(sme.randomize_smiles('CCOc1nn(-c2cccc(OCc3ccccc3)c2)c(=O)o1'))\n",
    "    "
   ]
  },
  {
   "cell_type": "code",
   "execution_count": 260,
   "id": "2f89b636",
   "metadata": {},
   "outputs": [
    {
     "data": {
      "text/plain": [
       "'c1cc(-c2nc(SCC3CC3)n(C(=O)N3CCCCC3)n2)ccc1Cl'"
      ]
     },
     "execution_count": 260,
     "metadata": {},
     "output_type": "execute_result"
    }
   ],
   "source": [
    "sme.randomize_smiles(X[1])"
   ]
  },
  {
   "cell_type": "code",
   "execution_count": 10,
   "id": "353dbfc7",
   "metadata": {},
   "outputs": [
    {
     "data": {
      "image/png": "[encoded data removed]",
      "text/plain": [
       "<rdkit.Chem.rdchem.Mol at 0x249baa569f0>"
      ]
     },
     "execution_count": 10,
     "metadata": {},
     "output_type": "execute_result"
    }
   ],
   "source": [
    "m1 = Chem.MolFromSmiles('CCOc1nn(-c2cccc(OCc3ccccc3)c2)c(=O)o1')\n",
    "m1"
   ]
  },
  {
   "cell_type": "markdown",
   "id": "7a1923d3-1df0-4df1-a43c-ec30eff6fe4d",
   "metadata": {},
   "source": [
    "# DataGenerator"
   ]
  },
  {
   "cell_type": "markdown",
   "id": "fc6a3c67-9f44-4052-9e93-9e274f08c1b5",
   "metadata": {},
   "source": [
    "Construir un generador al que se le pase al instanciarlo:\n",
    "- X: smiles (formula química)\n",
    "- y: pIC50\n",
    "- batch_size\n",
    "- max_sequence_len (int): La máxima longitud de las secuencias (para hacer el padding)\n",
    "- data_augmentation (boolean): si quiero hacer o no data-augmentation. \n",
    "- shuffle (boolean)\n",
    "\n",
    "Guardarlo en el módulo **datagen.py** con el nombre de la clase **DataGenerator**\n",
    "\n",
    "Notar que el módulo **datagen.py** ya tiene una estructura para completar"
   ]
  },
  {
   "cell_type": "markdown",
   "id": "f602f3e4-24aa-41ee-9f83-89ec3acc96f1",
   "metadata": {},
   "source": [
    "### Importamos el módulo y lo probamos"
   ]
  },
  {
   "cell_type": "code",
   "execution_count": 11,
   "id": "413bce05-2685-4c84-8a43-c3dd8ed74e11",
   "metadata": {},
   "outputs": [],
   "source": [
    "from datagen import DataGenerator"
   ]
  },
  {
   "cell_type": "code",
   "execution_count": 14,
   "id": "52aa520a-a84b-4d8b-a22e-6b4a5cc7e65a",
   "metadata": {},
   "outputs": [],
   "source": [
    "dgen = DataGenerator(X, y, max_sequence_len, batch_size=16)"
   ]
  },
  {
   "cell_type": "code",
   "execution_count": 16,
   "id": "b3212e31-dd2c-4ebc-b9a0-78ed4bb5d78d",
   "metadata": {},
   "outputs": [
    {
     "data": {
      "text/plain": [
       "5824"
      ]
     },
     "execution_count": 16,
     "metadata": {},
     "output_type": "execute_result"
    }
   ],
   "source": [
    "len(dgen)* dgen.batch_size"
   ]
  },
  {
   "cell_type": "code",
   "execution_count": 17,
   "id": "133033ed-a3b1-4572-aaaf-f4cb2a055724",
   "metadata": {},
   "outputs": [
    {
     "name": "stdout",
     "output_type": "stream",
     "text": [
      "363\r"
     ]
    }
   ],
   "source": [
    "for i, (X_b, y_b) in enumerate(dgen):\n",
    "    print(f'{i}\\r', end='')"
   ]
  },
  {
   "cell_type": "markdown",
   "id": "4233710d-9274-4dae-b22d-cf42b57ad862",
   "metadata": {},
   "source": [
    "# Split"
   ]
  },
  {
   "cell_type": "code",
   "execution_count": 18,
   "id": "ce7a95e6-2486-42fb-97fb-865e3fd6a561",
   "metadata": {},
   "outputs": [],
   "source": [
    "from sklearn.model_selection import train_test_split"
   ]
  },
  {
   "cell_type": "code",
   "execution_count": 19,
   "id": "fcb9840f-2f41-45be-99a5-f05f3ab73ed8",
   "metadata": {},
   "outputs": [],
   "source": [
    "X_train, X_test, y_train, y_test = train_test_split(X, y, test_size=0.2, random_state=42)"
   ]
  },
  {
   "cell_type": "code",
   "execution_count": 20,
   "id": "4ad17134-3e15-42d1-b8c9-0c793169e145",
   "metadata": {},
   "outputs": [
    {
     "data": {
      "text/plain": [
       "(4659, 4659, 1165)"
      ]
     },
     "execution_count": 20,
     "metadata": {},
     "output_type": "execute_result"
    }
   ],
   "source": [
    "len(X_train), len(y_train), len(X_test)"
   ]
  },
  {
   "cell_type": "code",
   "execution_count": 21,
   "id": "929de60c-7128-4e35-8efc-4b5f9ee9471c",
   "metadata": {},
   "outputs": [
    {
     "data": {
      "text/plain": [
       "array(['COc1cc2c(cc1O)CCC(C)(CC(=O)NCCCCCCCCNc1c3c(nc4ccccc14)CCCC3)O2',\n",
       "       'O=C(NC1CCN(Cc2ccc(F)cc2)CC1)c1cncc(NC(=O)c2ccnc3[nH]ccc23)c1',\n",
       "       'N#Cc1cc2c(cn1)[nH]c1ncc(-c3ccc(CN4CCC[C@@H](O)C4)cc3)cc12', ...,\n",
       "       'C(=N\\\\C1CCN(Cc2ccccc2)C1)\\\\c1ccccc1',\n",
       "       'COc1cc2c(cc1O)CCC(C)(CCNCCCCCCCCNc1c3c(nc4cc(Cl)ccc14)CCCC3)O2',\n",
       "       'CN(C)Cc1ccc(CSCCCCCCCCSCc2ccc(CN(C)C)o2)o1'], dtype=object)"
      ]
     },
     "execution_count": 21,
     "metadata": {},
     "output_type": "execute_result"
    }
   ],
   "source": [
    "X_train"
   ]
  },
  {
   "cell_type": "code",
   "execution_count": 22,
   "id": "dd72855a-8310-4a5e-b5c8-7fe181ea8edd",
   "metadata": {},
   "outputs": [],
   "source": [
    "dgen_train = DataGenerator(X_train, y_train, seq_length=max_sequence_len, batch_size=128, data_augmentation=True)\n",
    "dgen_test = DataGenerator(X_test, y_test, seq_length=max_sequence_len, batch_size=128, data_augmentation=False)"
   ]
  },
  {
   "cell_type": "code",
   "execution_count": 23,
   "id": "04edb722",
   "metadata": {},
   "outputs": [
    {
     "data": {
      "text/plain": [
       "(37, 10)"
      ]
     },
     "execution_count": 23,
     "metadata": {},
     "output_type": "execute_result"
    }
   ],
   "source": [
    "len(dgen_train), len(dgen_test)"
   ]
  },
  {
   "cell_type": "code",
   "execution_count": 282,
   "id": "96f9b707",
   "metadata": {},
   "outputs": [
    {
     "data": {
      "text/plain": [
       "array(['O=C(NC1CCN(Cc2ccc(F)cc2)CC1)c1cncc(NC(=O)c2ccnc3[nH]ccc23)c1',\n",
       "       'N#Cc1cc2c(cn1)[nH]c1ncc(-c3ccc(CN4CCC[C@@H](O)C4)cc3)cc12'],\n",
       "      dtype=object)"
      ]
     },
     "execution_count": 282,
     "metadata": {},
     "output_type": "execute_result"
    }
   ],
   "source": [
    "X_train[1:3]"
   ]
  },
  {
   "cell_type": "code",
   "execution_count": 307,
   "id": "492d7216",
   "metadata": {},
   "outputs": [],
   "source": [
    "dgen_train11 = DataGenerator(X_train[0:3], y_train[0:3], seq_length=max_sequence_len, batch_size=3, data_augmentation=True)\n"
   ]
  },
  {
   "cell_type": "code",
   "execution_count": 308,
   "id": "8267154f",
   "metadata": {},
   "outputs": [
    {
     "data": {
      "text/plain": [
       "(array([[28,  7,  8, 28,  2, 28,  2, 16,  2, 20, 28,  9, 28, 28,  2, 16,\n",
       "          2, 15, 21,  3, 20, 16, 10, 16, 16, 20,  2, 16, 28, 11, 28, 28,\n",
       "         28,  2, 17,  3, 28, 28, 11,  3, 16, 16, 10,  3, 28, 31, 28,  9,\n",
       "          3, 15, 21,  3, 28, 28, 31,  7,  3, 28, 28, 24, 31, 18, 26,  8,\n",
       "          0,  0,  0,  0,  0,  0,  0,  0,  0,  0,  0,  0,  0,  0,  0,  0,\n",
       "          0,  0,  0,  0,  0,  0,  0,  0,  0,  0,  0,  0,  0,  0,  0,  0,\n",
       "          0,  0,  0,  0,  0,  0,  0,  0,  0,  0,  0,  0,  0,  0,  0,  0,\n",
       "          0,  0,  0,  0,  0,  0,  0,  0,  0,  0,  0,  0,  0,  0,  0,  0,\n",
       "          0,  0,  0,  0,  0,  0,  0,  0,  0,  0,  0,  0,  0,  0,  0,  0,\n",
       "          0,  0,  0,  0,  0,  0,  0,  0,  0,  0,  0,  0,  0,  0,  0,  0,\n",
       "          0,  0,  0,  0,  0,  0,  0,  0,  0,  0,  0,  0,  0,  0,  0,  0,\n",
       "          0,  0,  0,  0,  0,  0,  0,  0,  0,  0,  0,  0,  0,  0,  0,  0,\n",
       "          0,  0,  0,  0,  0,  0,  0,  0,  0,  0,  0,  0,  0,  0,  0,  0,\n",
       "          0,  0,  0,  0,  0,  0,  0,  0,  0,  0,  0,  0,  0,  0,  0,  0,\n",
       "          0,  0,  0],\n",
       "        [24, 16, 34, 34, 18, 26,  7,  2, 21,  3, 16, 16, 16, 20,  2, 16,\n",
       "         28,  8, 28, 28, 28,  2,  5, 28,  9, 28, 31, 28, 10, 24, 31, 18,\n",
       "         26, 28, 11, 28,  2, 28, 10, 28,  9,  3, 28, 28,  2, 16,  1, 20,\n",
       "          3, 31, 28, 11,  3, 28, 28,  8,  3, 16,  7,  0,  0,  0,  0,  0,\n",
       "          0,  0,  0,  0,  0,  0,  0,  0,  0,  0,  0,  0,  0,  0,  0,  0,\n",
       "          0,  0,  0,  0,  0,  0,  0,  0,  0,  0,  0,  0,  0,  0,  0,  0,\n",
       "          0,  0,  0,  0,  0,  0,  0,  0,  0,  0,  0,  0,  0,  0,  0,  0,\n",
       "          0,  0,  0,  0,  0,  0,  0,  0,  0,  0,  0,  0,  0,  0,  0,  0,\n",
       "          0,  0,  0,  0,  0,  0,  0,  0,  0,  0,  0,  0,  0,  0,  0,  0,\n",
       "          0,  0,  0,  0,  0,  0,  0,  0,  0,  0,  0,  0,  0,  0,  0,  0,\n",
       "          0,  0,  0,  0,  0,  0,  0,  0,  0,  0,  0,  0,  0,  0,  0,  0,\n",
       "          0,  0,  0,  0,  0,  0,  0,  0,  0,  0,  0,  0,  0,  0,  0,  0,\n",
       "          0,  0,  0,  0,  0,  0,  0,  0,  0,  0,  0,  0,  0,  0,  0,  0,\n",
       "          0,  0,  0,  0,  0,  0,  0,  0,  0,  0,  0,  0,  0,  0,  0,  0,\n",
       "          0,  0,  0],\n",
       "        [16,  7, 28,  8, 28, 28,  2, 21,  3, 28,  2, 21, 16,  3, 28, 28,\n",
       "          8, 21, 16,  2, 16, 16,  2, 15, 21,  3, 20, 16, 16, 16, 16, 16,\n",
       "         16, 16, 16, 20, 28,  8, 28,  9, 28,  2, 31, 28, 10, 28, 28, 28,\n",
       "         28, 28,  8, 10,  3, 16, 16, 16, 16,  9,  3,  2, 16,  3, 16,  7,\n",
       "          0,  0,  0,  0,  0,  0,  0,  0,  0,  0,  0,  0,  0,  0,  0,  0,\n",
       "          0,  0,  0,  0,  0,  0,  0,  0,  0,  0,  0,  0,  0,  0,  0,  0,\n",
       "          0,  0,  0,  0,  0,  0,  0,  0,  0,  0,  0,  0,  0,  0,  0,  0,\n",
       "          0,  0,  0,  0,  0,  0,  0,  0,  0,  0,  0,  0,  0,  0,  0,  0,\n",
       "          0,  0,  0,  0,  0,  0,  0,  0,  0,  0,  0,  0,  0,  0,  0,  0,\n",
       "          0,  0,  0,  0,  0,  0,  0,  0,  0,  0,  0,  0,  0,  0,  0,  0,\n",
       "          0,  0,  0,  0,  0,  0,  0,  0,  0,  0,  0,  0,  0,  0,  0,  0,\n",
       "          0,  0,  0,  0,  0,  0,  0,  0,  0,  0,  0,  0,  0,  0,  0,  0,\n",
       "          0,  0,  0,  0,  0,  0,  0,  0,  0,  0,  0,  0,  0,  0,  0,  0,\n",
       "          0,  0,  0,  0,  0,  0,  0,  0,  0,  0,  0,  0,  0,  0,  0,  0,\n",
       "          0,  0,  0]]),\n",
       " array([6.64397414, 6.14996674, 7.15614458]))"
      ]
     },
     "execution_count": 308,
     "metadata": {},
     "output_type": "execute_result"
    }
   ],
   "source": [
    "dgen_train11[0]"
   ]
  },
  {
   "cell_type": "code",
   "execution_count": null,
   "id": "44bcc8a5",
   "metadata": {},
   "outputs": [],
   "source": []
  },
  {
   "cell_type": "code",
   "execution_count": 271,
   "id": "1bf28e8f-b29e-4b60-b7a2-4f08ff5a547b",
   "metadata": {},
   "outputs": [
    {
     "name": "stdout",
     "output_type": "stream",
     "text": [
      "0\r",
      "1\r",
      "2\r",
      "3\r",
      "4\r",
      "5\r",
      "6\r",
      "7\r",
      "8\r",
      "9\r"
     ]
    }
   ],
   "source": [
    "for i, (X_b, y_b) in enumerate(dgen_test):\n",
    "    print(f'{i}\\r', end='')"
   ]
  },
  {
   "cell_type": "code",
   "execution_count": 25,
   "id": "222c7f1c-7f3e-40b4-9fb5-5b3ea340c3b0",
   "metadata": {},
   "outputs": [
    {
     "data": {
      "text/plain": [
       "(13, 227)"
      ]
     },
     "execution_count": 25,
     "metadata": {},
     "output_type": "execute_result"
    }
   ],
   "source": [
    "X_b.shape"
   ]
  },
  {
   "cell_type": "markdown",
   "id": "85941430-2534-4d7d-ba52-d934a31c1bf6",
   "metadata": {},
   "source": [
    "# Network Model"
   ]
  },
  {
   "cell_type": "code",
   "execution_count": 26,
   "id": "6bd5d1bf-4640-4cbc-acd3-72881ddcc07e",
   "metadata": {},
   "outputs": [],
   "source": [
    "from tensorflow.keras import Sequential\n",
    "from tensorflow.keras.layers import LSTM, Dense, Embedding, Bidirectional, Dropout, Activation, BatchNormalization, Conv1D, MaxPool1D, GlobalAveragePooling1D, Flatten\n",
    "from tensorflow.keras.callbacks import ModelCheckpoint, ReduceLROnPlateau, EarlyStopping\n",
    "from tensorflow.keras.optimizers import Adam, RMSprop\n",
    "from tensorflow.keras import backend as K\n",
    "import tensorflow as tf\n",
    "from tensorflow.keras import layers as L"
   ]
  },
  {
   "cell_type": "code",
   "execution_count": null,
   "id": "8308048c-be62-473c-965a-4a11d0b613d7",
   "metadata": {},
   "outputs": [],
   "source": []
  },
  {
   "cell_type": "code",
   "execution_count": 43,
   "id": "0438895d",
   "metadata": {},
   "outputs": [],
   "source": [
    "def text_cnn_1d(sequence_length, vocab_size, embedding_size, filter_sizes, num_filters):\n",
    "    max_pool_div = 4\n",
    "    input_x = L.Input(shape=(sequence_length,), name='input_x')\n",
    "    embedding = L.Embedding(vocab_size + 1, embedding_size, name='embedding')(input_x)\n",
    "    pooled_outputs = []\n",
    "    for filter_size in filter_sizes:\n",
    "        conv = L.Conv1D(filters=num_filters, kernel_size=filter_size, padding='same', dilation_rate=1, activation='relu')(embedding)\n",
    "        max_p = L.MaxPool1D(128)(conv)\n",
    "        pooled_outputs.append(max_p)\n",
    "    h_pool = L.Concatenate(axis=2)(pooled_outputs)\n",
    "    dense = L.Flatten()(h_pool)\n",
    "    dense = L.Dense(100, activation='relu')(dense)\n",
    "    dense = L.Dense(100, activation='relu')(dense)\n",
    "    dense = L.Dense(1)(dense)\n",
    "    model = tf.keras.models.Model(input_x, dense)\n",
    "    return model\n",
    "\n",
    "def text_cnn_1d_modif(sequence_length, vocab_size, embedding_size, filter_sizes, num_filters):\n",
    "    max_pool_div = 4\n",
    "    input_x = L.Input(shape=(sequence_length,), name='input_x')\n",
    "    embedding = L.Embedding(vocab_size + 1, embedding_size, name='embedding')(input_x)\n",
    "    pooled_outputs = []\n",
    "    for filter_size in filter_sizes:\n",
    "        conv = L.Conv1D(filters=num_filters, kernel_size=filter_size, padding='same', dilation_rate=1, activation='relu')(embedding)\n",
    "        max_p = L.MaxPool1D((sequence_length - filter_size + 1)//max_pool_div)(conv)\n",
    "        pooled_outputs.append(max_p)\n",
    "        \n",
    "        conv = L.Conv1D(filters=num_filters, kernel_size=filter_size, padding='same', dilation_rate=2, activation='relu')(embedding)\n",
    "        max_p = L.MaxPool1D((sequence_length - filter_size + 1)//max_pool_div)(conv)\n",
    "        pooled_outputs.append(max_p)\n",
    "        \n",
    "        conv = L.Conv1D(filters=num_filters, kernel_size=filter_size, padding='same', dilation_rate=3, activation='relu')(embedding)\n",
    "        max_p = L.MaxPool1D((sequence_length - filter_size + 1)//max_pool_div)(conv)\n",
    "        pooled_outputs.append(max_p)\n",
    "    h_pool = L.Concatenate(axis=2)(pooled_outputs)\n",
    "    dense = L.Flatten()(h_pool)\n",
    "    dense = L.Dense(50, activation='relu')(dense)\n",
    "    dense = L.Dense(50, activation='relu')(dense)\n",
    "    dense = L.Dense(50, activation='relu')(dense)\n",
    "    dense = L.Dense(1)(dense)\n",
    "    model = tf.keras.models.Model(input_x, dense)\n",
    "    return model\n"
   ]
  },
  {
   "cell_type": "code",
   "execution_count": null,
   "id": "60ba32aa",
   "metadata": {},
   "outputs": [],
   "source": []
  },
  {
   "cell_type": "code",
   "execution_count": 36,
   "id": "d3db729c-1a80-40ad-b3e5-59329b172ee0",
   "metadata": {},
   "outputs": [],
   "source": [
    "# Puede cambiar estos hiperparámtros. Son solo de referencia\n",
    "FILTER_SIZES = (3, 4, 4)\n",
    "NUM_FILTERS = 128\n",
    "vocab_size = len(smiles_dict)\n",
    "embeddings_size =  128"
   ]
  },
  {
   "cell_type": "code",
   "execution_count": 37,
   "id": "0e0903a5-9840-4994-9964-8e2d3e9eb326",
   "metadata": {},
   "outputs": [
    {
     "name": "stdout",
     "output_type": "stream",
     "text": [
      "Model: \"functional_5\"\n",
      "__________________________________________________________________________________________________\n",
      "Layer (type)                    Output Shape         Param #     Connected to                     \n",
      "==================================================================================================\n",
      "input_x (InputLayer)            [(None, 227)]        0                                            \n",
      "__________________________________________________________________________________________________\n",
      "embedding (Embedding)           (None, 227, 128)     5504        input_x[0][0]                    \n",
      "__________________________________________________________________________________________________\n",
      "conv1d_18 (Conv1D)              (None, 227, 128)     49280       embedding[0][0]                  \n",
      "__________________________________________________________________________________________________\n",
      "conv1d_19 (Conv1D)              (None, 227, 128)     65664       embedding[0][0]                  \n",
      "__________________________________________________________________________________________________\n",
      "conv1d_20 (Conv1D)              (None, 227, 128)     65664       embedding[0][0]                  \n",
      "__________________________________________________________________________________________________\n",
      "max_pooling1d_18 (MaxPooling1D) (None, 1, 128)       0           conv1d_18[0][0]                  \n",
      "__________________________________________________________________________________________________\n",
      "max_pooling1d_19 (MaxPooling1D) (None, 1, 128)       0           conv1d_19[0][0]                  \n",
      "__________________________________________________________________________________________________\n",
      "max_pooling1d_20 (MaxPooling1D) (None, 1, 128)       0           conv1d_20[0][0]                  \n",
      "__________________________________________________________________________________________________\n",
      "concatenate_2 (Concatenate)     (None, 1, 384)       0           max_pooling1d_18[0][0]           \n",
      "                                                                 max_pooling1d_19[0][0]           \n",
      "                                                                 max_pooling1d_20[0][0]           \n",
      "__________________________________________________________________________________________________\n",
      "flatten_2 (Flatten)             (None, 384)          0           concatenate_2[0][0]              \n",
      "__________________________________________________________________________________________________\n",
      "dense_8 (Dense)                 (None, 100)          38500       flatten_2[0][0]                  \n",
      "__________________________________________________________________________________________________\n",
      "dense_9 (Dense)                 (None, 100)          10100       dense_8[0][0]                    \n",
      "__________________________________________________________________________________________________\n",
      "dense_10 (Dense)                (None, 1)            101         dense_9[0][0]                    \n",
      "==================================================================================================\n",
      "Total params: 234,813\n",
      "Trainable params: 234,813\n",
      "Non-trainable params: 0\n",
      "__________________________________________________________________________________________________\n"
     ]
    }
   ],
   "source": [
    "model = text_cnn_1d(max_sequence_len, vocab_size, embeddings_size, FILTER_SIZES, NUM_FILTERS)\n",
    "model.summary()"
   ]
  },
  {
   "cell_type": "code",
   "execution_count": null,
   "id": "b2a715be",
   "metadata": {},
   "outputs": [],
   "source": []
  },
  {
   "cell_type": "code",
   "execution_count": 38,
   "id": "2dc52f1f",
   "metadata": {},
   "outputs": [],
   "source": [
    "# Hyperparametros\n",
    "dense_size = 100 \n",
    "drops = 0.8   \n",
    "embeddings = 64"
   ]
  },
  {
   "cell_type": "code",
   "execution_count": null,
   "id": "0dc2fa09",
   "metadata": {},
   "outputs": [],
   "source": []
  },
  {
   "cell_type": "code",
   "execution_count": 39,
   "id": "844ce974",
   "metadata": {},
   "outputs": [],
   "source": [
    "FILTER_SIZES = (3, 4, 5)\n",
    "NUM_FILTERS = 128\n",
    "vocab_size = len(smiles_dict)\n",
    "embeddings_size = 128 # 2\n",
    "# model = text_cnn(max_sequence_len, vocab_size + 1, embeddings_size, FILTER_SIZES, NUM_FILTERS, None, drop_out=0, l2_reg_lambda=0, dense_hidden_size=50)\n",
    "# model.summary()"
   ]
  },
  {
   "cell_type": "code",
   "execution_count": 31,
   "id": "65789c68",
   "metadata": {},
   "outputs": [
    {
     "name": "stdout",
     "output_type": "stream",
     "text": [
      "Model: \"functional_1\"\n",
      "__________________________________________________________________________________________________\n",
      "Layer (type)                    Output Shape         Param #     Connected to                     \n",
      "==================================================================================================\n",
      "input_x (InputLayer)            [(None, 227)]        0                                            \n",
      "__________________________________________________________________________________________________\n",
      "embedding (Embedding)           (None, 227, 128)     5504        input_x[0][0]                    \n",
      "__________________________________________________________________________________________________\n",
      "conv1d (Conv1D)                 (None, 227, 128)     49280       embedding[0][0]                  \n",
      "__________________________________________________________________________________________________\n",
      "conv1d_1 (Conv1D)               (None, 227, 128)     49280       embedding[0][0]                  \n",
      "__________________________________________________________________________________________________\n",
      "conv1d_2 (Conv1D)               (None, 227, 128)     49280       embedding[0][0]                  \n",
      "__________________________________________________________________________________________________\n",
      "conv1d_3 (Conv1D)               (None, 227, 128)     65664       embedding[0][0]                  \n",
      "__________________________________________________________________________________________________\n",
      "conv1d_4 (Conv1D)               (None, 227, 128)     65664       embedding[0][0]                  \n",
      "__________________________________________________________________________________________________\n",
      "conv1d_5 (Conv1D)               (None, 227, 128)     65664       embedding[0][0]                  \n",
      "__________________________________________________________________________________________________\n",
      "conv1d_6 (Conv1D)               (None, 227, 128)     82048       embedding[0][0]                  \n",
      "__________________________________________________________________________________________________\n",
      "conv1d_7 (Conv1D)               (None, 227, 128)     82048       embedding[0][0]                  \n",
      "__________________________________________________________________________________________________\n",
      "conv1d_8 (Conv1D)               (None, 227, 128)     82048       embedding[0][0]                  \n",
      "__________________________________________________________________________________________________\n",
      "max_pooling1d (MaxPooling1D)    (None, 4, 128)       0           conv1d[0][0]                     \n",
      "__________________________________________________________________________________________________\n",
      "max_pooling1d_1 (MaxPooling1D)  (None, 4, 128)       0           conv1d_1[0][0]                   \n",
      "__________________________________________________________________________________________________\n",
      "max_pooling1d_2 (MaxPooling1D)  (None, 4, 128)       0           conv1d_2[0][0]                   \n",
      "__________________________________________________________________________________________________\n",
      "max_pooling1d_3 (MaxPooling1D)  (None, 4, 128)       0           conv1d_3[0][0]                   \n",
      "__________________________________________________________________________________________________\n",
      "max_pooling1d_4 (MaxPooling1D)  (None, 4, 128)       0           conv1d_4[0][0]                   \n",
      "__________________________________________________________________________________________________\n",
      "max_pooling1d_5 (MaxPooling1D)  (None, 4, 128)       0           conv1d_5[0][0]                   \n",
      "__________________________________________________________________________________________________\n",
      "max_pooling1d_6 (MaxPooling1D)  (None, 4, 128)       0           conv1d_6[0][0]                   \n",
      "__________________________________________________________________________________________________\n",
      "max_pooling1d_7 (MaxPooling1D)  (None, 4, 128)       0           conv1d_7[0][0]                   \n",
      "__________________________________________________________________________________________________\n",
      "max_pooling1d_8 (MaxPooling1D)  (None, 4, 128)       0           conv1d_8[0][0]                   \n",
      "__________________________________________________________________________________________________\n",
      "concatenate (Concatenate)       (None, 4, 1152)      0           max_pooling1d[0][0]              \n",
      "                                                                 max_pooling1d_1[0][0]            \n",
      "                                                                 max_pooling1d_2[0][0]            \n",
      "                                                                 max_pooling1d_3[0][0]            \n",
      "                                                                 max_pooling1d_4[0][0]            \n",
      "                                                                 max_pooling1d_5[0][0]            \n",
      "                                                                 max_pooling1d_6[0][0]            \n",
      "                                                                 max_pooling1d_7[0][0]            \n",
      "                                                                 max_pooling1d_8[0][0]            \n",
      "__________________________________________________________________________________________________\n",
      "flatten (Flatten)               (None, 4608)         0           concatenate[0][0]                \n",
      "__________________________________________________________________________________________________\n",
      "dense (Dense)                   (None, 100)          460900      flatten[0][0]                    \n",
      "__________________________________________________________________________________________________\n",
      "dense_1 (Dense)                 (None, 100)          10100       dense[0][0]                      \n",
      "__________________________________________________________________________________________________\n",
      "dense_2 (Dense)                 (None, 100)          10100       dense_1[0][0]                    \n",
      "__________________________________________________________________________________________________\n",
      "dense_3 (Dense)                 (None, 1)            101         dense_2[0][0]                    \n",
      "==================================================================================================\n",
      "Total params: 1,077,681\n",
      "Trainable params: 1,077,681\n",
      "Non-trainable params: 0\n",
      "__________________________________________________________________________________________________\n"
     ]
    }
   ],
   "source": [
    "model_modif = text_cnn_1d_modif(max_sequence_len, vocab_size, embeddings_size, FILTER_SIZES, NUM_FILTERS)\n",
    "model_modif.summary()"
   ]
  },
  {
   "cell_type": "code",
   "execution_count": null,
   "id": "3248432d",
   "metadata": {},
   "outputs": [],
   "source": []
  },
  {
   "cell_type": "code",
   "execution_count": null,
   "id": "20b1d1b8",
   "metadata": {},
   "outputs": [],
   "source": []
  },
  {
   "cell_type": "code",
   "execution_count": 609,
   "id": "4c4ab9a3-2878-483b-bc76-2627d64fb13e",
   "metadata": {},
   "outputs": [],
   "source": [
    "# model.summary()"
   ]
  },
  {
   "cell_type": "code",
   "execution_count": 40,
   "id": "4bf115a2-9f1b-42b8-9b62-59728f1da977",
   "metadata": {},
   "outputs": [],
   "source": [
    "def R2(y_true, y_pred):\n",
    "    SS_res =  K.sum(K.square( y_true-y_pred ))\n",
    "    SS_tot = K.sum(K.square( y_true - K.mean(y_true) ) )\n",
    "    return ( 1 - SS_res/(SS_tot + K.epsilon()) )"
   ]
  },
  {
   "cell_type": "code",
   "execution_count": 354,
   "id": "9138b411-fc5d-41bd-8c8e-c12580cc5b14",
   "metadata": {},
   "outputs": [],
   "source": [
    "model.compile(optimizer=Adam(learning_rate=0.001), loss='mse', metrics=[R2])"
   ]
  },
  {
   "cell_type": "code",
   "execution_count": 33,
   "id": "a10137d0",
   "metadata": {},
   "outputs": [],
   "source": [
    "mcp = ModelCheckpoint('models/best_model_{epoch}.h5', save_best_only=True,mode=\"min\")\n",
    "lr_reduce = ReduceLROnPlateau(monitor='loss', \n",
    "                                   factor=0.2,\n",
    "                                   cooldown=0,\n",
    "                                   patience=5,\n",
    "                                   min_delta=0.01,\n",
    "                                   min_lr=1e-5)\n",
    "ES=EarlyStopping(monitor='val_loss',patience=10, restore_best_weights=True)"
   ]
  },
  {
   "cell_type": "code",
   "execution_count": null,
   "id": "9d01b335",
   "metadata": {},
   "outputs": [],
   "source": []
  },
  {
   "cell_type": "code",
   "execution_count": 355,
   "id": "3f37ab4e-0e3a-44c6-a572-ba5c67930c61",
   "metadata": {
    "tags": []
   },
   "outputs": [
    {
     "name": "stdout",
     "output_type": "stream",
     "text": [
      "Epoch 1/20\n",
      "37/37 [==============================] - ETA: 0s - loss: 12.1801 - R2: -3.8818INFO:tensorflow:Assets written to: models\\best_model_1\\assets\n",
      "37/37 [==============================] - 22s 588ms/step - loss: 12.1801 - R2: -3.8818 - val_loss: 2.9594 - val_R2: -0.0516\n",
      "Epoch 2/20\n",
      "37/37 [==============================] - ETA: 0s - loss: 2.3729 - R2: 0.0929INFO:tensorflow:Assets written to: models\\best_model_2\\assets\n",
      "37/37 [==============================] - 22s 589ms/step - loss: 2.3729 - R2: 0.0929 - val_loss: 2.5079 - val_R2: 0.1369\n",
      "Epoch 3/20\n",
      "37/37 [==============================] - ETA: 0s - loss: 2.1566 - R2: 0.1754INFO:tensorflow:Assets written to: models\\best_model_3\\assets\n",
      "37/37 [==============================] - 21s 565ms/step - loss: 2.1566 - R2: 0.1754 - val_loss: 2.3909 - val_R2: 0.1876\n",
      "Epoch 4/20\n",
      "37/37 [==============================] - ETA: 0s - loss: 2.0672 - R2: 0.2145INFO:tensorflow:Assets written to: models\\best_model_4\\assets\n",
      "37/37 [==============================] - 21s 581ms/step - loss: 2.0672 - R2: 0.2145 - val_loss: 2.3079 - val_R2: 0.2367\n",
      "Epoch 5/20\n",
      "37/37 [==============================] - ETA: 0s - loss: 1.9706 - R2: 0.2524INFO:tensorflow:Assets written to: models\\best_model_5\\assets\n",
      "37/37 [==============================] - 21s 575ms/step - loss: 1.9706 - R2: 0.2524 - val_loss: 2.2217 - val_R2: 0.2434\n",
      "Epoch 6/20\n",
      "37/37 [==============================] - 18s 477ms/step - loss: 1.8767 - R2: 0.2792 - val_loss: 2.2219 - val_R2: 0.2453\n",
      "Epoch 7/20\n",
      "37/37 [==============================] - ETA: 0s - loss: 1.8507 - R2: 0.2950INFO:tensorflow:Assets written to: models\\best_model_7\\assets\n",
      "37/37 [==============================] - 21s 576ms/step - loss: 1.8507 - R2: 0.2950 - val_loss: 2.1892 - val_R2: 0.2820\n",
      "Epoch 8/20\n",
      "37/37 [==============================] - ETA: 0s - loss: 1.8025 - R2: 0.3114INFO:tensorflow:Assets written to: models\\best_model_8\\assets\n",
      "37/37 [==============================] - 21s 568ms/step - loss: 1.8025 - R2: 0.3114 - val_loss: 2.0676 - val_R2: 0.2417\n",
      "Epoch 9/20\n",
      "37/37 [==============================] - 18s 476ms/step - loss: 1.7266 - R2: 0.3322 - val_loss: 2.1682 - val_R2: 0.2814\n",
      "Epoch 10/20\n",
      "37/37 [==============================] - 17s 471ms/step - loss: 1.7174 - R2: 0.3415 - val_loss: 2.0748 - val_R2: 0.3085\n",
      "Epoch 11/20\n",
      "37/37 [==============================] - ETA: 0s - loss: 1.6396 - R2: 0.3729INFO:tensorflow:Assets written to: models\\best_model_11\\assets\n",
      "37/37 [==============================] - 21s 572ms/step - loss: 1.6396 - R2: 0.3729 - val_loss: 1.9518 - val_R2: 0.3744\n",
      "Epoch 12/20\n",
      "37/37 [==============================] - ETA: 0s - loss: 1.5765 - R2: 0.3972INFO:tensorflow:Assets written to: models\\best_model_12\\assets\n",
      "37/37 [==============================] - 22s 586ms/step - loss: 1.5765 - R2: 0.3972 - val_loss: 1.9419 - val_R2: 0.3442\n",
      "Epoch 13/20\n",
      "37/37 [==============================] - ETA: 0s - loss: 1.5542 - R2: 0.4031INFO:tensorflow:Assets written to: models\\best_model_13\\assets\n",
      "37/37 [==============================] - 22s 596ms/step - loss: 1.5542 - R2: 0.4031 - val_loss: 1.8708 - val_R2: 0.4056\n",
      "Epoch 14/20\n",
      "37/37 [==============================] - 17s 471ms/step - loss: 1.4859 - R2: 0.4383 - val_loss: 1.8754 - val_R2: 0.3488\n",
      "Epoch 15/20\n",
      "37/37 [==============================] - ETA: 0s - loss: 1.4693 - R2: 0.4426INFO:tensorflow:Assets written to: models\\best_model_15\\assets\n",
      "37/37 [==============================] - 21s 561ms/step - loss: 1.4693 - R2: 0.4426 - val_loss: 1.8461 - val_R2: 0.3877\n",
      "Epoch 16/20\n",
      "37/37 [==============================] - ETA: 0s - loss: 1.4629 - R2: 0.4416INFO:tensorflow:Assets written to: models\\best_model_16\\assets\n",
      "37/37 [==============================] - 21s 571ms/step - loss: 1.4629 - R2: 0.4416 - val_loss: 1.7980 - val_R2: 0.3903\n",
      "Epoch 17/20\n",
      "37/37 [==============================] - ETA: 0s - loss: 1.3881 - R2: 0.4711INFO:tensorflow:Assets written to: models\\best_model_17\\assets\n",
      "37/37 [==============================] - 21s 565ms/step - loss: 1.3881 - R2: 0.4711 - val_loss: 1.7900 - val_R2: 0.3900\n",
      "Epoch 18/20\n",
      "37/37 [==============================] - ETA: 0s - loss: 1.3518 - R2: 0.4866INFO:tensorflow:Assets written to: models\\best_model_18\\assets\n",
      "37/37 [==============================] - 21s 567ms/step - loss: 1.3518 - R2: 0.4866 - val_loss: 1.7002 - val_R2: 0.4239\n",
      "Epoch 19/20\n",
      "37/37 [==============================] - ETA: 0s - loss: 1.3751 - R2: 0.4729INFO:tensorflow:Assets written to: models\\best_model_19\\assets\n",
      "37/37 [==============================] - 21s 568ms/step - loss: 1.3751 - R2: 0.4729 - val_loss: 1.6621 - val_R2: 0.4468\n",
      "Epoch 20/20\n",
      "37/37 [==============================] - ETA: 0s - loss: 1.3820 - R2: 0.4714INFO:tensorflow:Assets written to: models\\best_model_20\\assets\n",
      "37/37 [==============================] - 21s 573ms/step - loss: 1.3820 - R2: 0.4714 - val_loss: 1.6534 - val_R2: 0.4128\n"
     ]
    }
   ],
   "source": [
    "history = model.fit(dgen_train, epochs=20, validation_data=dgen_test, callbacks=[mcp, ES])"
   ]
  },
  {
   "cell_type": "code",
   "execution_count": 356,
   "id": "a0242588-eede-4e85-8b83-f207ea8ab757",
   "metadata": {},
   "outputs": [],
   "source": [
    "X_test_eval = []\n",
    "y_t_eval = []\n",
    "for X_t, y_t in dgen_test:\n",
    "    X_test_eval = X_test_eval + [list(t) for t in X_t]\n",
    "    y_t_eval = y_t_eval + list(y_t)\n",
    "X_test_eval = np.array(X_test_eval)\n",
    "y_test = np.array(y_t_eval)"
   ]
  },
  {
   "cell_type": "code",
   "execution_count": 357,
   "id": "a1437cbf-fe44-4999-a44b-05cea765f22b",
   "metadata": {},
   "outputs": [
    {
     "data": {
      "text/plain": [
       "((1165, 227), (1165,))"
      ]
     },
     "execution_count": 357,
     "metadata": {},
     "output_type": "execute_result"
    }
   ],
   "source": [
    "X_test_eval.shape, y_test.shape"
   ]
  },
  {
   "cell_type": "code",
   "execution_count": 358,
   "id": "0084fbb1-e83e-4808-99bf-1458f3ea3076",
   "metadata": {},
   "outputs": [],
   "source": [
    "y_pred = model.predict(X_test_eval)"
   ]
  },
  {
   "cell_type": "markdown",
   "id": "382979a3-f299-4762-8b6d-10a6ea4d3c70",
   "metadata": {},
   "source": [
    "# Score"
   ]
  },
  {
   "cell_type": "code",
   "execution_count": 359,
   "id": "f9fd5d60-841f-46c3-94b6-5755b4d548cd",
   "metadata": {},
   "outputs": [],
   "source": [
    "r2 = 1 - ((y_test - y_pred.reshape(-1)) ** 2).sum() / ((y_test - y_test.mean()) ** 2).sum()"
   ]
  },
  {
   "cell_type": "code",
   "execution_count": 360,
   "id": "4d2bfabe-2e3e-40cf-a1e8-2d458ee7f328",
   "metadata": {},
   "outputs": [
    {
     "data": {
      "text/plain": [
       "0.4444358105337627"
      ]
     },
     "execution_count": 360,
     "metadata": {},
     "output_type": "execute_result"
    }
   ],
   "source": [
    "r2\n"
   ]
  },
  {
   "cell_type": "code",
   "execution_count": 361,
   "id": "85262541-e04a-4ff2-b3e6-a47643db66f6",
   "metadata": {},
   "outputs": [],
   "source": [
    "filename = 'models/embed.h5'\n",
    "model.save(filename)"
   ]
  },
  {
   "cell_type": "code",
   "execution_count": 362,
   "id": "67cf753c-a7f6-4b8a-abe3-3253986cc53a",
   "metadata": {},
   "outputs": [
    {
     "name": "stdout",
     "output_type": "stream",
     "text": [
      "Model: \"functional_69\"\n",
      "__________________________________________________________________________________________________\n",
      "Layer (type)                    Output Shape         Param #     Connected to                     \n",
      "==================================================================================================\n",
      "input_x (InputLayer)            [(None, 227)]        0                                            \n",
      "__________________________________________________________________________________________________\n",
      "embedding (Embedding)           (None, 227, 128)     5504        input_x[0][0]                    \n",
      "__________________________________________________________________________________________________\n",
      "conv1d_118 (Conv1D)             (None, 227, 128)     49280       embedding[0][0]                  \n",
      "__________________________________________________________________________________________________\n",
      "conv1d_119 (Conv1D)             (None, 227, 128)     65664       embedding[0][0]                  \n",
      "__________________________________________________________________________________________________\n",
      "conv1d_120 (Conv1D)             (None, 227, 128)     65664       embedding[0][0]                  \n",
      "__________________________________________________________________________________________________\n",
      "max_pooling1d_118 (MaxPooling1D (None, 1, 128)       0           conv1d_118[0][0]                 \n",
      "__________________________________________________________________________________________________\n",
      "max_pooling1d_119 (MaxPooling1D (None, 1, 128)       0           conv1d_119[0][0]                 \n",
      "__________________________________________________________________________________________________\n",
      "max_pooling1d_120 (MaxPooling1D (None, 1, 128)       0           conv1d_120[0][0]                 \n",
      "__________________________________________________________________________________________________\n",
      "concatenate_34 (Concatenate)    (None, 1, 384)       0           max_pooling1d_118[0][0]          \n",
      "                                                                 max_pooling1d_119[0][0]          \n",
      "                                                                 max_pooling1d_120[0][0]          \n",
      "__________________________________________________________________________________________________\n",
      "flatten_34 (Flatten)            (None, 384)          0           concatenate_34[0][0]             \n",
      "__________________________________________________________________________________________________\n",
      "dense_105 (Dense)               (None, 100)          38500       flatten_34[0][0]                 \n",
      "__________________________________________________________________________________________________\n",
      "dense_106 (Dense)               (None, 100)          10100       dense_105[0][0]                  \n",
      "__________________________________________________________________________________________________\n",
      "dense_107 (Dense)               (None, 1)            101         dense_106[0][0]                  \n",
      "==================================================================================================\n",
      "Total params: 234,813\n",
      "Trainable params: 234,813\n",
      "Non-trainable params: 0\n",
      "__________________________________________________________________________________________________\n"
     ]
    }
   ],
   "source": [
    "model.summary()"
   ]
  },
  {
   "cell_type": "markdown",
   "id": "031449bc",
   "metadata": {},
   "source": [
    "# Modelo modificado"
   ]
  },
  {
   "cell_type": "code",
   "execution_count": null,
   "id": "aa1351e8",
   "metadata": {},
   "outputs": [],
   "source": []
  },
  {
   "cell_type": "code",
   "execution_count": 44,
   "id": "a01462ee",
   "metadata": {},
   "outputs": [
    {
     "name": "stdout",
     "output_type": "stream",
     "text": [
      "Model: \"functional_7\"\n",
      "__________________________________________________________________________________________________\n",
      "Layer (type)                    Output Shape         Param #     Connected to                     \n",
      "==================================================================================================\n",
      "input_x (InputLayer)            [(None, 227)]        0                                            \n",
      "__________________________________________________________________________________________________\n",
      "embedding (Embedding)           (None, 227, 128)     5504        input_x[0][0]                    \n",
      "__________________________________________________________________________________________________\n",
      "conv1d_21 (Conv1D)              (None, 227, 128)     49280       embedding[0][0]                  \n",
      "__________________________________________________________________________________________________\n",
      "conv1d_22 (Conv1D)              (None, 227, 128)     49280       embedding[0][0]                  \n",
      "__________________________________________________________________________________________________\n",
      "conv1d_23 (Conv1D)              (None, 227, 128)     49280       embedding[0][0]                  \n",
      "__________________________________________________________________________________________________\n",
      "conv1d_24 (Conv1D)              (None, 227, 128)     65664       embedding[0][0]                  \n",
      "__________________________________________________________________________________________________\n",
      "conv1d_25 (Conv1D)              (None, 227, 128)     65664       embedding[0][0]                  \n",
      "__________________________________________________________________________________________________\n",
      "conv1d_26 (Conv1D)              (None, 227, 128)     65664       embedding[0][0]                  \n",
      "__________________________________________________________________________________________________\n",
      "conv1d_27 (Conv1D)              (None, 227, 128)     82048       embedding[0][0]                  \n",
      "__________________________________________________________________________________________________\n",
      "conv1d_28 (Conv1D)              (None, 227, 128)     82048       embedding[0][0]                  \n",
      "__________________________________________________________________________________________________\n",
      "conv1d_29 (Conv1D)              (None, 227, 128)     82048       embedding[0][0]                  \n",
      "__________________________________________________________________________________________________\n",
      "max_pooling1d_21 (MaxPooling1D) (None, 4, 128)       0           conv1d_21[0][0]                  \n",
      "__________________________________________________________________________________________________\n",
      "max_pooling1d_22 (MaxPooling1D) (None, 4, 128)       0           conv1d_22[0][0]                  \n",
      "__________________________________________________________________________________________________\n",
      "max_pooling1d_23 (MaxPooling1D) (None, 4, 128)       0           conv1d_23[0][0]                  \n",
      "__________________________________________________________________________________________________\n",
      "max_pooling1d_24 (MaxPooling1D) (None, 4, 128)       0           conv1d_24[0][0]                  \n",
      "__________________________________________________________________________________________________\n",
      "max_pooling1d_25 (MaxPooling1D) (None, 4, 128)       0           conv1d_25[0][0]                  \n",
      "__________________________________________________________________________________________________\n",
      "max_pooling1d_26 (MaxPooling1D) (None, 4, 128)       0           conv1d_26[0][0]                  \n",
      "__________________________________________________________________________________________________\n",
      "max_pooling1d_27 (MaxPooling1D) (None, 4, 128)       0           conv1d_27[0][0]                  \n",
      "__________________________________________________________________________________________________\n",
      "max_pooling1d_28 (MaxPooling1D) (None, 4, 128)       0           conv1d_28[0][0]                  \n",
      "__________________________________________________________________________________________________\n",
      "max_pooling1d_29 (MaxPooling1D) (None, 4, 128)       0           conv1d_29[0][0]                  \n",
      "__________________________________________________________________________________________________\n",
      "concatenate_3 (Concatenate)     (None, 4, 1152)      0           max_pooling1d_21[0][0]           \n",
      "                                                                 max_pooling1d_22[0][0]           \n",
      "                                                                 max_pooling1d_23[0][0]           \n",
      "                                                                 max_pooling1d_24[0][0]           \n",
      "                                                                 max_pooling1d_25[0][0]           \n",
      "                                                                 max_pooling1d_26[0][0]           \n",
      "                                                                 max_pooling1d_27[0][0]           \n",
      "                                                                 max_pooling1d_28[0][0]           \n",
      "                                                                 max_pooling1d_29[0][0]           \n",
      "__________________________________________________________________________________________________\n",
      "flatten_3 (Flatten)             (None, 4608)         0           concatenate_3[0][0]              \n",
      "__________________________________________________________________________________________________\n",
      "dense_11 (Dense)                (None, 50)           230450      flatten_3[0][0]                  \n",
      "__________________________________________________________________________________________________\n",
      "dense_12 (Dense)                (None, 50)           2550        dense_11[0][0]                   \n",
      "__________________________________________________________________________________________________\n",
      "dense_13 (Dense)                (None, 50)           2550        dense_12[0][0]                   \n",
      "__________________________________________________________________________________________________\n",
      "dense_14 (Dense)                (None, 1)            51          dense_13[0][0]                   \n",
      "==================================================================================================\n",
      "Total params: 832,081\n",
      "Trainable params: 832,081\n",
      "Non-trainable params: 0\n",
      "__________________________________________________________________________________________________\n"
     ]
    }
   ],
   "source": [
    "model_modif = text_cnn_1d_modif(max_sequence_len, vocab_size, embeddings_size, FILTER_SIZES, NUM_FILTERS)\n",
    "model_modif.summary()"
   ]
  },
  {
   "cell_type": "code",
   "execution_count": 45,
   "id": "09bac8ea",
   "metadata": {},
   "outputs": [],
   "source": [
    "model_modif.compile(optimizer=Adam(learning_rate=0.001), loss='mse', metrics=[R2])"
   ]
  },
  {
   "cell_type": "code",
   "execution_count": 47,
   "id": "3b8b5123",
   "metadata": {},
   "outputs": [
    {
     "name": "stdout",
     "output_type": "stream",
     "text": [
      "Epoch 1/50\n",
      "37/37 [==============================] - 93s 3s/step - loss: 2.5967 - R2: 0.0032 - val_loss: 2.6748 - val_R2: 0.0773\n",
      "Epoch 2/50\n",
      "37/37 [==============================] - 94s 3s/step - loss: 2.3007 - R2: 0.1240 - val_loss: 2.5183 - val_R2: 0.1326\n",
      "Epoch 3/50\n",
      "37/37 [==============================] - 74s 2s/step - loss: 2.1826 - R2: 0.1667 - val_loss: 2.3794 - val_R2: 0.2037\n",
      "Epoch 4/50\n",
      "37/37 [==============================] - 67s 2s/step - loss: 2.0471 - R2: 0.2163 - val_loss: 2.3330 - val_R2: 0.2358\n",
      "Epoch 5/50\n",
      "37/37 [==============================] - 67s 2s/step - loss: 1.9573 - R2: 0.2520 - val_loss: 2.1692 - val_R2: 0.2480\n",
      "Epoch 6/50\n",
      "37/37 [==============================] - 66s 2s/step - loss: 1.8412 - R2: 0.2978 - val_loss: 2.0972 - val_R2: 0.3311\n",
      "Epoch 7/50\n",
      "37/37 [==============================] - 66s 2s/step - loss: 1.7746 - R2: 0.3241 - val_loss: 2.0316 - val_R2: 0.2801\n",
      "Epoch 8/50\n",
      "37/37 [==============================] - 66s 2s/step - loss: 1.6794 - R2: 0.3649 - val_loss: 1.9630 - val_R2: 0.3241\n",
      "Epoch 9/50\n",
      "37/37 [==============================] - 65s 2s/step - loss: 1.6946 - R2: 0.3514 - val_loss: 1.9082 - val_R2: 0.3640\n",
      "Epoch 10/50\n",
      "37/37 [==============================] - 60s 2s/step - loss: 1.5734 - R2: 0.4000 - val_loss: 1.8793 - val_R2: 0.3195\n",
      "Epoch 11/50\n",
      "37/37 [==============================] - 60s 2s/step - loss: 1.5397 - R2: 0.4175 - val_loss: 1.8219 - val_R2: 0.4164\n",
      "Epoch 12/50\n",
      "37/37 [==============================] - 59s 2s/step - loss: 1.4672 - R2: 0.4454 - val_loss: 1.7834 - val_R2: 0.4282\n",
      "Epoch 13/50\n",
      "37/37 [==============================] - 60s 2s/step - loss: 1.4561 - R2: 0.4469 - val_loss: 1.7449 - val_R2: 0.3769\n",
      "Epoch 14/50\n",
      "37/37 [==============================] - 61s 2s/step - loss: 1.3850 - R2: 0.4757 - val_loss: 1.7708 - val_R2: 0.3970\n",
      "Epoch 15/50\n",
      "37/37 [==============================] - 61s 2s/step - loss: 1.4023 - R2: 0.4672 - val_loss: 1.6813 - val_R2: 0.3781\n",
      "Epoch 16/50\n",
      "37/37 [==============================] - 61s 2s/step - loss: 1.3713 - R2: 0.4806 - val_loss: 1.6280 - val_R2: 0.4579\n",
      "Epoch 17/50\n",
      "37/37 [==============================] - 61s 2s/step - loss: 1.2906 - R2: 0.5096 - val_loss: 1.5971 - val_R2: 0.4900\n",
      "Epoch 18/50\n",
      "37/37 [==============================] - 62s 2s/step - loss: 1.2469 - R2: 0.5244 - val_loss: 1.6050 - val_R2: 0.4207\n",
      "Epoch 19/50\n",
      "37/37 [==============================] - 59s 2s/step - loss: 1.2375 - R2: 0.5291 - val_loss: 1.5889 - val_R2: 0.4272\n",
      "Epoch 20/50\n",
      "37/37 [==============================] - 55s 1s/step - loss: 1.2078 - R2: 0.5441 - val_loss: 1.8489 - val_R2: 0.3964\n",
      "Epoch 21/50\n",
      "37/37 [==============================] - 55s 1s/step - loss: 1.1730 - R2: 0.5524 - val_loss: 1.5343 - val_R2: 0.4757\n",
      "Epoch 22/50\n",
      "37/37 [==============================] - 55s 1s/step - loss: 1.1013 - R2: 0.5781 - val_loss: 1.5152 - val_R2: 0.4801\n",
      "Epoch 23/50\n",
      "37/37 [==============================] - 55s 1s/step - loss: 1.1455 - R2: 0.5645 - val_loss: 1.4752 - val_R2: 0.5042\n",
      "Epoch 24/50\n",
      "37/37 [==============================] - 55s 1s/step - loss: 1.1363 - R2: 0.5661 - val_loss: 1.4897 - val_R2: 0.5210\n",
      "Epoch 25/50\n",
      "37/37 [==============================] - 55s 1s/step - loss: 1.0507 - R2: 0.5974 - val_loss: 1.5074 - val_R2: 0.4896\n",
      "Epoch 26/50\n",
      "37/37 [==============================] - 57s 2s/step - loss: 1.0421 - R2: 0.6074 - val_loss: 1.4625 - val_R2: 0.5335\n",
      "Epoch 27/50\n",
      "37/37 [==============================] - 55s 1s/step - loss: 1.0420 - R2: 0.6031 - val_loss: 1.4513 - val_R2: 0.5277\n",
      "Epoch 28/50\n",
      "37/37 [==============================] - 55s 1s/step - loss: 1.0230 - R2: 0.6081 - val_loss: 1.4455 - val_R2: 0.4773\n",
      "Epoch 29/50\n",
      "37/37 [==============================] - 55s 1s/step - loss: 1.1160 - R2: 0.5748 - val_loss: 1.4723 - val_R2: 0.5343\n",
      "Epoch 30/50\n",
      "37/37 [==============================] - 55s 1s/step - loss: 0.9986 - R2: 0.6118 - val_loss: 1.4404 - val_R2: 0.5383\n",
      "Epoch 31/50\n",
      "37/37 [==============================] - 57s 2s/step - loss: 1.0046 - R2: 0.6163 - val_loss: 1.3918 - val_R2: 0.5167\n",
      "Epoch 32/50\n",
      "37/37 [==============================] - 55s 1s/step - loss: 0.9453 - R2: 0.6437 - val_loss: 1.4119 - val_R2: 0.5316\n",
      "Epoch 33/50\n",
      "37/37 [==============================] - 55s 1s/step - loss: 0.9262 - R2: 0.6455 - val_loss: 1.3741 - val_R2: 0.5183\n",
      "Epoch 34/50\n",
      "37/37 [==============================] - 56s 2s/step - loss: 0.9208 - R2: 0.6538 - val_loss: 1.3384 - val_R2: 0.5434\n",
      "Epoch 35/50\n",
      "37/37 [==============================] - 56s 2s/step - loss: 0.9342 - R2: 0.6390 - val_loss: 1.3708 - val_R2: 0.5578\n",
      "Epoch 36/50\n",
      "37/37 [==============================] - 56s 2s/step - loss: 0.9297 - R2: 0.6499 - val_loss: 1.3830 - val_R2: 0.5102\n",
      "Epoch 37/50\n",
      "37/37 [==============================] - 57s 2s/step - loss: 0.9021 - R2: 0.6527 - val_loss: 1.4656 - val_R2: 0.4694\n",
      "Epoch 38/50\n",
      "37/37 [==============================] - 57s 2s/step - loss: 0.8948 - R2: 0.6596 - val_loss: 1.3468 - val_R2: 0.5713\n",
      "Epoch 39/50\n",
      "37/37 [==============================] - 56s 2s/step - loss: 0.9295 - R2: 0.6447 - val_loss: 1.4215 - val_R2: 0.5237\n",
      "Epoch 40/50\n",
      "37/37 [==============================] - 55s 1s/step - loss: 0.8568 - R2: 0.6753 - val_loss: 1.2487 - val_R2: 0.5572\n",
      "Epoch 41/50\n",
      "37/37 [==============================] - 55s 1s/step - loss: 0.8655 - R2: 0.6749 - val_loss: 1.3941 - val_R2: 0.5359\n",
      "Epoch 42/50\n",
      "37/37 [==============================] - 55s 1s/step - loss: 0.9009 - R2: 0.6545 - val_loss: 1.3312 - val_R2: 0.5549\n",
      "Epoch 43/50\n",
      "37/37 [==============================] - 55s 1s/step - loss: 0.8408 - R2: 0.6830 - val_loss: 1.2809 - val_R2: 0.5785\n",
      "Epoch 44/50\n",
      "37/37 [==============================] - 55s 1s/step - loss: 0.8552 - R2: 0.6753 - val_loss: 1.2520 - val_R2: 0.5685\n",
      "Epoch 45/50\n",
      "37/37 [==============================] - 55s 1s/step - loss: 0.8634 - R2: 0.6673 - val_loss: 1.2550 - val_R2: 0.5866\n",
      "Epoch 46/50\n",
      "37/37 [==============================] - 55s 1s/step - loss: 0.8184 - R2: 0.6901 - val_loss: 1.2262 - val_R2: 0.5986\n",
      "Epoch 47/50\n",
      "37/37 [==============================] - 55s 1s/step - loss: 0.8738 - R2: 0.6654 - val_loss: 1.2898 - val_R2: 0.5869\n",
      "Epoch 48/50\n",
      "37/37 [==============================] - 56s 2s/step - loss: 0.8232 - R2: 0.6835 - val_loss: 1.1653 - val_R2: 0.6043\n",
      "Epoch 49/50\n",
      "37/37 [==============================] - 56s 2s/step - loss: 0.7705 - R2: 0.7044 - val_loss: 1.1345 - val_R2: 0.5755\n",
      "Epoch 50/50\n",
      "37/37 [==============================] - 55s 1s/step - loss: 0.7557 - R2: 0.7067 - val_loss: 1.1366 - val_R2: 0.5973\n"
     ]
    }
   ],
   "source": [
    "history = model_modif.fit(dgen_train, epochs=50, validation_data=dgen_test, callbacks=[mcp, ES,lr_reduce ])"
   ]
  },
  {
   "cell_type": "code",
   "execution_count": 48,
   "id": "8a5fb9ac",
   "metadata": {},
   "outputs": [],
   "source": [
    "X_test_eval = []\n",
    "y_t_eval = []\n",
    "for X_t, y_t in dgen_test:\n",
    "    X_test_eval = X_test_eval + [list(t) for t in X_t]\n",
    "    y_t_eval = y_t_eval + list(y_t)\n",
    "X_test_eval = np.array(X_test_eval)\n",
    "y_test = np.array(y_t_eval)"
   ]
  },
  {
   "cell_type": "code",
   "execution_count": 49,
   "id": "708377e4",
   "metadata": {},
   "outputs": [],
   "source": [
    "y_pred = model_modif.predict(X_test_eval)"
   ]
  },
  {
   "cell_type": "code",
   "execution_count": 50,
   "id": "ab600f92",
   "metadata": {},
   "outputs": [
    {
     "data": {
      "text/plain": [
       "0.6180913600054931"
      ]
     },
     "execution_count": 50,
     "metadata": {},
     "output_type": "execute_result"
    }
   ],
   "source": [
    "r2 = 1 - ((y_test - y_pred.reshape(-1)) ** 2).sum() / ((y_test - y_test.mean()) ** 2).sum()\n",
    "r2"
   ]
  },
  {
   "cell_type": "code",
   "execution_count": 51,
   "id": "f087f7c1",
   "metadata": {},
   "outputs": [],
   "source": [
    "filename_modif = 'models/embed_modif.h5'\n",
    "model_modif.save(filename_modif)"
   ]
  },
  {
   "cell_type": "code",
   "execution_count": null,
   "id": "268500c7",
   "metadata": {},
   "outputs": [],
   "source": []
  },
  {
   "cell_type": "markdown",
   "id": "5f683e18-c876-4f7c-93ea-a33d495dcdaa",
   "metadata": {},
   "source": [
    "# Load model (solo si se grabo el modelo)"
   ]
  },
  {
   "cell_type": "code",
   "execution_count": 52,
   "id": "285c8740-f0bb-4237-8593-ff9b815de0e3",
   "metadata": {},
   "outputs": [],
   "source": [
    "from tensorflow.keras.models import load_model"
   ]
  },
  {
   "cell_type": "code",
   "execution_count": 80,
   "id": "bba2e00b",
   "metadata": {},
   "outputs": [],
   "source": [
    "filename_modif = 'models/best_model_49.h5'"
   ]
  },
  {
   "cell_type": "code",
   "execution_count": 81,
   "id": "2168984f-770c-436e-92da-c1344b1d3abc",
   "metadata": {},
   "outputs": [],
   "source": [
    "model_loaded_modif = load_model(filename_modif, custom_objects={'R2': R2})"
   ]
  },
  {
   "cell_type": "code",
   "execution_count": 82,
   "id": "13a9d7d8-41e0-44a0-a8b9-02157a11f8f2",
   "metadata": {},
   "outputs": [],
   "source": [
    "y_pred = model_loaded_modif.predict(X_test_eval)"
   ]
  },
  {
   "cell_type": "code",
   "execution_count": 83,
   "id": "26c63493-3f25-4383-9654-58ee62aa3ae5",
   "metadata": {},
   "outputs": [
    {
     "data": {
      "text/plain": [
       "0.6187782636135004"
      ]
     },
     "execution_count": 83,
     "metadata": {},
     "output_type": "execute_result"
    }
   ],
   "source": [
    "r2 = 1 - ((y_test - y_pred.reshape(-1)) ** 2).sum() / ((y_test - y_test.mean()) ** 2).sum()\n",
    "r2"
   ]
  },
  {
   "cell_type": "markdown",
   "id": "7f1a6260-e31f-4e5e-a923-ce67bf31152f",
   "metadata": {},
   "source": [
    "# Evaluación"
   ]
  },
  {
   "cell_type": "code",
   "execution_count": 75,
   "id": "7dd9d7e6-2789-459e-b9dd-593e10847fc4",
   "metadata": {},
   "outputs": [
    {
     "data": {
      "text/plain": [
       "<function matplotlib.pyplot.show(*args, **kw)>"
      ]
     },
     "execution_count": 75,
     "metadata": {},
     "output_type": "execute_result"
    },
    {
     "data": {
      "image/png": "[encoded data removed]",
      "text/plain": [
       "<Figure size 500x500 with 1 Axes>"
      ]
     },
     "metadata": {},
     "output_type": "display_data"
    }
   ],
   "source": [
    "import seaborn as sns\n",
    "import matplotlib.pyplot as plt\n",
    "\n",
    "sns.set(color_codes=True)\n",
    "sns.set_style(\"white\")\n",
    "\n",
    "ax = sns.regplot(x=y_test, y=y_pred, scatter_kws={'alpha':0.4})\n",
    "ax.set_xlabel('Experimental pIC50', fontsize='large', fontweight='bold')\n",
    "ax.set_ylabel('Predicted pIC50', fontsize='large', fontweight='bold')\n",
    "ax.set_xlim(0, 12)\n",
    "ax.set_ylim(0, 12)\n",
    "ax.figure.set_size_inches(5, 5)\n",
    "plt.show"
   ]
  },
  {
   "cell_type": "markdown",
   "id": "b8f8a3fb",
   "metadata": {},
   "source": [
    "# Prueba adicional"
   ]
  },
  {
   "cell_type": "code",
   "execution_count": null,
   "id": "73efa37b",
   "metadata": {},
   "outputs": [],
   "source": []
  },
  {
   "cell_type": "code",
   "execution_count": 90,
   "id": "e0d28ff7",
   "metadata": {},
   "outputs": [],
   "source": [
    "from tensorflow.keras.layers import Dropout"
   ]
  },
  {
   "cell_type": "code",
   "execution_count": 241,
   "id": "8dcf6985",
   "metadata": {},
   "outputs": [],
   "source": [
    "def text_cnn_pa(sequence_length, vocab_size, embedding_size, filter_sizes, num_filters):\n",
    "    max_pool_div = 4\n",
    "    input_x = L.Input(shape=(sequence_length,), name='input_x')\n",
    "    embedding = L.Embedding(vocab_size + 1, embedding_size, name='embedding')(input_x)\n",
    "    pooled_outputs = []\n",
    "    for filter_size in filter_sizes:\n",
    "        conv = L.Conv1D(filters=num_filters, kernel_size=filter_size, padding='same', dilation_rate=1, activation='relu')(embedding)\n",
    "        max_p = L.MaxPool1D(64)(conv)\n",
    "        pooled_outputs.append(max_p)\n",
    "\n",
    "        conv = L.Conv1D(filters=num_filters, kernel_size=filter_size, padding='same', dilation_rate=1, activation='relu')(embedding)\n",
    "        max_p = L.MaxPool1D(64)(conv)\n",
    "        pooled_outputs.append(max_p)\n",
    "\n",
    "        \n",
    "    h_pool = L.Concatenate(axis=2)(pooled_outputs)\n",
    "    dense = L.Flatten()(h_pool)\n",
    "    dense = L.Dense(100, activation='relu')(dense)\n",
    "    dense = L.Dense(100, activation='relu')(dense)\n",
    "    dense = L.Dense(1)(dense)\n",
    "    model = tf.keras.models.Model(input_x, dense)\n",
    "    return model"
   ]
  },
  {
   "cell_type": "code",
   "execution_count": 242,
   "id": "09838816",
   "metadata": {},
   "outputs": [],
   "source": [
    "FILTER_SIZES = (4,4)\n",
    "NUM_FILTERS = 128\n",
    "vocab_size = len(smiles_dict)\n",
    "embeddings_size =  128"
   ]
  },
  {
   "cell_type": "code",
   "execution_count": 243,
   "id": "f0a5d59e",
   "metadata": {},
   "outputs": [
    {
     "name": "stdout",
     "output_type": "stream",
     "text": [
      "Model: \"functional_81\"\n",
      "__________________________________________________________________________________________________\n",
      "Layer (type)                    Output Shape         Param #     Connected to                     \n",
      "==================================================================================================\n",
      "input_x (InputLayer)            [(None, 227)]        0                                            \n",
      "__________________________________________________________________________________________________\n",
      "embedding (Embedding)           (None, 227, 128)     5504        input_x[0][0]                    \n",
      "__________________________________________________________________________________________________\n",
      "conv1d_160 (Conv1D)             (None, 227, 128)     65664       embedding[0][0]                  \n",
      "__________________________________________________________________________________________________\n",
      "conv1d_161 (Conv1D)             (None, 227, 128)     65664       embedding[0][0]                  \n",
      "__________________________________________________________________________________________________\n",
      "conv1d_162 (Conv1D)             (None, 227, 128)     65664       embedding[0][0]                  \n",
      "__________________________________________________________________________________________________\n",
      "conv1d_163 (Conv1D)             (None, 227, 128)     65664       embedding[0][0]                  \n",
      "__________________________________________________________________________________________________\n",
      "max_pooling1d_160 (MaxPooling1D (None, 3, 128)       0           conv1d_160[0][0]                 \n",
      "__________________________________________________________________________________________________\n",
      "max_pooling1d_161 (MaxPooling1D (None, 3, 128)       0           conv1d_161[0][0]                 \n",
      "__________________________________________________________________________________________________\n",
      "max_pooling1d_162 (MaxPooling1D (None, 3, 128)       0           conv1d_162[0][0]                 \n",
      "__________________________________________________________________________________________________\n",
      "max_pooling1d_163 (MaxPooling1D (None, 3, 128)       0           conv1d_163[0][0]                 \n",
      "__________________________________________________________________________________________________\n",
      "concatenate_40 (Concatenate)    (None, 3, 512)       0           max_pooling1d_160[0][0]          \n",
      "                                                                 max_pooling1d_161[0][0]          \n",
      "                                                                 max_pooling1d_162[0][0]          \n",
      "                                                                 max_pooling1d_163[0][0]          \n",
      "__________________________________________________________________________________________________\n",
      "flatten_40 (Flatten)            (None, 1536)         0           concatenate_40[0][0]             \n",
      "__________________________________________________________________________________________________\n",
      "dense_126 (Dense)               (None, 100)          153700      flatten_40[0][0]                 \n",
      "__________________________________________________________________________________________________\n",
      "dense_127 (Dense)               (None, 100)          10100       dense_126[0][0]                  \n",
      "__________________________________________________________________________________________________\n",
      "dense_128 (Dense)               (None, 1)            101         dense_127[0][0]                  \n",
      "==================================================================================================\n",
      "Total params: 432,061\n",
      "Trainable params: 432,061\n",
      "Non-trainable params: 0\n",
      "__________________________________________________________________________________________________\n"
     ]
    }
   ],
   "source": [
    "model_pa = text_cnn_pa(max_sequence_len, vocab_size, embeddings_size, FILTER_SIZES, NUM_FILTERS)\n",
    "model_pa.summary()"
   ]
  },
  {
   "cell_type": "code",
   "execution_count": 227,
   "id": "a422d7b3",
   "metadata": {},
   "outputs": [],
   "source": [
    "mcp = ModelCheckpoint('models/best_model_pa{epoch}.h5', save_best_only=True,mode=\"min\")\n",
    "lr_reduce = ReduceLROnPlateau(monitor='loss', \n",
    "                                   factor=0.2,\n",
    "                                   cooldown=0,\n",
    "                                   patience=5,\n",
    "                                   min_delta=0.01,\n",
    "                                   min_lr=1e-5)\n",
    "ES=EarlyStopping(monitor='val_loss',patience=10, restore_best_weights=True)"
   ]
  },
  {
   "cell_type": "code",
   "execution_count": 236,
   "id": "fb641b5f",
   "metadata": {},
   "outputs": [],
   "source": [
    "model_pa.compile(optimizer=Adam(learning_rate=0.001), loss='mse', metrics=[R2])"
   ]
  },
  {
   "cell_type": "code",
   "execution_count": 237,
   "id": "d078fd6a",
   "metadata": {},
   "outputs": [
    {
     "name": "stdout",
     "output_type": "stream",
     "text": [
      "Epoch 1/30\n",
      "37/37 [==============================] - 37s 998ms/step - loss: 8.5989 - R2: -2.4895 - val_loss: 3.0301 - val_R2: -0.0411\n",
      "Epoch 2/30\n",
      "37/37 [==============================] - 37s 987ms/step - loss: 2.4101 - R2: 0.0738 - val_loss: 2.5016 - val_R2: 0.1902\n",
      "Epoch 3/30\n",
      "37/37 [==============================] - 37s 988ms/step - loss: 2.1486 - R2: 0.1748 - val_loss: 2.3394 - val_R2: 0.1942\n",
      "Epoch 4/30\n",
      "37/37 [==============================] - 37s 992ms/step - loss: 2.0329 - R2: 0.2211 - val_loss: 2.2266 - val_R2: 0.2718\n",
      "Epoch 5/30\n",
      "37/37 [==============================] - 37s 994ms/step - loss: 1.9782 - R2: 0.2403 - val_loss: 2.1885 - val_R2: 0.2838\n",
      "Epoch 6/30\n",
      "37/37 [==============================] - 37s 991ms/step - loss: 1.8879 - R2: 0.2800 - val_loss: 2.1401 - val_R2: 0.2987\n",
      "Epoch 7/30\n",
      "37/37 [==============================] - 37s 993ms/step - loss: 1.7661 - R2: 0.3267 - val_loss: 2.0748 - val_R2: 0.3170\n",
      "Epoch 8/30\n",
      "37/37 [==============================] - 37s 992ms/step - loss: 1.7099 - R2: 0.3503 - val_loss: 2.0030 - val_R2: 0.3297\n",
      "Epoch 9/30\n",
      "37/37 [==============================] - 37s 990ms/step - loss: 1.6363 - R2: 0.3820 - val_loss: 1.9782 - val_R2: 0.3412\n",
      "Epoch 10/30\n",
      "37/37 [==============================] - 37s 989ms/step - loss: 1.6154 - R2: 0.3863 - val_loss: 1.9209 - val_R2: 0.3506\n",
      "Epoch 11/30\n",
      "37/37 [==============================] - 37s 990ms/step - loss: 1.6142 - R2: 0.3885 - val_loss: 1.8689 - val_R2: 0.3604\n",
      "Epoch 12/30\n",
      "37/37 [==============================] - 37s 997ms/step - loss: 1.5079 - R2: 0.4284 - val_loss: 1.8360 - val_R2: 0.3925\n",
      "Epoch 13/30\n",
      "37/37 [==============================] - 37s 995ms/step - loss: 1.4929 - R2: 0.4266 - val_loss: 1.7950 - val_R2: 0.3749\n",
      "Epoch 14/30\n",
      "37/37 [==============================] - 37s 990ms/step - loss: 1.4195 - R2: 0.4591 - val_loss: 1.7498 - val_R2: 0.4353\n",
      "Epoch 15/30\n",
      "37/37 [==============================] - 36s 986ms/step - loss: 1.3783 - R2: 0.4728 - val_loss: 1.7288 - val_R2: 0.4021\n",
      "Epoch 16/30\n",
      "37/37 [==============================] - 37s 990ms/step - loss: 1.4015 - R2: 0.4705 - val_loss: 1.7451 - val_R2: 0.4060\n",
      "Epoch 17/30\n",
      "37/37 [==============================] - 37s 993ms/step - loss: 1.2938 - R2: 0.5092 - val_loss: 1.6878 - val_R2: 0.4605\n",
      "Epoch 18/30\n",
      "37/37 [==============================] - 37s 991ms/step - loss: 1.3519 - R2: 0.4851 - val_loss: 1.6880 - val_R2: 0.4409\n",
      "Epoch 19/30\n",
      "37/37 [==============================] - 37s 989ms/step - loss: 1.2715 - R2: 0.5183 - val_loss: 1.7022 - val_R2: 0.4214\n",
      "Epoch 20/30\n",
      "37/37 [==============================] - 37s 996ms/step - loss: 1.2406 - R2: 0.5288 - val_loss: 1.7277 - val_R2: 0.4564\n",
      "Epoch 21/30\n",
      "37/37 [==============================] - 36s 986ms/step - loss: 1.2856 - R2: 0.5095 - val_loss: 1.7307 - val_R2: 0.3849\n",
      "Epoch 22/30\n",
      "37/37 [==============================] - 37s 988ms/step - loss: 1.1958 - R2: 0.5425 - val_loss: 1.6537 - val_R2: 0.4264\n",
      "Epoch 23/30\n",
      "37/37 [==============================] - 36s 985ms/step - loss: 1.2302 - R2: 0.5295 - val_loss: 1.8958 - val_R2: 0.3398\n",
      "Epoch 24/30\n",
      "37/37 [==============================] - 37s 987ms/step - loss: 1.1936 - R2: 0.5399 - val_loss: 1.6115 - val_R2: 0.4686\n",
      "Epoch 25/30\n",
      "37/37 [==============================] - 36s 972ms/step - loss: 1.1870 - R2: 0.5428 - val_loss: 1.6095 - val_R2: 0.4662\n",
      "Epoch 26/30\n",
      "37/37 [==============================] - 36s 974ms/step - loss: 1.1536 - R2: 0.5630 - val_loss: 1.5860 - val_R2: 0.4811\n",
      "Epoch 27/30\n",
      "37/37 [==============================] - 36s 976ms/step - loss: 1.1218 - R2: 0.5725 - val_loss: 1.5094 - val_R2: 0.5435\n",
      "Epoch 28/30\n",
      "37/37 [==============================] - 36s 979ms/step - loss: 1.1023 - R2: 0.5787 - val_loss: 1.5228 - val_R2: 0.5050\n",
      "Epoch 29/30\n",
      "37/37 [==============================] - 36s 970ms/step - loss: 1.0689 - R2: 0.5925 - val_loss: 1.5900 - val_R2: 0.5002\n",
      "Epoch 30/30\n",
      "37/37 [==============================] - 36s 974ms/step - loss: 1.1322 - R2: 0.5663 - val_loss: 1.8534 - val_R2: 0.4161\n"
     ]
    }
   ],
   "source": [
    "history = model_pa.fit(dgen_train, epochs=30, validation_data=dgen_test, callbacks=[mcp, ES,lr_reduce ])"
   ]
  },
  {
   "cell_type": "code",
   "execution_count": 238,
   "id": "a850456f",
   "metadata": {},
   "outputs": [],
   "source": [
    "X_test_eval = []\n",
    "y_t_eval = []\n",
    "for X_t, y_t in dgen_test:\n",
    "    X_test_eval = X_test_eval + [list(t) for t in X_t]\n",
    "    y_t_eval = y_t_eval + list(y_t)\n",
    "X_test_eval = np.array(X_test_eval)\n",
    "y_test = np.array(y_t_eval)"
   ]
  },
  {
   "cell_type": "code",
   "execution_count": 239,
   "id": "9dc5b98f",
   "metadata": {},
   "outputs": [],
   "source": [
    "y_pred = model_pa.predict(X_test_eval)"
   ]
  },
  {
   "cell_type": "markdown",
   "id": "a9838b86",
   "metadata": {},
   "source": [
    "# Score"
   ]
  },
  {
   "cell_type": "code",
   "execution_count": 240,
   "id": "4fb4be21",
   "metadata": {},
   "outputs": [
    {
     "data": {
      "text/plain": [
       "0.37722569135588446"
      ]
     },
     "execution_count": 240,
     "metadata": {},
     "output_type": "execute_result"
    }
   ],
   "source": [
    "r2 = 1 - ((y_test - y_pred.reshape(-1)) ** 2).sum() / ((y_test - y_test.mean()) ** 2).sum()\n",
    "r2"
   ]
  }
 ],
 "metadata": {
  "kernelspec": {
   "display_name": "Python 3 (ipykernel)",
   "language": "python",
   "name": "python3"
  },
  "language_info": {
   "codemirror_mode": {
    "name": "ipython",
    "version": 3
   },
   "file_extension": ".py",
   "mimetype": "text/x-python",
   "name": "python",
   "nbconvert_exporter": "python",
   "pygments_lexer": "ipython3",
   "version": "3.7.16"
  }
 },
 "nbformat": 4,
 "nbformat_minor": 5
}
